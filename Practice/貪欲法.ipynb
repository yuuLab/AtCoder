{
 "cells": [
  {
   "cell_type": "markdown",
   "metadata": {},
   "source": [
    "## 典型アルゴリズム　B"
   ]
  },
  {
   "cell_type": "code",
   "execution_count": null,
   "metadata": {},
   "outputs": [],
   "source": [
    "'''\n",
    "1. タスク（区間）をその終了日が早いものから順に並ぶようにソートしていく\n",
    "2. ソートしたタスクを順番に見ていく。見ているタスクが実行可能ならそのタスクを採用する\n",
    "'''\n",
    "\n",
    "N = int(input())\n",
    "BA = []\n",
    "for _ in range(N):\n",
    "    a, b = map(int, input().split())\n",
    "    BA.append([b, a])\n",
    "BA.sort()\n",
    "\n",
    "ans = 0\n",
    "last = 0\n",
    "for b, a in BA:\n",
    "    if last < a:\n",
    "        ans += 1\n",
    "        last = b\n",
    "        \n",
    "print(ans)"
   ]
  }
 ],
 "metadata": {
  "kernelspec": {
   "display_name": "Python 3",
   "language": "python",
   "name": "python3"
  },
  "language_info": {
   "codemirror_mode": {
    "name": "ipython",
    "version": 3
   },
   "file_extension": ".py",
   "mimetype": "text/x-python",
   "name": "python",
   "nbconvert_exporter": "python",
   "pygments_lexer": "ipython3",
   "version": "3.8.3"
  }
 },
 "nbformat": 4,
 "nbformat_minor": 4
}
