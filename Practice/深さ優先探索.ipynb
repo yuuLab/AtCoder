{
 "cells": [
  {
   "cell_type": "code",
   "execution_count": 4,
   "metadata": {},
   "outputs": [
    {
     "name": "stdin",
     "output_type": "stream",
     "text": [
      " 4 5\n",
      " s####\n",
      " ....#\n",
      " #####\n",
      " #...g\n"
     ]
    },
    {
     "name": "stdout",
     "output_type": "stream",
     "text": [
      "No\n"
     ]
    }
   ],
   "source": [
    "# 再帰上限を増やす\n",
    "import sys\n",
    "sys.setrecursionlimit(10**6)\n",
    "\n",
    "H, W = map(int, input().split())\n",
    "S = [input() for _ in range(H)]\n",
    "\n",
    "# 始点と終点の座標を探し、それぞれ(si, sj)と(gi, gj)とする\n",
    "for i in range(H):\n",
    "    for j in range(W):\n",
    "        if S[i][j] == 's':\n",
    "            si, sj = i, j\n",
    "        if S[i][j] == 'g':\n",
    "            gi, gj = i, j\n",
    "            \n",
    "# 訪問済かどうかを管理する2次元配列\n",
    "visited = [[False]*W for _ in range(H)]\n",
    "\n",
    "# 再帰関数dfsを定義する\n",
    "def dfs(i, j):\n",
    "    visited[i][j] = True\n",
    "    # 4方向のマスを探索する\n",
    "    for i2, j2 in [[i+1, j], [i-1, j], [i, j+1], [i, j-1]]:\n",
    "        # もし盤面の範囲内でなければ無視する\n",
    "        if not (0 <= i2 < H and 0 <= j2 < W):\n",
    "            continue\n",
    "        # もし壁ならば無視する\n",
    "        if S[i][j] == '#':\n",
    "            continue\n",
    "        # もし未訪問なら再帰的に呼び出す\n",
    "        if not visited[i2][j2]:\n",
    "            dfs(i2, j2)\n",
    "\n",
    "# 始点から呼び出す\n",
    "dfs(si, sj)\n",
    "\n",
    "# 終点が訪問済かどうかに応じてYesまたはNoを出力する\n",
    "if visited[gi][gj]:\n",
    "    print(\"Yes\")\n",
    "else:\n",
    "    print(\"No\")"
   ]
  },
  {
   "cell_type": "code",
   "execution_count": 2,
   "metadata": {},
   "outputs": [
    {
     "data": {
      "text/plain": [
       "['122', '232']"
      ]
     },
     "execution_count": 2,
     "metadata": {},
     "output_type": "execute_result"
    }
   ],
   "source": [
    "S"
   ]
  },
  {
   "cell_type": "code",
   "execution_count": null,
   "metadata": {},
   "outputs": [],
   "source": []
  }
 ],
 "metadata": {
  "kernelspec": {
   "display_name": "Python 3",
   "language": "python",
   "name": "python3"
  },
  "language_info": {
   "codemirror_mode": {
    "name": "ipython",
    "version": 3
   },
   "file_extension": ".py",
   "mimetype": "text/x-python",
   "name": "python",
   "nbconvert_exporter": "python",
   "pygments_lexer": "ipython3",
   "version": "3.8.3"
  }
 },
 "nbformat": 4,
 "nbformat_minor": 4
}
