{
 "cells": [
  {
   "cell_type": "markdown",
   "metadata": {},
   "source": [
    "# ABC-068 C"
   ]
  },
  {
   "cell_type": "code",
   "execution_count": 3,
   "metadata": {},
   "outputs": [
    {
     "name": "stdin",
     "output_type": "stream",
     "text": [
      " 100000 1\n",
      " 1 99999\n"
     ]
    },
    {
     "name": "stdout",
     "output_type": "stream",
     "text": [
      "IMPOSSIBLE\n"
     ]
    }
   ],
   "source": [
    "from collections import deque\n",
    "\n",
    "N, M = map(int, input().split())\n",
    "# グラフは隣接リストととして保持\n",
    "G = [[] for _ in range(N)]\n",
    "# グラフの辺を受け取る\n",
    "for _ in range(M):\n",
    "    ai, bi = map(int, input().split())\n",
    "    ai -= 1\n",
    "    bi -= 1\n",
    "    \n",
    "    # aiとbiの間に辺を張る\n",
    "    G[ai].append(bi)\n",
    "    G[bi].append(ai)\n",
    "    \n",
    "# グラフ上で幅優先探索を行い、頂点0から各頂点への距離を求める\n",
    "\n",
    "# 頂点0から各頂点への最短距離を保持する配列\n",
    "# N個の-1で満たしておく（-1は未訪問）\n",
    "dist = [-1 for _ in range(N)]\n",
    "\n",
    "Q = deque()\n",
    "Q.append(0)\n",
    "# 始点は距離0\n",
    "dist[0] = 0\n",
    "\n",
    "# 幅優先探索で各頂点への最小値を求める\n",
    "while len(Q) > 0:\n",
    "    i = Q.popleft()\n",
    "    \n",
    "    # 頂点iに隣接する頂点を順番に見る\n",
    "    for j in G[i]:\n",
    "        # jが未訪問だった場合、jへの最短距離を更新して、キューの末尾に追加する\n",
    "        if dist[j] == -1:\n",
    "            dist[j] = dist[i] + 1\n",
    "            Q.append(j)\n",
    "            \n",
    "if dist[N-1] == 2:\n",
    "    print('POSSIBLE')\n",
    "else:\n",
    "    print('IMPOSSIBLE')"
   ]
  },
  {
   "cell_type": "code",
   "execution_count": 2,
   "metadata": {},
   "outputs": [
    {
     "data": {
      "text/plain": [
       "[1, 1, 1, 1, 1, 1, 1, 1, 1, 1]"
      ]
     },
     "execution_count": 2,
     "metadata": {},
     "output_type": "execute_result"
    }
   ],
   "source": [
    "[1 for i in range(10)]"
   ]
  },
  {
   "cell_type": "code",
   "execution_count": null,
   "metadata": {},
   "outputs": [],
   "source": []
  }
 ],
 "metadata": {
  "kernelspec": {
   "display_name": "Python 3",
   "language": "python",
   "name": "python3"
  },
  "language_info": {
   "codemirror_mode": {
    "name": "ipython",
    "version": 3
   },
   "file_extension": ".py",
   "mimetype": "text/x-python",
   "name": "python",
   "nbconvert_exporter": "python",
   "pygments_lexer": "ipython3",
   "version": "3.8.3"
  }
 },
 "nbformat": 4,
 "nbformat_minor": 4
}
