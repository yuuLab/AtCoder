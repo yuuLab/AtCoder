{
 "cells": [
  {
   "cell_type": "markdown",
   "metadata": {},
   "source": [
    "# 巡回セールスマン"
   ]
  },
  {
   "cell_type": "code",
   "execution_count": 6,
   "metadata": {},
   "outputs": [
    {
     "name": "stdin",
     "output_type": "stream",
     "text": [
      " 4\n",
      " 0 3 1 4\n",
      " 1 0 5 9\n",
      " 2 6 0 5\n",
      " 3 5 8 0\n"
     ]
    },
    {
     "name": "stdout",
     "output_type": "stream",
     "text": [
      "cost[0|(1<<1)][1] = min(cost[0|(1<<1)][1], cost[0][0] + A[0][1])\n",
      "cost[0|(1<<2)][2] = min(cost[0|(1<<2)][2], cost[0][0] + A[0][2])\n",
      "cost[0|(1<<3)][3] = min(cost[0|(1<<3)][3], cost[0][0] + A[0][3])\n",
      "cost[0|(1<<0)][0] = min(cost[0|(1<<0)][0], cost[0][1] + A[1][0])\n",
      "cost[0|(1<<2)][2] = min(cost[0|(1<<2)][2], cost[0][1] + A[1][2])\n",
      "cost[0|(1<<3)][3] = min(cost[0|(1<<3)][3], cost[0][1] + A[1][3])\n",
      "cost[0|(1<<0)][0] = min(cost[0|(1<<0)][0], cost[0][2] + A[2][0])\n",
      "cost[0|(1<<1)][1] = min(cost[0|(1<<1)][1], cost[0][2] + A[2][1])\n",
      "cost[0|(1<<3)][3] = min(cost[0|(1<<3)][3], cost[0][2] + A[2][3])\n",
      "cost[0|(1<<0)][0] = min(cost[0|(1<<0)][0], cost[0][3] + A[3][0])\n",
      "cost[0|(1<<1)][1] = min(cost[0|(1<<1)][1], cost[0][3] + A[3][1])\n",
      "cost[0|(1<<2)][2] = min(cost[0|(1<<2)][2], cost[0][3] + A[3][2])\n",
      "cost[1|(1<<1)][1] = min(cost[1|(1<<1)][1], cost[1][0] + A[0][1])\n",
      "cost[1|(1<<2)][2] = min(cost[1|(1<<2)][2], cost[1][0] + A[0][2])\n",
      "cost[1|(1<<3)][3] = min(cost[1|(1<<3)][3], cost[1][0] + A[0][3])\n",
      "cost[1|(1<<2)][2] = min(cost[1|(1<<2)][2], cost[1][1] + A[1][2])\n",
      "cost[1|(1<<3)][3] = min(cost[1|(1<<3)][3], cost[1][1] + A[1][3])\n",
      "cost[1|(1<<1)][1] = min(cost[1|(1<<1)][1], cost[1][2] + A[2][1])\n",
      "cost[1|(1<<3)][3] = min(cost[1|(1<<3)][3], cost[1][2] + A[2][3])\n",
      "cost[1|(1<<1)][1] = min(cost[1|(1<<1)][1], cost[1][3] + A[3][1])\n",
      "cost[1|(1<<2)][2] = min(cost[1|(1<<2)][2], cost[1][3] + A[3][2])\n",
      "cost[2|(1<<2)][2] = min(cost[2|(1<<2)][2], cost[2][0] + A[0][2])\n",
      "cost[2|(1<<3)][3] = min(cost[2|(1<<3)][3], cost[2][0] + A[0][3])\n",
      "cost[2|(1<<0)][0] = min(cost[2|(1<<0)][0], cost[2][1] + A[1][0])\n",
      "cost[2|(1<<2)][2] = min(cost[2|(1<<2)][2], cost[2][1] + A[1][2])\n",
      "cost[2|(1<<3)][3] = min(cost[2|(1<<3)][3], cost[2][1] + A[1][3])\n",
      "cost[2|(1<<0)][0] = min(cost[2|(1<<0)][0], cost[2][2] + A[2][0])\n",
      "cost[2|(1<<3)][3] = min(cost[2|(1<<3)][3], cost[2][2] + A[2][3])\n",
      "cost[2|(1<<0)][0] = min(cost[2|(1<<0)][0], cost[2][3] + A[3][0])\n",
      "cost[2|(1<<2)][2] = min(cost[2|(1<<2)][2], cost[2][3] + A[3][2])\n",
      "cost[3|(1<<2)][2] = min(cost[3|(1<<2)][2], cost[3][0] + A[0][2])\n",
      "cost[3|(1<<3)][3] = min(cost[3|(1<<3)][3], cost[3][0] + A[0][3])\n",
      "cost[3|(1<<2)][2] = min(cost[3|(1<<2)][2], cost[3][1] + A[1][2])\n",
      "cost[3|(1<<3)][3] = min(cost[3|(1<<3)][3], cost[3][1] + A[1][3])\n",
      "cost[3|(1<<3)][3] = min(cost[3|(1<<3)][3], cost[3][2] + A[2][3])\n",
      "cost[3|(1<<2)][2] = min(cost[3|(1<<2)][2], cost[3][3] + A[3][2])\n",
      "cost[4|(1<<1)][1] = min(cost[4|(1<<1)][1], cost[4][0] + A[0][1])\n",
      "cost[4|(1<<3)][3] = min(cost[4|(1<<3)][3], cost[4][0] + A[0][3])\n",
      "cost[4|(1<<0)][0] = min(cost[4|(1<<0)][0], cost[4][1] + A[1][0])\n",
      "cost[4|(1<<3)][3] = min(cost[4|(1<<3)][3], cost[4][1] + A[1][3])\n",
      "cost[4|(1<<0)][0] = min(cost[4|(1<<0)][0], cost[4][2] + A[2][0])\n",
      "cost[4|(1<<1)][1] = min(cost[4|(1<<1)][1], cost[4][2] + A[2][1])\n",
      "cost[4|(1<<3)][3] = min(cost[4|(1<<3)][3], cost[4][2] + A[2][3])\n",
      "cost[4|(1<<0)][0] = min(cost[4|(1<<0)][0], cost[4][3] + A[3][0])\n",
      "cost[4|(1<<1)][1] = min(cost[4|(1<<1)][1], cost[4][3] + A[3][1])\n",
      "cost[5|(1<<1)][1] = min(cost[5|(1<<1)][1], cost[5][0] + A[0][1])\n",
      "cost[5|(1<<3)][3] = min(cost[5|(1<<3)][3], cost[5][0] + A[0][3])\n",
      "cost[5|(1<<3)][3] = min(cost[5|(1<<3)][3], cost[5][1] + A[1][3])\n",
      "cost[5|(1<<1)][1] = min(cost[5|(1<<1)][1], cost[5][2] + A[2][1])\n",
      "cost[5|(1<<3)][3] = min(cost[5|(1<<3)][3], cost[5][2] + A[2][3])\n",
      "cost[5|(1<<1)][1] = min(cost[5|(1<<1)][1], cost[5][3] + A[3][1])\n",
      "cost[6|(1<<3)][3] = min(cost[6|(1<<3)][3], cost[6][0] + A[0][3])\n",
      "cost[6|(1<<0)][0] = min(cost[6|(1<<0)][0], cost[6][1] + A[1][0])\n",
      "cost[6|(1<<3)][3] = min(cost[6|(1<<3)][3], cost[6][1] + A[1][3])\n",
      "cost[6|(1<<0)][0] = min(cost[6|(1<<0)][0], cost[6][2] + A[2][0])\n",
      "cost[6|(1<<3)][3] = min(cost[6|(1<<3)][3], cost[6][2] + A[2][3])\n",
      "cost[6|(1<<0)][0] = min(cost[6|(1<<0)][0], cost[6][3] + A[3][0])\n",
      "cost[7|(1<<3)][3] = min(cost[7|(1<<3)][3], cost[7][0] + A[0][3])\n",
      "cost[7|(1<<3)][3] = min(cost[7|(1<<3)][3], cost[7][1] + A[1][3])\n",
      "cost[7|(1<<3)][3] = min(cost[7|(1<<3)][3], cost[7][2] + A[2][3])\n",
      "cost[8|(1<<1)][1] = min(cost[8|(1<<1)][1], cost[8][0] + A[0][1])\n",
      "cost[8|(1<<2)][2] = min(cost[8|(1<<2)][2], cost[8][0] + A[0][2])\n",
      "cost[8|(1<<0)][0] = min(cost[8|(1<<0)][0], cost[8][1] + A[1][0])\n",
      "cost[8|(1<<2)][2] = min(cost[8|(1<<2)][2], cost[8][1] + A[1][2])\n",
      "cost[8|(1<<0)][0] = min(cost[8|(1<<0)][0], cost[8][2] + A[2][0])\n",
      "cost[8|(1<<1)][1] = min(cost[8|(1<<1)][1], cost[8][2] + A[2][1])\n",
      "cost[8|(1<<0)][0] = min(cost[8|(1<<0)][0], cost[8][3] + A[3][0])\n",
      "cost[8|(1<<1)][1] = min(cost[8|(1<<1)][1], cost[8][3] + A[3][1])\n",
      "cost[8|(1<<2)][2] = min(cost[8|(1<<2)][2], cost[8][3] + A[3][2])\n",
      "cost[9|(1<<1)][1] = min(cost[9|(1<<1)][1], cost[9][0] + A[0][1])\n",
      "cost[9|(1<<2)][2] = min(cost[9|(1<<2)][2], cost[9][0] + A[0][2])\n",
      "cost[9|(1<<2)][2] = min(cost[9|(1<<2)][2], cost[9][1] + A[1][2])\n",
      "cost[9|(1<<1)][1] = min(cost[9|(1<<1)][1], cost[9][2] + A[2][1])\n",
      "cost[9|(1<<1)][1] = min(cost[9|(1<<1)][1], cost[9][3] + A[3][1])\n",
      "cost[9|(1<<2)][2] = min(cost[9|(1<<2)][2], cost[9][3] + A[3][2])\n",
      "cost[10|(1<<2)][2] = min(cost[10|(1<<2)][2], cost[10][0] + A[0][2])\n",
      "cost[10|(1<<0)][0] = min(cost[10|(1<<0)][0], cost[10][1] + A[1][0])\n",
      "cost[10|(1<<2)][2] = min(cost[10|(1<<2)][2], cost[10][1] + A[1][2])\n",
      "cost[10|(1<<0)][0] = min(cost[10|(1<<0)][0], cost[10][2] + A[2][0])\n",
      "cost[10|(1<<0)][0] = min(cost[10|(1<<0)][0], cost[10][3] + A[3][0])\n",
      "cost[10|(1<<2)][2] = min(cost[10|(1<<2)][2], cost[10][3] + A[3][2])\n",
      "cost[11|(1<<2)][2] = min(cost[11|(1<<2)][2], cost[11][0] + A[0][2])\n",
      "cost[11|(1<<2)][2] = min(cost[11|(1<<2)][2], cost[11][1] + A[1][2])\n",
      "cost[11|(1<<2)][2] = min(cost[11|(1<<2)][2], cost[11][3] + A[3][2])\n",
      "cost[12|(1<<1)][1] = min(cost[12|(1<<1)][1], cost[12][0] + A[0][1])\n",
      "cost[12|(1<<0)][0] = min(cost[12|(1<<0)][0], cost[12][1] + A[1][0])\n",
      "cost[12|(1<<0)][0] = min(cost[12|(1<<0)][0], cost[12][2] + A[2][0])\n",
      "cost[12|(1<<1)][1] = min(cost[12|(1<<1)][1], cost[12][2] + A[2][1])\n",
      "cost[12|(1<<0)][0] = min(cost[12|(1<<0)][0], cost[12][3] + A[3][0])\n",
      "cost[12|(1<<1)][1] = min(cost[12|(1<<1)][1], cost[12][3] + A[3][1])\n",
      "cost[13|(1<<1)][1] = min(cost[13|(1<<1)][1], cost[13][0] + A[0][1])\n",
      "cost[13|(1<<1)][1] = min(cost[13|(1<<1)][1], cost[13][2] + A[2][1])\n",
      "cost[13|(1<<1)][1] = min(cost[13|(1<<1)][1], cost[13][3] + A[3][1])\n",
      "cost[14|(1<<0)][0] = min(cost[14|(1<<0)][0], cost[14][1] + A[1][0])\n",
      "cost[14|(1<<0)][0] = min(cost[14|(1<<0)][0], cost[14][2] + A[2][0])\n",
      "cost[14|(1<<0)][0] = min(cost[14|(1<<0)][0], cost[14][3] + A[3][0])\n",
      "12\n"
     ]
    }
   ],
   "source": [
    "'''\n",
    "cost[n][i]:すでに訪れた都市の集合がnであって、最後にいる都市がiであるときの、合計コストの最小値。\n",
    "たとえば、すでに都市2、3を訪れて、最後にいる都市が3の場合、集合{2, 3}は二進数で1100、つまり整数で12と表現することができるので、\n",
    "これはcost[12][3]に含まれる状態の一例となる。（訪れた都市に1が立つイメージ）\n",
    "ただし、初期状態では始点は集合には含めないのでcost[0][0]=0となる。\n",
    "遷移は次にどこを訪れるのかを全通り試す。このとき、すでに訪問済の都市には行かないようにする。\n",
    "'''\n",
    "N = int(input())\n",
    "A = [list(map(int, input().split())) for _ in range(N)]\n",
    "\n",
    "ALL = 1 << N\n",
    "def has_bit(n: int, i: int) -> bool:\n",
    "    return (n & (1 << i) > 0)\n",
    "\n",
    "cost = [[10**100]*N for _ in range(ALL)]\n",
    "\n",
    "# 初期条件\n",
    "cost[0][0] = 0\n",
    "\n",
    "for n in range(ALL):\n",
    "    for i in range(N):\n",
    "        # iからjに移動する遷移を試す\n",
    "        for j in range(N):\n",
    "            # すでに訪問済か、同じ都市は無視する\n",
    "            if has_bit(n, j) or i == j:\n",
    "                continue\n",
    "            cost[n|(1<<j)][j] = min(cost[n|(1<<j)][j], cost[n][i] + A[i][j])\n",
    "            print(f'cost[{n}|(1<<{j})][{j}] = min(cost[{n}|(1<<{j})][{j}], cost[{n}][{i}] + A[{i}][{j}])')\n",
    "            \n",
    "# 全都市を訪問して始点に戻ってくる最小のコストが答え\n",
    "print(cost[ALL-1][0])"
   ]
  },
  {
   "cell_type": "code",
   "execution_count": 7,
   "metadata": {},
   "outputs": [
    {
     "data": {
      "text/plain": [
       "2"
      ]
     },
     "execution_count": 7,
     "metadata": {},
     "output_type": "execute_result"
    }
   ],
   "source": [
    "1<<1"
   ]
  },
  {
   "cell_type": "code",
   "execution_count": 8,
   "metadata": {},
   "outputs": [
    {
     "data": {
      "text/plain": [
       "2"
      ]
     },
     "execution_count": 8,
     "metadata": {},
     "output_type": "execute_result"
    }
   ],
   "source": [
    "0|2"
   ]
  },
  {
   "cell_type": "code",
   "execution_count": 5,
   "metadata": {},
   "outputs": [
    {
     "data": {
      "text/plain": [
       "[[0, 3, 1, 4], [1, 0, 5, 9], [2, 6, 0, 5], [3, 5, 8, 0]]"
      ]
     },
     "execution_count": 5,
     "metadata": {},
     "output_type": "execute_result"
    }
   ],
   "source": [
    "A"
   ]
  },
  {
   "cell_type": "code",
   "execution_count": null,
   "metadata": {},
   "outputs": [],
   "source": []
  }
 ],
 "metadata": {
  "kernelspec": {
   "display_name": "Python 3",
   "language": "python",
   "name": "python3"
  },
  "language_info": {
   "codemirror_mode": {
    "name": "ipython",
    "version": 3
   },
   "file_extension": ".py",
   "mimetype": "text/x-python",
   "name": "python",
   "nbconvert_exporter": "python",
   "pygments_lexer": "ipython3",
   "version": "3.8.3"
  }
 },
 "nbformat": 4,
 "nbformat_minor": 4
}
