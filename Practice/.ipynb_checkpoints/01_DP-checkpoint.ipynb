{
 "cells": [
  {
   "cell_type": "markdown",
   "metadata": {},
   "source": [
    "# Frog1"
   ]
  },
  {
   "cell_type": "code",
   "execution_count": 41,
   "metadata": {},
   "outputs": [
    {
     "name": "stdin",
     "output_type": "stream",
     "text": [
      " 6\n",
      " 30 10 60 10 60 50\n"
     ]
    }
   ],
   "source": [
    "n = int(input())\n",
    "h = list(map(int, input().split()))"
   ]
  },
  {
   "cell_type": "code",
   "execution_count": 42,
   "metadata": {},
   "outputs": [
    {
     "name": "stdout",
     "output_type": "stream",
     "text": [
      "40\n"
     ]
    }
   ],
   "source": [
    "# 加算していくパターン\n",
    "dp = [float('inf')] * n\n",
    "dp[0] = 0\n",
    "for i in range(n):\n",
    "    if i == n - 1:\n",
    "        break\n",
    "    if i == n - 2:\n",
    "        move1 = abs(h[i+1] - h[i])\n",
    "        dp[i+1] = min(move1 + dp[i], dp[i+1])\n",
    "        continue\n",
    "    move1 = abs(h[i+1] - h[i])\n",
    "    move2 = abs(h[i+2] - h[i])\n",
    "    dp[i+1] = min(move1 + dp[i], dp[i+1])\n",
    "    dp[i+2] = min(move2 + dp[i], dp[i+2]) \n",
    "print(dp[-1])"
   ]
  },
  {
   "cell_type": "code",
   "execution_count": 44,
   "metadata": {},
   "outputs": [
    {
     "data": {
      "text/plain": [
       "40"
      ]
     },
     "execution_count": 44,
     "metadata": {},
     "output_type": "execute_result"
    }
   ],
   "source": [
    "# 再帰\n",
    "def get_min_cost(i: int) -> int:\n",
    "    if i == 0:\n",
    "        return 0\n",
    "    if dp[i] < float('inf'):\n",
    "        return dp[i]\n",
    "\n",
    "    dp[i] = min(dp[i], get_min_cost(i-1) + abs(h[i] - h[i-1]))\n",
    "    if i > 1:\n",
    "        dp[i] = min(dp[i], get_min_cost(i-2) + abs(h[i] - h[i-2]))\n",
    "    \n",
    "    return dp[i]\n",
    "    \n",
    "dp = [float('inf')] * n\n",
    "dp[0] = 0\n",
    "\n",
    "get_min_cost(n-1)"
   ]
  },
  {
   "cell_type": "markdown",
   "metadata": {},
   "source": [
    "# Frog2"
   ]
  },
  {
   "cell_type": "code",
   "execution_count": 90,
   "metadata": {},
   "outputs": [
    {
     "name": "stdin",
     "output_type": "stream",
     "text": [
      " 2 1\n",
      " 1 2\n"
     ]
    }
   ],
   "source": [
    "n, k = map(int, input().split())\n",
    "h = list(map(int, input().split()))"
   ]
  },
  {
   "cell_type": "code",
   "execution_count": 91,
   "metadata": {},
   "outputs": [
    {
     "name": "stdout",
     "output_type": "stream",
     "text": [
      "1\n"
     ]
    }
   ],
   "source": [
    "# 加算していくパターン\n",
    "dp = [float('inf')] * n\n",
    "dp[0] = 0\n",
    "for i in range(n):\n",
    "    for j in range(1, k+1):\n",
    "        if i+j < n:\n",
    "            cost = abs(h[i+j] - h[i])\n",
    "            dp[i+j] = min(cost + dp[i], dp[i+j])\n",
    "        else:\n",
    "            break\n",
    "print(dp[-1])"
   ]
  },
  {
   "cell_type": "code",
   "execution_count": null,
   "metadata": {},
   "outputs": [],
   "source": []
  }
 ],
 "metadata": {
  "kernelspec": {
   "display_name": "Python 3",
   "language": "python",
   "name": "python3"
  },
  "language_info": {
   "codemirror_mode": {
    "name": "ipython",
    "version": 3
   },
   "file_extension": ".py",
   "mimetype": "text/x-python",
   "name": "python",
   "nbconvert_exporter": "python",
   "pygments_lexer": "ipython3",
   "version": "3.8.3"
  }
 },
 "nbformat": 4,
 "nbformat_minor": 4
}
