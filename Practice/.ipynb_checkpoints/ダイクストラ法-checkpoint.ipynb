{
 "cells": [
  {
   "cell_type": "code",
   "execution_count": null,
   "metadata": {},
   "outputs": [],
   "source": [
    "import heapq\n",
    "\n",
    "N, M = map(int, input().split())\n"
   ]
  },
  {
   "cell_type": "code",
   "execution_count": null,
   "metadata": {},
   "outputs": [],
   "source": [
    "# キューではなくヒープを使用する\n",
    "import heapq\n",
    "\n",
    "\n",
    "from collections import deque\n",
    "N, M = map(int, input().split())\n",
    "\n",
    "# 隣接リスト\n",
    "E = [[] for _ in range(N)]\n",
    "\n",
    "# グラフの辺を受け取る\n",
    "for _ in range(0, M):\n",
    "    u, v, c = map(int, input().split())\n",
    "    # 街への道とかかった時間を保持\n",
    "    E[u].append((v, c))\n",
    "\n",
    "# グラフ上でダイクストラ法を実行して頂点0から各頂点への距離を求める\n",
    "\n",
    "# ヒープから一度取り出したことがあるかを保存する配列　ー＞　一度調べた頂点は見る必要がない\n",
    "# 最初はN個のFalseで埋めておく\n",
    "done = [False]*N\n",
    "\n",
    "dist = [-1]*N\n",
    "# ダイクストラ法で使うヒープ\n",
    "Q = []\n",
    "# 始点となる頂点0をヒープに追加しておく\n",
    "# （距離、頂点）として追加する\n",
    "heapq.heappush(Q, (0, 0))\n",
    "\n",
    "dist[0] = 0\n",
    "\n",
    "while len(Q) > 0:\n",
    "    # ヒープの頂点を取り出してiとする\n",
    "    d, i = heap.heappop(Q)\n",
    "    \n",
    "    # もし前にヒープから取り出したことがあれば、隣接する頂点を調べることをスキップ\n",
    "    if done[i]:\n",
    "        continue\n",
    "    \n",
    "    # 調査済\n",
    "    done[i] = True\n",
    "\n",
    "    # 頂点iに隣接する頂点を順番にみる\n",
    "    # 見ている頂点をjとする\n",
    "    for j in E[i]:\n",
    "        # この問題では辺の重みは常に1\n",
    "        x = 1\n",
    "        # jが未訪問だったとき、あるいはjへの最短距離が更新可能だったとき\n",
    "        # jへの最短距離を更新してヒープの末尾に追加する\n",
    "        if dist[j] == -1 or dist[j] > dist[i] + x:\n",
    "            dist[j] = dist[i] + x\n",
    "            heappush(Q, (dist[j], j))\n",
    "            \n",
    "if dist[N-1] == 2:\n",
    "    print(\"POSSIBLE\")\n",
    "else:\n",
    "    print(\"IMPOSSIBLE\")"
   ]
  }
 ],
 "metadata": {
  "kernelspec": {
   "display_name": "Python 3",
   "language": "python",
   "name": "python3"
  },
  "language_info": {
   "codemirror_mode": {
    "name": "ipython",
    "version": 3
   },
   "file_extension": ".py",
   "mimetype": "text/x-python",
   "name": "python",
   "nbconvert_exporter": "python",
   "pygments_lexer": "ipython3",
   "version": "3.8.3"
  }
 },
 "nbformat": 4,
 "nbformat_minor": 4
}
