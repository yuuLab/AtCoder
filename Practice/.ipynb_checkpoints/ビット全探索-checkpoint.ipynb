{
 "cells": [
  {
   "cell_type": "markdown",
   "metadata": {},
   "source": [
    "## ABC045-C"
   ]
  },
  {
   "cell_type": "code",
   "execution_count": 10,
   "metadata": {},
   "outputs": [
    {
     "name": "stdin",
     "output_type": "stream",
     "text": [
      " 1234\n"
     ]
    },
    {
     "name": "stdout",
     "output_type": "stream",
     "text": [
      "二進数表記 : 0b0\n",
      "1234\n",
      "二進数表記 : 0b1\n",
      "1+234\n",
      "二進数表記 : 0b10\n",
      "12+34\n",
      "二進数表記 : 0b11\n",
      "1+2+34\n",
      "二進数表記 : 0b100\n",
      "123+4\n",
      "二進数表記 : 0b101\n",
      "1+23+4\n",
      "二進数表記 : 0b110\n",
      "12+3+4\n",
      "二進数表記 : 0b111\n",
      "1+2+3+4\n",
      "1736\n"
     ]
    }
   ],
   "source": [
    "S = input()\n",
    "\n",
    "n = len(S) - 1\n",
    "all_sum = 0\n",
    "\n",
    "# 二進数表記で1が立っていたらTrue\n",
    "def has_bit(n ,i):\n",
    "    return n & (1<<i)\n",
    "\n",
    "\n",
    "for bit in range(1<<(n)):\n",
    "    print(f'二進数表記 : {bin(bit)}')\n",
    "    tmp = S[0]\n",
    "    for i in range(n):\n",
    "        if has_bit(bit, i):\n",
    "            tmp += '+'\n",
    "        tmp += S[i + 1]\n",
    "    print(tmp)\n",
    "    all_sum += eval(tmp)\n",
    "\n",
    "print(all_sum)"
   ]
  }
 ],
 "metadata": {
  "kernelspec": {
   "display_name": "Python 3",
   "language": "python",
   "name": "python3"
  },
  "language_info": {
   "codemirror_mode": {
    "name": "ipython",
    "version": 3
   },
   "file_extension": ".py",
   "mimetype": "text/x-python",
   "name": "python",
   "nbconvert_exporter": "python",
   "pygments_lexer": "ipython3",
   "version": "3.8.3"
  }
 },
 "nbformat": 4,
 "nbformat_minor": 4
}
