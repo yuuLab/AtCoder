{
 "cells": [
  {
   "cell_type": "markdown",
   "metadata": {},
   "source": [
    "## ABC045-C"
   ]
  },
  {
   "cell_type": "code",
   "execution_count": 10,
   "metadata": {},
   "outputs": [
    {
     "name": "stdin",
     "output_type": "stream",
     "text": [
      " 1234\n"
     ]
    },
    {
     "name": "stdout",
     "output_type": "stream",
     "text": [
      "二進数表記 : 0b0\n",
      "1234\n",
      "二進数表記 : 0b1\n",
      "1+234\n",
      "二進数表記 : 0b10\n",
      "12+34\n",
      "二進数表記 : 0b11\n",
      "1+2+34\n",
      "二進数表記 : 0b100\n",
      "123+4\n",
      "二進数表記 : 0b101\n",
      "1+23+4\n",
      "二進数表記 : 0b110\n",
      "12+3+4\n",
      "二進数表記 : 0b111\n",
      "1+2+3+4\n",
      "1736\n"
     ]
    }
   ],
   "source": [
    "S = input()\n",
    "\n",
    "n = len(S) - 1\n",
    "all_sum = 0\n",
    "\n",
    "# 二進数表記で1が立っていたらTrue\n",
    "def has_bit(n ,i):\n",
    "    return n & (1<<i)\n",
    "\n",
    "\n",
    "for bit in range(1<<(n)):\n",
    "    print(f'二進数表記 : {bin(bit)}')\n",
    "    tmp = S[0]\n",
    "    for i in range(n):\n",
    "        if has_bit(bit, i):\n",
    "            tmp += '+'\n",
    "        tmp += S[i + 1]\n",
    "    print(tmp)\n",
    "    all_sum += eval(tmp)\n",
    "\n",
    "print(all_sum)"
   ]
  },
  {
   "cell_type": "code",
   "execution_count": 17,
   "metadata": {},
   "outputs": [
    {
     "name": "stdin",
     "output_type": "stream",
     "text": [
      " 9999999999\n"
     ]
    },
    {
     "name": "stdout",
     "output_type": "stream",
     "text": [
      "12656242944\n"
     ]
    }
   ],
   "source": [
    "S = input()\n",
    "\n",
    "def has_bit(n, i):\n",
    "    return (n & (1 << i)) > 0\n",
    "\n",
    "N = len(S)-1\n",
    "ans = 0\n",
    "for n in range(1<<N):\n",
    "    formula = S[0]\n",
    "    for i in range(N):\n",
    "        if has_bit(n, i):\n",
    "            formula += '+'\n",
    "        formula += S[i]\n",
    "    ans += eval(formula)\n",
    "print(ans)"
   ]
  },
  {
   "cell_type": "markdown",
   "metadata": {},
   "source": [
    "# ABC167-C"
   ]
  },
  {
   "cell_type": "code",
   "execution_count": 7,
   "metadata": {},
   "outputs": [
    {
     "name": "stdin",
     "output_type": "stream",
     "text": [
      " 3 3 10\n",
      " 60 2 2 4\n",
      " 70 8 7 9\n",
      " 50 2 3 9\n"
     ]
    }
   ],
   "source": [
    "N, M, X = map(int, input().split())\n",
    "C = []\n",
    "A = []\n",
    "for i in range(N):\n",
    "    book = list(map(int, input().split()))\n",
    "    C.append(book[0])\n",
    "    A.append(book[1:])"
   ]
  },
  {
   "cell_type": "code",
   "execution_count": 11,
   "metadata": {},
   "outputs": [
    {
     "name": "stdout",
     "output_type": "stream",
     "text": [
      "120\n"
     ]
    }
   ],
   "source": [
    "# ビットのフラグ判断\n",
    "# 対象ビットが1の場合にTrueを返す\n",
    "def has_bit(n, i):\n",
    "    return (n & (1 << i)) > 0\n",
    "\n",
    "ans = float('INF')\n",
    "\n",
    "for n in range(1<<N):\n",
    "    # レベル（理解度）の保持用リスト\n",
    "    level = [0]*M\n",
    "    # 金額保持用\n",
    "    price = 0\n",
    "    for i in range(N):\n",
    "        # どの本を選ぶか。選んだ本に関する理解度と金額を計算する\n",
    "        if has_bit(n, i):\n",
    "            for j in range(M):\n",
    "                level[j] += A[i][j]\n",
    "            price += C[i]\n",
    "    # 理解度が基準以上の場合、比較して正解にセット        \n",
    "    if min(level) >= X:\n",
    "        ans = min(ans, price)\n",
    "\n",
    "# 初期値のままなら一度も条件は満たせなかったので-1\n",
    "if ans == float('INF'):\n",
    "    print(-1)\n",
    "else:\n",
    "    print(ans)"
   ]
  },
  {
   "cell_type": "markdown",
   "metadata": {},
   "source": [
    "## ABC147-C"
   ]
  },
  {
   "cell_type": "code",
   "execution_count": 1,
   "metadata": {},
   "outputs": [
    {
     "name": "stdin",
     "output_type": "stream",
     "text": [
      " 3\n",
      " 1\n",
      " 2 1\n",
      " 1\n",
      " 1 1\n",
      " 1\n",
      " 2 0\n"
     ]
    }
   ],
   "source": [
    "N = int(input())\n",
    "XY = []\n",
    "for i in range(N):\n",
    "    A = int(input())\n",
    "    xy = [list(map(int, input().split())) for _ in range(A)]\n",
    "    XY.append(xy)\n",
    "\n",
    "def has_bit(n, i):\n",
    "    return (n & (i << 1)) > 0\n",
    "\n",
    "ans = 0\n",
    "for n in range(1<<N):\n",
    "    tmp_ans = 0\n",
    "    evi = [-1]*N\n",
    "    for i in range(N):\n",
    "        isNG = False            \n",
    "        if has_bit(n, i):\n",
    "            comment = XY[i]\n",
    "            for x, y in comment:\n",
    "                x -= 1\n",
    "                if y == 1 and (evi[x] == -1 or evi[x] == 1):\n",
    "                    evi[x] = 1\n",
    "                elif y == 0 and (evi[x] == -1 or evi[x] == 0):\n",
    "                    evi[x] = 0\n",
    "                else:\n",
    "                    isNG = True\n",
    "                    break\n",
    "            if isNG:\n",
    "                tmp_ans = 0\n",
    "                break\n",
    "            else:\n",
    "                tmp_ans += 1\n",
    "    ans = max(ans, tmp_ans)\n",
    "print(ans)\n",
    "                "
   ]
  },
  {
   "cell_type": "code",
   "execution_count": 9,
   "metadata": {},
   "outputs": [
    {
     "name": "stdout",
     "output_type": "stream",
     "text": [
      "1\n"
     ]
    }
   ],
   "source": [
    "def has_bit(n, i):\n",
    "    return (n & (i << 1)) > 0\n",
    "\n",
    "ans = 0\n",
    "for n in range(1<<N):\n",
    "    tmp_ans = 0\n",
    "    evi = [-1]*N\n",
    "    for i in range(N):\n",
    "        isNG = False            \n",
    "        if has_bit(n, i):\n",
    "            comment = XY[i]\n",
    "            for x, y in comment:\n",
    "                x -= 1\n",
    "                if y == 1 and (evi[x] == -1 or evi[x] == 1):\n",
    "                    evi[x] == 1\n",
    "                elif y == 0 and (evi[x] == -1 or evi[x] == 0):\n",
    "                    evi[x] == 0\n",
    "                else:\n",
    "                    isNG = True\n",
    "                    break\n",
    "            if isNG:\n",
    "                tmp_ans = 0\n",
    "                break\n",
    "            else:\n",
    "                tmp_ans += 1\n",
    "    ans = max(ans, tmp_ans)\n",
    "print(ans)"
   ]
  },
  {
   "cell_type": "code",
   "execution_count": 7,
   "metadata": {},
   "outputs": [
    {
     "name": "stdout",
     "output_type": "stream",
     "text": [
      "2\n"
     ]
    }
   ],
   "source": [
    "print(ans)"
   ]
  },
  {
   "cell_type": "code",
   "execution_count": null,
   "metadata": {},
   "outputs": [],
   "source": []
  }
 ],
 "metadata": {
  "kernelspec": {
   "display_name": "Python 3",
   "language": "python",
   "name": "python3"
  },
  "language_info": {
   "codemirror_mode": {
    "name": "ipython",
    "version": 3
   },
   "file_extension": ".py",
   "mimetype": "text/x-python",
   "name": "python",
   "nbconvert_exporter": "python",
   "pygments_lexer": "ipython3",
   "version": "3.8.3"
  }
 },
 "nbformat": 4,
 "nbformat_minor": 4
}
