{
 "cells": [
  {
   "cell_type": "markdown",
   "metadata": {},
   "source": [
    "## question A"
   ]
  },
  {
   "cell_type": "code",
   "execution_count": 3,
   "metadata": {},
   "outputs": [
    {
     "name": "stdin",
     "output_type": "stream",
     "text": [
      " 1000\n"
     ]
    }
   ],
   "source": [
    "N = int(input())"
   ]
  },
  {
   "cell_type": "code",
   "execution_count": 4,
   "metadata": {},
   "outputs": [
    {
     "name": "stdout",
     "output_type": "stream",
     "text": [
      "100\n"
     ]
    }
   ],
   "source": [
    "ans = 100 - (N % 100)\n",
    "print(ans)"
   ]
  },
  {
   "cell_type": "markdown",
   "metadata": {},
   "source": [
    "## question B"
   ]
  },
  {
   "cell_type": "code",
   "execution_count": 11,
   "metadata": {},
   "outputs": [
    {
     "name": "stdin",
     "output_type": "stream",
     "text": [
      " eASY\n"
     ]
    }
   ],
   "source": [
    "S = input()"
   ]
  },
  {
   "cell_type": "code",
   "execution_count": 13,
   "metadata": {},
   "outputs": [
    {
     "name": "stdout",
     "output_type": "stream",
     "text": [
      "False\n",
      "True\n"
     ]
    }
   ],
   "source": [
    "index = 0\n",
    "for i in S:\n",
    "    if index % 2 == 0:\n",
    "        if not i.islower():\n",
    "            print('No')\n",
    "            exit()\n",
    "    else:\n",
    "        if i.islower():\n",
    "            print('No')\n",
    "            exit()\n",
    "    index += 1\n",
    "print('Yes')"
   ]
  },
  {
   "cell_type": "markdown",
   "metadata": {},
   "source": [
    "## question C"
   ]
  },
  {
   "cell_type": "code",
   "execution_count": 51,
   "metadata": {},
   "outputs": [
    {
     "name": "stdin",
     "output_type": "stream",
     "text": [
      " 6174 100000\n"
     ]
    }
   ],
   "source": [
    "N, K = map(int, input().split())"
   ]
  },
  {
   "cell_type": "code",
   "execution_count": null,
   "metadata": {},
   "outputs": [],
   "source": [
    "def f(num: int):\n",
    "    if num == 0:\n",
    "        return 0\n",
    "    \n",
    "    l = list(str(num))\n",
    "    l_desc = sorted(l, reverse=True)\n",
    "    l_desc_str = ''\n",
    "    for l_ in l_desc:\n",
    "        l_desc_str += l_\n",
    "\n",
    "    l_asc = sorted(l)\n",
    "    l_asc_str = ''\n",
    "    removeZero = True\n",
    "    for l_ in l_asc:\n",
    "        if removeZero and l_ == '0':\n",
    "            continue\n",
    "        else:\n",
    "            l_asc_str += l_\n",
    "            removeZero = False\n",
    "    num = int(l_desc_str) - int(l_asc_str) \n",
    "    return num\n",
    "\n",
    "a = N\n",
    "for i in range(K):\n",
    "    a = f(a)\n",
    "    if a == 0:\n",
    "        break\n",
    "print(a)\n",
    "\n",
    "\n",
    "\n",
    "# 模範回答\n",
    "def g1(n):\n",
    "    return int(''.join(sorted(str(n))[::-1]))\n",
    "def g2(n):\n",
    "    return int(''.join(sorted(str(n))))\n",
    "def f(n):\n",
    "    return g1(n)-g2(n)\n",
    "for _ in range(K):\n",
    "    N = f(N)\n",
    "print(N)"
   ]
  },
  {
   "cell_type": "markdown",
   "metadata": {},
   "source": [
    "## question D"
   ]
  },
  {
   "cell_type": "code",
   "execution_count": null,
   "metadata": {},
   "outputs": [],
   "source": []
  }
 ],
 "metadata": {
  "kernelspec": {
   "display_name": "Python 3",
   "language": "python",
   "name": "python3"
  },
  "language_info": {
   "codemirror_mode": {
    "name": "ipython",
    "version": 3
   },
   "file_extension": ".py",
   "mimetype": "text/x-python",
   "name": "python",
   "nbconvert_exporter": "python",
   "pygments_lexer": "ipython3",
   "version": "3.8.3"
  }
 },
 "nbformat": 4,
 "nbformat_minor": 4
}
