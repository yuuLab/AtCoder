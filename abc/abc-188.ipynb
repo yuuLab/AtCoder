{
 "cells": [
  {
   "cell_type": "markdown",
   "metadata": {},
   "source": [
    "## question01"
   ]
  },
  {
   "cell_type": "code",
   "execution_count": null,
   "metadata": {},
   "outputs": [],
   "source": [
    "X, Y = map(int, input().split())\n",
    "if X > Y :\n",
    "    if (X < Y + 3) :\n",
    "        print('Yes')\n",
    "    else :\n",
    "        print('No')\n",
    "else :\n",
    "    if (Y < X + 3):\n",
    "        print('Yes')\n",
    "    else:\n",
    "        print('No')"
   ]
  },
  {
   "cell_type": "markdown",
   "metadata": {},
   "source": [
    "## question02 "
   ]
  },
  {
   "cell_type": "code",
   "execution_count": null,
   "metadata": {},
   "outputs": [],
   "source": [
    "import numpy as np\n",
    "N = int(input())\n",
    "A = list(map(int, input().split()))\n",
    "B = list(map(int, input().split()))\n",
    "array = np.array(A)*np.array(B)\n",
    "dot = 0\n",
    "for i in array:\n",
    "    dot += i\n",
    "if dot == 0:\n",
    "    print('Yes')\n",
    "else :\n",
    "    print('No')"
   ]
  },
  {
   "cell_type": "markdown",
   "metadata": {},
   "source": [
    "## question03"
   ]
  },
  {
   "cell_type": "code",
   "execution_count": null,
   "metadata": {},
   "outputs": [],
   "source": [
    "N = int(input())\n",
    "players = list(map(int, input().split()))"
   ]
  },
  {
   "cell_type": "code",
   "execution_count": null,
   "metadata": {},
   "outputs": [],
   "source": [
    "def tournament(player_list):\n",
    "    left_block_winner = max(players[:2**(N-1)])\n",
    "    right_block_winner = max(players[2**(N-1):])\n",
    "    if left_block_winner < right_block_winner:\n",
    "        for i in range(len(player_list)):\n",
    "            if player_list[i] == left_block_winner:\n",
    "                print(i+1)\n",
    "    else:\n",
    "        for i in range(len(player_list)):\n",
    "            if player_list[i] == right_block_winner:\n",
    "                print(i+1) \n",
    "tournament(players)"
   ]
  },
  {
   "cell_type": "markdown",
   "metadata": {},
   "source": [
    "## qustion04"
   ]
  },
  {
   "cell_type": "code",
   "execution_count": null,
   "metadata": {},
   "outputs": [],
   "source": [
    "N, C = map(int, input().split())\n",
    "event = []\n",
    "for i in range(N):\n",
    "    a, b, c = map(int, input().split())\n",
    "    event.append((a, c))\n",
    "    event.append((b, -c))\n",
    "event.sort()\n",
    "event"
   ]
  },
  {
   "cell_type": "code",
   "execution_count": null,
   "metadata": {},
   "outputs": [],
   "source": [
    "ans = 0\n",
    "fee = 0\n",
    "t = 0\n",
    "for x, y in event:\n",
    "    if x != t:\n",
    "        ans += min(C, fee) * (x -t)\n",
    "        t = x\n",
    "    fee += y\n",
    "print(y)"
   ]
  }
 ],
 "metadata": {
  "kernelspec": {
   "display_name": "Python 3",
   "language": "python",
   "name": "python3"
  },
  "language_info": {
   "codemirror_mode": {
    "name": "ipython",
    "version": 3
   },
   "file_extension": ".py",
   "mimetype": "text/x-python",
   "name": "python",
   "nbconvert_exporter": "python",
   "pygments_lexer": "ipython3",
   "version": "3.8.3"
  }
 },
 "nbformat": 4,
 "nbformat_minor": 4
}
