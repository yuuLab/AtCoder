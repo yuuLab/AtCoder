{
 "cells": [
  {
   "cell_type": "markdown",
   "metadata": {},
   "source": [
    "# question A"
   ]
  },
  {
   "cell_type": "code",
   "execution_count": 8,
   "metadata": {},
   "outputs": [
    {
     "name": "stdin",
     "output_type": "stream",
     "text": [
      " 7 6\n"
     ]
    }
   ],
   "source": [
    "A, B = map(int, input().split())"
   ]
  },
  {
   "cell_type": "code",
   "execution_count": 9,
   "metadata": {},
   "outputs": [
    {
     "name": "stdout",
     "output_type": "stream",
     "text": [
      "14.28571428571429\n"
     ]
    }
   ],
   "source": [
    "print(100 * (1 - B / A))"
   ]
  },
  {
   "cell_type": "markdown",
   "metadata": {},
   "source": [
    "# question B"
   ]
  },
  {
   "cell_type": "code",
   "execution_count": 6,
   "metadata": {},
   "outputs": [
    {
     "name": "stdin",
     "output_type": "stream",
     "text": [
      " 3\n"
     ]
    }
   ],
   "source": [
    "N = int(input())"
   ]
  },
  {
   "cell_type": "code",
   "execution_count": 7,
   "metadata": {},
   "outputs": [
    {
     "name": "stdin",
     "output_type": "stream",
     "text": [
      " 5 9 5\n",
      " 6 8 5\n",
      " 7 7 5\n"
     ]
    },
    {
     "name": "stdout",
     "output_type": "stream",
     "text": [
      "-1\n"
     ]
    }
   ],
   "source": [
    "ans = float('inf')\n",
    "flag = False\n",
    "for _ in range(N):\n",
    "    A, P, X = map(int, input().split())\n",
    "    if X >= 1 and X - A >= 1:\n",
    "        if ans > P:\n",
    "            ans = P\n",
    "            flag = True\n",
    "if not flag:\n",
    "    ans = -1\n",
    "\n",
    "print(ans)"
   ]
  },
  {
   "cell_type": "markdown",
   "metadata": {},
   "source": [
    "# question C"
   ]
  },
  {
   "cell_type": "code",
   "execution_count": 26,
   "metadata": {},
   "outputs": [
    {
     "name": "stdin",
     "output_type": "stream",
     "text": [
      " 100000\n"
     ]
    }
   ],
   "source": [
    "N = int(input())"
   ]
  },
  {
   "cell_type": "code",
   "execution_count": 28,
   "metadata": {},
   "outputs": [
    {
     "name": "stdout",
     "output_type": "stream",
     "text": [
      "99634\n"
     ]
    }
   ],
   "source": [
    "import math\n",
    "temp = 0\n",
    "nums = set()\n",
    "for i in range(2, N):\n",
    "    if i**2 > N:\n",
    "        break\n",
    "    for j in range(2, N):\n",
    "        if i**j > N:\n",
    "            break\n",
    "        nums.add(i**j)\n",
    "print(N - len(nums))\n",
    "    "
   ]
  },
  {
   "cell_type": "code",
   "execution_count": null,
   "metadata": {},
   "outputs": [],
   "source": [
    "# 公式回答\n",
    "\n",
    "N = int(input())\n",
    "sq = int(N**0.5)\n",
    "s = set()\n",
    "for a in range(2, sq + 1):\n",
    "    x = a * a\n",
    "    while x <= N:\n",
    "        s.add(x)\n",
    "        x *= a\n",
    "print(N - len(s))"
   ]
  },
  {
   "cell_type": "code",
   "execution_count": 66,
   "metadata": {},
   "outputs": [],
   "source": [
    "def calc_score(nums):\n",
    "    score = 0\n",
    "    for i in range(1, 10):\n",
    "        score += i * 10 ** nums[i]\n",
    "    return score"
   ]
  },
  {
   "cell_type": "code",
   "execution_count": 2,
   "metadata": {},
   "outputs": [
    {
     "name": "stdin",
     "output_type": "stream",
     "text": [
      " 2\n",
      " 9988#\n",
      " 1122#\n"
     ]
    }
   ],
   "source": [
    "K = int(input())\n",
    "S = input()[:4]\n",
    "T = input()[:4]"
   ]
  },
  {
   "cell_type": "code",
   "execution_count": 5,
   "metadata": {},
   "outputs": [
    {
     "name": "stdout",
     "output_type": "stream",
     "text": [
      "1.0\n"
     ]
    }
   ],
   "source": [
    "cnt = [K] * 10\n",
    "for c in S:\n",
    "    cnt[int(c)] -= 1\n",
    "for c in T:\n",
    "    cnt[int(c)] -= 1\n",
    "    \n",
    "def score(S):\n",
    "    cnt = [0] * 10\n",
    "    for c in S:\n",
    "        cnt[int(c)] += 1\n",
    "    ans = 0\n",
    "    for i in range(1, 10):\n",
    "        ans += i * 10 ** cnt[i]\n",
    "    return ans\n",
    "\n",
    "ans = 0\n",
    "for i in range(1, 10):\n",
    "    if cnt[i] == 0:\n",
    "        continue\n",
    "    for j in range(1, 10):\n",
    "        if i == j or cnt[j] == 0:\n",
    "            continue\n",
    "        if score(S + str(i)) > score(T + str(j)):\n",
    "            ans += cnt[i] * cnt[j]\n",
    "            \n",
    "for i in range(1, 10):\n",
    "    if cnt[i] < 2:\n",
    "        continue\n",
    "    if score(S + str(i)) > score(T + str(i)):\n",
    "        ans += cnt[i] * (cnt[i] - 1)\n",
    "        \n",
    "N = 9 * K - 8\n",
    "print(ans / N / (N - 1))"
   ]
  },
  {
   "cell_type": "code",
   "execution_count": null,
   "metadata": {},
   "outputs": [],
   "source": []
  }
 ],
 "metadata": {
  "kernelspec": {
   "display_name": "Python 3",
   "language": "python",
   "name": "python3"
  },
  "language_info": {
   "codemirror_mode": {
    "name": "ipython",
    "version": 3
   },
   "file_extension": ".py",
   "mimetype": "text/x-python",
   "name": "python",
   "nbconvert_exporter": "python",
   "pygments_lexer": "ipython3",
   "version": "3.8.3"
  }
 },
 "nbformat": 4,
 "nbformat_minor": 4
}
