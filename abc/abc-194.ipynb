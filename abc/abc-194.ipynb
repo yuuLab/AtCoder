{
 "cells": [
  {
   "cell_type": "markdown",
   "metadata": {},
   "source": [
    "# question A"
   ]
  },
  {
   "cell_type": "code",
   "execution_count": 7,
   "metadata": {},
   "outputs": [
    {
     "name": "stdin",
     "output_type": "stream",
     "text": [
      " 0 0\n"
     ]
    }
   ],
   "source": [
    "a, B = map(int, input().split())\n",
    "A = a + B"
   ]
  },
  {
   "cell_type": "code",
   "execution_count": 8,
   "metadata": {},
   "outputs": [
    {
     "name": "stdout",
     "output_type": "stream",
     "text": [
      "4\n"
     ]
    }
   ],
   "source": [
    "if A >= 15 and B >= 8:\n",
    "    print(1)\n",
    "elif A >= 10 and B >= 3:\n",
    "    print(2)\n",
    "elif A >= 3:\n",
    "    print(3)\n",
    "else:\n",
    "    print(4)"
   ]
  },
  {
   "cell_type": "markdown",
   "metadata": {},
   "source": [
    "# question B"
   ]
  },
  {
   "cell_type": "code",
   "execution_count": 9,
   "metadata": {},
   "outputs": [
    {
     "name": "stdin",
     "output_type": "stream",
     "text": [
      " 3\n"
     ]
    }
   ],
   "source": [
    "n = int(input())\n",
    "a = [0 for i in range(n)]\n",
    "b = [0 for i in range(n)]\n",
    "\n",
    "for i in range(n):\n",
    "    a[i], b[i] = map(int, input().split())\n",
    "    \n",
    "res = 10**5\n",
    "for i in range(n):\n",
    "    for j in range(n):\n",
    "        res = min(res, a[i] + b[j] if i == j else max(a[i], b[j]))\n",
    "print(res)"
   ]
  },
  {
   "cell_type": "markdown",
   "metadata": {},
   "source": [
    "# question C"
   ]
  },
  {
   "cell_type": "code",
   "execution_count": 27,
   "metadata": {},
   "outputs": [
    {
     "name": "stdin",
     "output_type": "stream",
     "text": [
      " 5\n",
      " -5 8 9 -4 -3\n"
     ]
    }
   ],
   "source": [
    "n = int(input())\n",
    "A = list(map(int, input().split()))"
   ]
  },
  {
   "cell_type": "code",
   "execution_count": 32,
   "metadata": {},
   "outputs": [
    {
     "name": "stdout",
     "output_type": "stream",
     "text": [
      "950\n"
     ]
    }
   ],
   "source": [
    "mp = {}\n",
    "for i in range(n):\n",
    "    if A[i] in mp.keys():\n",
    "        mp[A[i]] += 1\n",
    "    else:\n",
    "        mp[A[i]] = 1\n",
    "key = list(mp.keys())\n",
    "\n",
    "key.sort()\n",
    "ans = 0\n",
    "for i in range(len(key)):\n",
    "    for j in range(i+1, len(key)):\n",
    "        if i != j:\n",
    "            ans += (key[j] - key[i])**2*(mp[key[i]*mp[key[j]]])\n",
    "print(ans)"
   ]
  },
  {
   "cell_type": "code",
   "execution_count": null,
   "metadata": {},
   "outputs": [],
   "source": []
  }
 ],
 "metadata": {
  "kernelspec": {
   "display_name": "Python 3",
   "language": "python",
   "name": "python3"
  },
  "language_info": {
   "codemirror_mode": {
    "name": "ipython",
    "version": 3
   },
   "file_extension": ".py",
   "mimetype": "text/x-python",
   "name": "python",
   "nbconvert_exporter": "python",
   "pygments_lexer": "ipython3",
   "version": "3.8.3"
  }
 },
 "nbformat": 4,
 "nbformat_minor": 4
}
