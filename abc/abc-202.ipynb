{
 "cells": [
  {
   "cell_type": "markdown",
   "metadata": {},
   "source": [
    "# A"
   ]
  },
  {
   "cell_type": "code",
   "execution_count": 3,
   "metadata": {},
   "outputs": [
    {
     "name": "stdin",
     "output_type": "stream",
     "text": [
      " 5 6 4\n"
     ]
    },
    {
     "name": "stdout",
     "output_type": "stream",
     "text": [
      "6\n"
     ]
    }
   ],
   "source": [
    "a, b, c = map(int, input().split())\n",
    "print(21 -(a + b + c))"
   ]
  },
  {
   "cell_type": "markdown",
   "metadata": {},
   "source": [
    "# B"
   ]
  },
  {
   "cell_type": "code",
   "execution_count": 6,
   "metadata": {},
   "outputs": [
    {
     "name": "stdin",
     "output_type": "stream",
     "text": [
      " 0601889\n"
     ]
    },
    {
     "name": "stdout",
     "output_type": "stream",
     "text": [
      "6881090\n"
     ]
    }
   ],
   "source": [
    "S = input()\n",
    "ans = \"\"\n",
    "for i in S[::-1]:\n",
    "    if i == '6':\n",
    "        ans += '9'\n",
    "    elif i == '9':\n",
    "        ans += '6'\n",
    "    else:\n",
    "        ans += i\n",
    "print(ans)"
   ]
  },
  {
   "cell_type": "markdown",
   "metadata": {},
   "source": [
    "# C"
   ]
  },
  {
   "cell_type": "code",
   "execution_count": 33,
   "metadata": {},
   "outputs": [
    {
     "name": "stdin",
     "output_type": "stream",
     "text": [
      " 4\n",
      " 1 1 1 1\n",
      " 1 1 1 1\n",
      " 1 2 3 4\n"
     ]
    }
   ],
   "source": [
    "N = int(input())\n",
    "A = list(map(int, input().split()))\n",
    "B = list(map(int, input().split()))\n",
    "C = list(map(int, input().split()))"
   ]
  },
  {
   "cell_type": "code",
   "execution_count": 34,
   "metadata": {},
   "outputs": [
    {
     "name": "stdout",
     "output_type": "stream",
     "text": [
      "[[4], [0], [0], [0]]\n",
      "16\n"
     ]
    }
   ],
   "source": [
    "l = [[0] for _ in range(N)]\n",
    "for i in range(N):\n",
    "    s = B[C[i]-1]\n",
    "    l[s-1][0] += 1\n",
    "ans = 0\n",
    "for i in range(N):\n",
    "    ans += l[A[i]-1][0]\n",
    "\n",
    "print(ans)"
   ]
  },
  {
   "cell_type": "markdown",
   "metadata": {},
   "source": [
    "# D"
   ]
  },
  {
   "cell_type": "code",
   "execution_count": 71,
   "metadata": {},
   "outputs": [
    {
     "name": "stdout",
     "output_type": "stream",
     "text": [
      "['1100', '1010', '1001', '110', '101', '11']\n",
      "baab\n"
     ]
    }
   ],
   "source": [
    "def cmb(n, k):\n",
    "    ret = 1\n",
    "    for i in range(1, k):\n",
    "        ret = ret * (n-i) // (i+1)\n",
    "    return ret\n",
    " \n",
    "def solve(a, b, k):\n",
    "    if k == 0:\n",
    "        return \"a\"*a + \"b\"*b\n",
    "    c = cmb(a+b-1, a-1)\n",
    "    if c > k:\n",
    "        return \"a\" + solve(a-1, b, k)\n",
    "    else:\n",
    "        return \"b\" + solve(a, b-1, k-c)\n",
    "\n",
    "\n",
    "a, b, k = map(int, input().split())\n",
    "print(solve(a, b, k-1))"
   ]
  }
 ],
 "metadata": {
  "kernelspec": {
   "display_name": "Python 3",
   "language": "python",
   "name": "python3"
  },
  "language_info": {
   "codemirror_mode": {
    "name": "ipython",
    "version": 3
   },
   "file_extension": ".py",
   "mimetype": "text/x-python",
   "name": "python",
   "nbconvert_exporter": "python",
   "pygments_lexer": "ipython3",
   "version": "3.8.5"
  }
 },
 "nbformat": 4,
 "nbformat_minor": 4
}
