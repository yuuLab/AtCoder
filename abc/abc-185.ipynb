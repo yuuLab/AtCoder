{
 "cells": [
  {
   "cell_type": "markdown",
   "metadata": {},
   "source": [
    "## question A"
   ]
  },
  {
   "cell_type": "code",
   "execution_count": 10,
   "metadata": {},
   "outputs": [
    {
     "name": "stdin",
     "output_type": "stream",
     "text": [
      " 100 100 1 100\n"
     ]
    }
   ],
   "source": [
    "A = list(map(int, input().split()))"
   ]
  },
  {
   "cell_type": "code",
   "execution_count": 11,
   "metadata": {},
   "outputs": [
    {
     "name": "stdout",
     "output_type": "stream",
     "text": [
      "1\n"
     ]
    }
   ],
   "source": [
    "if min(A) != 0:\n",
    "    print(min(A))\n",
    "else :\n",
    "    print(0)"
   ]
  },
  {
   "cell_type": "markdown",
   "metadata": {},
   "source": [
    "## question B"
   ]
  },
  {
   "cell_type": "code",
   "execution_count": 15,
   "metadata": {},
   "outputs": [
    {
     "name": "stdin",
     "output_type": "stream",
     "text": [
      " 2 3 4\n",
      " 1 4\n",
      " 3 4\n",
      " 4 4\n"
     ]
    },
    {
     "name": "stdout",
     "output_type": "stream",
     "text": [
      "Yes\n"
     ]
    }
   ],
   "source": [
    "n, m, t = map(int, input().split())\n",
    "\n",
    "now = 0\n",
    "battery = n\n",
    "ans = True\n",
    "for _ in range(m):\n",
    "    a, b = map(int, input().split())\n",
    "    use = a - now\n",
    "    battery -= use\n",
    "\n",
    "    if battery <= 0:\n",
    "        ans = False\n",
    "        break\n",
    "\n",
    "    charge = b - a\n",
    "    battery = min(n, battery + charge)\n",
    "    now = b\n",
    "\n",
    "use = t - now\n",
    "battery -= use\n",
    "if battery <= 0:\n",
    "    ans = False\n",
    "\n",
    "print('Yes') if ans else print('No')"
   ]
  },
  {
   "cell_type": "markdown",
   "metadata": {},
   "source": [
    "## question C"
   ]
  },
  {
   "cell_type": "code",
   "execution_count": 4,
   "metadata": {},
   "outputs": [
    {
     "name": "stdout",
     "output_type": "stream",
     "text": [
      "4368\n"
     ]
    }
   ],
   "source": [
    "from scipy.special import comb\n",
    "# comb : combination1が使用可能　引数exact=Falseで浮動小数店数Floatが返される。Trueの場合、整数intで返される\n",
    "\n",
    "L = int(input())\n",
    "ans = comb(L - 1, 11, exact=True)\n",
    "print(ans)"
   ]
  },
  {
   "cell_type": "markdown",
   "metadata": {},
   "source": [
    "## question D"
   ]
  },
  {
   "cell_type": "code",
   "execution_count": 2,
   "metadata": {},
   "outputs": [
    {
     "name": "stdin",
     "output_type": "stream",
     "text": [
      " 13 3\n",
      " 13 3 9\n"
     ]
    }
   ],
   "source": [
    "N, M = map(int, input().split())\n",
    "A = sorted(list(map(int, input().split())))"
   ]
  },
  {
   "cell_type": "code",
   "execution_count": 3,
   "metadata": {},
   "outputs": [
    {
     "name": "stdout",
     "output_type": "stream",
     "text": [
      "6\n"
     ]
    }
   ],
   "source": [
    "import math\n",
    "if M == N:\n",
    "    print(0)\n",
    "    exit()\n",
    "if M == 0 :\n",
    "    print(1)\n",
    "    exit()\n",
    "distance = [A[0] - 1] if A[0] -1 != 0 else []\n",
    "for i in range(len(A)):\n",
    "    if i == len(A) - 1:\n",
    "        m = N - A[i]\n",
    "        if m != 0 :\n",
    "            distance.append(m) \n",
    "    else:\n",
    "        m = A[i + 1] - A[i] - 1\n",
    "        if m != 0:\n",
    "            distance.append(m)\n",
    "            \n",
    "stamp = min(distance)\n",
    "\n",
    "ans = sum([math.ceil(i / stamp) for i in distance])\n",
    "print(ans)"
   ]
  },
  {
   "cell_type": "code",
   "execution_count": null,
   "metadata": {},
   "outputs": [],
   "source": []
  }
 ],
 "metadata": {
  "kernelspec": {
   "display_name": "Python 3",
   "language": "python",
   "name": "python3"
  },
  "language_info": {
   "codemirror_mode": {
    "name": "ipython",
    "version": 3
   },
   "file_extension": ".py",
   "mimetype": "text/x-python",
   "name": "python",
   "nbconvert_exporter": "python",
   "pygments_lexer": "ipython3",
   "version": "3.8.3"
  }
 },
 "nbformat": 4,
 "nbformat_minor": 4
}
