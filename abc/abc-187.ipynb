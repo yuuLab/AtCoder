{
 "cells": [
  {
   "cell_type": "markdown",
   "metadata": {},
   "source": [
    "## question a"
   ]
  },
  {
   "cell_type": "code",
   "execution_count": 13,
   "metadata": {},
   "outputs": [
    {
     "name": "stdin",
     "output_type": "stream",
     "text": [
      " 593 953\n"
     ]
    }
   ],
   "source": [
    "A, B = map(str, input().split())"
   ]
  },
  {
   "cell_type": "code",
   "execution_count": 14,
   "metadata": {},
   "outputs": [
    {
     "name": "stdout",
     "output_type": "stream",
     "text": [
      "17\n"
     ]
    }
   ],
   "source": [
    "a_sum = 0\n",
    "b_sum = 0\n",
    "for i in range(len(A)):\n",
    "    a_sum += int(A[i])\n",
    "for i in range(len(B)):\n",
    "    b_sum += int(B[i])\n",
    "if a_sum < b_sum:\n",
    "    print(b_sum)\n",
    "else:\n",
    "    print(a_sum)"
   ]
  },
  {
   "cell_type": "markdown",
   "metadata": {},
   "source": [
    "## question b"
   ]
  },
  {
   "cell_type": "code",
   "execution_count": 29,
   "metadata": {},
   "outputs": [
    {
     "name": "stdin",
     "output_type": "stream",
     "text": [
      " 10\n",
      " -31 -35\n",
      " 8 -36\n",
      " 22 64\n",
      " 5 73\n",
      " -14 8\n",
      " 18 -58\n",
      " -41 -85\n",
      " 1 -88\n",
      " -21 -85\n",
      " -11 82\n"
     ]
    }
   ],
   "source": [
    "N = int(input())\n",
    "M = [list(map(int, input().split())) for i in range(N)]"
   ]
  },
  {
   "cell_type": "code",
   "execution_count": 31,
   "metadata": {},
   "outputs": [
    {
     "name": "stdout",
     "output_type": "stream",
     "text": [
      "11\n"
     ]
    }
   ],
   "source": [
    "count = 0\n",
    "for i in range(len(M)):\n",
    "    for j in range(len(M)):\n",
    "        if i >= j:\n",
    "            continue\n",
    "        li = (M[j][1] - M[i][1]) / (M[j][0] - M[i][0])\n",
    "        if li <= 1 and li >= -1:\n",
    "            count += 1\n",
    "print(count)"
   ]
  },
  {
   "cell_type": "markdown",
   "metadata": {},
   "source": [
    "## question c"
   ]
  },
  {
   "cell_type": "code",
   "execution_count": 18,
   "metadata": {},
   "outputs": [
    {
     "name": "stdin",
     "output_type": "stream",
     "text": [
      " 6\n",
      " a\n",
      " !a\n",
      " fae\n",
      " fa\n",
      " dfa\n",
      " \n"
     ]
    }
   ],
   "source": [
    "N = int(input())\n",
    "# setを使用して重複は減らす、[in]で検索時の計算量削減\n",
    "S = set(input() for i in range(N))"
   ]
  },
  {
   "cell_type": "code",
   "execution_count": 20,
   "metadata": {},
   "outputs": [
    {
     "name": "stdout",
     "output_type": "stream",
     "text": [
      "a\n"
     ]
    }
   ],
   "source": [
    "exist = False\n",
    "for s in S:\n",
    "    if '!' + s in S:\n",
    "        print(s)\n",
    "        exist = True\n",
    "        break\n",
    "            \n",
    "if not exist:\n",
    "    print('satisfiable')"
   ]
  },
  {
   "cell_type": "markdown",
   "metadata": {},
   "source": [
    "## question d"
   ]
  },
  {
   "cell_type": "markdown",
   "metadata": {},
   "source": [
    "高橋氏が青木氏より多く票を獲得するためには、高橋氏の得る票数を増やし、青木氏の得る票数を減らすことが重要です。\n",
    "そこで、  \n",
    "X = (高橋氏の得る票数) − (青木氏の得る票数) と定義する  \n",
    "・i番目の街で演説をするとXは、2A+Bだけ増加する  \n",
    "・X > 0 になると高橋氏の勝利\n"
   ]
  },
  {
   "cell_type": "code",
   "execution_count": 1,
   "metadata": {},
   "outputs": [
    {
     "name": "stdin",
     "output_type": "stream",
     "text": [
      " 1\n",
      " 273 691\n"
     ]
    },
    {
     "name": "stdout",
     "output_type": "stream",
     "text": [
      "1\n"
     ]
    }
   ],
   "source": [
    "N = int(input())\n",
    "X = 0\n",
    "x = []\n",
    "for i in range(N):\n",
    "    A, B = map(int, input().split())\n",
    "    X -= A\n",
    "    x.append(A + A + B)\n",
    "x.sort()\n",
    "ans = 0\n",
    "while X <= 0:\n",
    "    X += x.pop()\n",
    "    ans += 1\n",
    "print(ans)\n"
   ]
  },
  {
   "cell_type": "code",
   "execution_count": null,
   "metadata": {},
   "outputs": [],
   "source": []
  }
 ],
 "metadata": {
  "kernelspec": {
   "display_name": "Python 3",
   "language": "python",
   "name": "python3"
  },
  "language_info": {
   "codemirror_mode": {
    "name": "ipython",
    "version": 3
   },
   "file_extension": ".py",
   "mimetype": "text/x-python",
   "name": "python",
   "nbconvert_exporter": "python",
   "pygments_lexer": "ipython3",
   "version": "3.8.3"
  }
 },
 "nbformat": 4,
 "nbformat_minor": 4
}
