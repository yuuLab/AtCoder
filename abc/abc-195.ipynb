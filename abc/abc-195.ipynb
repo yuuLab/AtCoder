{
 "cells": [
  {
   "cell_type": "markdown",
   "metadata": {},
   "source": [
    "# question A"
   ]
  },
  {
   "cell_type": "code",
   "execution_count": 7,
   "metadata": {},
   "outputs": [
    {
     "name": "stdin",
     "output_type": "stream",
     "text": [
      " 20 400\n"
     ]
    }
   ],
   "source": [
    "M, H = map(int, input().split())"
   ]
  },
  {
   "cell_type": "code",
   "execution_count": 8,
   "metadata": {},
   "outputs": [
    {
     "name": "stdout",
     "output_type": "stream",
     "text": [
      "Yes\n"
     ]
    }
   ],
   "source": [
    "if H % M == 0:\n",
    "    print('Yes')\n",
    "else :\n",
    "    print('No')"
   ]
  },
  {
   "cell_type": "markdown",
   "metadata": {},
   "source": [
    "# qustion B"
   ]
  },
  {
   "cell_type": "code",
   "execution_count": 39,
   "metadata": {},
   "outputs": [
    {
     "name": "stdin",
     "output_type": "stream",
     "text": [
      " 100 200 2\n"
     ]
    }
   ],
   "source": [
    "import math\n",
    "A, B, W = map(int, input().split())"
   ]
  },
  {
   "cell_type": "code",
   "execution_count": 40,
   "metadata": {},
   "outputs": [],
   "source": [
    "upper = int(math.floor(1000*W / A))\n",
    "lower = int(math.ceil(1000*W / B))\n",
    "\n",
    "if lower > upper:\n",
    "    print(\"UNSATISFIABLE\")\n",
    "else:\n",
    "    print(lower, upper)\n",
    "\n"
   ]
  },
  {
   "cell_type": "markdown",
   "metadata": {},
   "source": [
    "# question C"
   ]
  },
  {
   "cell_type": "code",
   "execution_count": 35,
   "metadata": {},
   "outputs": [
    {
     "name": "stdin",
     "output_type": "stream",
     "text": [
      " 27182818284590\n"
     ]
    }
   ],
   "source": [
    "N = int(input())"
   ]
  },
  {
   "cell_type": "code",
   "execution_count": 36,
   "metadata": {},
   "outputs": [
    {
     "name": "stdout",
     "output_type": "stream",
     "text": [
      "107730272137364\n"
     ]
    }
   ],
   "source": [
    "ans = 0\n",
    "if N < 1000:\n",
    "    print(ans)\n",
    "else:\n",
    "    i = 1000\n",
    "    while i <= N:\n",
    "        ans += N - i + 1\n",
    "        i = i * 1000\n",
    "    print(ans)"
   ]
  },
  {
   "cell_type": "markdown",
   "metadata": {},
   "source": [
    "# question D"
   ]
  },
  {
   "cell_type": "code",
   "execution_count": 3,
   "metadata": {},
   "outputs": [
    {
     "name": "stdin",
     "output_type": "stream",
     "text": [
      " 3 4 3\n",
      " 1 9\n",
      " 5 3\n",
      " 7 8\n",
      " 1 8 6 9\n"
     ]
    }
   ],
   "source": [
    "N, M, Q = map(int, input().split())\n",
    "w_v_list = [list(map(int, input().split())) for _ in range(N)]\n",
    "x = list(map(int, input().split()))"
   ]
  },
  {
   "cell_type": "code",
   "execution_count": 7,
   "metadata": {},
   "outputs": [
    {
     "name": "stdin",
     "output_type": "stream",
     "text": [
      " 4 4\n"
     ]
    },
    {
     "name": "stdout",
     "output_type": "stream",
     "text": [
      "20\n"
     ]
    },
    {
     "name": "stdin",
     "output_type": "stream",
     "text": [
      " 1 4\n"
     ]
    },
    {
     "name": "stdout",
     "output_type": "stream",
     "text": [
      "0\n"
     ]
    },
    {
     "name": "stdin",
     "output_type": "stream",
     "text": [
      " 1 3\n"
     ]
    },
    {
     "name": "stdout",
     "output_type": "stream",
     "text": [
      "9\n"
     ]
    }
   ],
   "source": [
    "for i in range(Q):\n",
    "    L, R = map(int, input().split())\n",
    "    l = x[:]\n",
    "    w_v_list_copy =  w_v_list[:]\n",
    "    for j in range(L-1, R):\n",
    "        l[j] = 0\n",
    "        l.sort()\n",
    "    max_val = 0\n",
    "    for w in l:\n",
    "        temp_max_val = 0\n",
    "        idx = -1\n",
    "        for k, w_v in enumerate(w_v_list_copy):\n",
    "            if w >= w_v[0]:\n",
    "                if temp_max_val < w_v[1]:\n",
    "                    temp_max_val = w_v[1]\n",
    "                    idx = k\n",
    "                    \n",
    "        max_val += temp_max_val\n",
    "        if idx != -1:\n",
    "            del w_v_list_copy[idx]\n",
    "        \n",
    "    print(max_val)"
   ]
  }
 ],
 "metadata": {
  "kernelspec": {
   "display_name": "Python 3",
   "language": "python",
   "name": "python3"
  },
  "language_info": {
   "codemirror_mode": {
    "name": "ipython",
    "version": 3
   },
   "file_extension": ".py",
   "mimetype": "text/x-python",
   "name": "python",
   "nbconvert_exporter": "python",
   "pygments_lexer": "ipython3",
   "version": "3.8.3"
  }
 },
 "nbformat": 4,
 "nbformat_minor": 4
}
