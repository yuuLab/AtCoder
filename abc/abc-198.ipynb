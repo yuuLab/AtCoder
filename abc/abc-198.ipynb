{
 "cells": [
  {
   "cell_type": "markdown",
   "metadata": {},
   "source": [
    "# A"
   ]
  },
  {
   "cell_type": "code",
   "execution_count": 1,
   "metadata": {},
   "outputs": [
    {
     "name": "stdin",
     "output_type": "stream",
     "text": [
      " 2\n"
     ]
    },
    {
     "name": "stdout",
     "output_type": "stream",
     "text": [
      "1\n"
     ]
    }
   ],
   "source": [
    "N = int(input())\n",
    "print(N-1)"
   ]
  },
  {
   "cell_type": "markdown",
   "metadata": {},
   "source": [
    "# B"
   ]
  },
  {
   "cell_type": "code",
   "execution_count": 14,
   "metadata": {},
   "outputs": [
    {
     "name": "stdout",
     "output_type": "stream",
     "text": [
      "0\n",
      "No\n",
      "1\n",
      "No\n",
      "2\n",
      "No\n",
      "3\n",
      "No\n",
      "Yes\n"
     ]
    }
   ],
   "source": [
    "N = input()\n",
    "idx = float('INF')\n",
    "for i in range(1, len(N)+1):\n",
    "    if N[-i] != '0':\n",
    "        break\n",
    "    idx = -(i)\n",
    "if idx != float('INF'):\n",
    "    N = N[:idx]\n",
    "for i in range(len(N)//2):\n",
    "    if N[i] != N[-i-1]:\n",
    "        print('No')\n",
    "        exit()\n",
    "print('Yes')"
   ]
  },
  {
   "cell_type": "markdown",
   "metadata": {},
   "source": [
    "# C"
   ]
  },
  {
   "cell_type": "code",
   "execution_count": 39,
   "metadata": {},
   "outputs": [
    {
     "name": "stdin",
     "output_type": "stream",
     "text": [
      " 4 0 1\n"
     ]
    },
    {
     "name": "stdout",
     "output_type": "stream",
     "text": [
      "2\n"
     ]
    }
   ],
   "source": [
    "R, X, Y = map(int, input().split())\n",
    "distance = (X**2 + Y**2)**0.5\n",
    "if distance % R == 0 :\n",
    "    print(int(distance//R))\n",
    "elif distance < R:\n",
    "    print(2)\n",
    "else:\n",
    "    print(int((distance//R) + 1))"
   ]
  }
 ],
 "metadata": {
  "kernelspec": {
   "display_name": "Python 3",
   "language": "python",
   "name": "python3"
  },
  "language_info": {
   "codemirror_mode": {
    "name": "ipython",
    "version": 3
   },
   "file_extension": ".py",
   "mimetype": "text/x-python",
   "name": "python",
   "nbconvert_exporter": "python",
   "pygments_lexer": "ipython3",
   "version": "3.8.3"
  }
 },
 "nbformat": 4,
 "nbformat_minor": 4
}
