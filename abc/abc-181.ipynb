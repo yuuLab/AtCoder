{
 "cells": [
  {
   "cell_type": "markdown",
   "metadata": {},
   "source": [
    "## question A"
   ]
  },
  {
   "cell_type": "code",
   "execution_count": 1,
   "metadata": {},
   "outputs": [
    {
     "output_type": "unknown"
    }
   ],
   "source": [
    "N = int(input())"
   ]
  },
  {
   "cell_type": "code",
   "execution_count": 2,
   "metadata": {},
   "outputs": [
    {
     "output_type": "unknown"
    }
   ],
   "source": [
    "if N % 2 == 0:\n",
    "    print('White')\n",
    "else:\n",
    "    print('Black')"
   ]
  },
  {
   "cell_type": "markdown",
   "metadata": {},
   "source": [
    "## question B"
   ]
  },
  {
   "cell_type": "code",
   "execution_count": 4,
   "metadata": {},
   "outputs": [
    {
     "output_type": "unknown"
    }
   ],
   "source": [
    "N = int(input())"
   ]
  },
  {
   "cell_type": "code",
   "execution_count": 7,
   "metadata": {},
   "outputs": [
    {
     "output_type": "unknown"
    },
    {
     "output_type": "unknown"
    }
   ],
   "source": [
    "from itertools import accumulate\n",
    "ans = 0\n",
    "l = [i for i in range(0, 10**6+1)]\n",
    "l_accu = list(accumulate(l))\n",
    "\n",
    "\n",
    "for _ in range(N):\n",
    "    A, B = map(int, input().split())\n",
    "    ans += l_accu[B] - l_accu[A-1]\n",
    "print(ans)"
   ]
  },
  {
   "cell_type": "markdown",
   "metadata": {},
   "source": [
    "## question C"
   ]
  },
  {
   "cell_type": "code",
   "execution_count": 2,
   "metadata": {},
   "outputs": [
    {
     "name": "stdin",
     "output_type": "stream",
     "text": [
      " 4\n",
      " 0 1\n",
      " 0 2\n",
      " 0 3\n",
      " 1 4\n"
     ]
    }
   ],
   "source": [
    "N = int(input())\n",
    "p = [tuple(map(int, input().split())) for i in range(N)]"
   ]
  },
  {
   "cell_type": "code",
   "execution_count": 10,
   "metadata": {},
   "outputs": [
    {
     "output_type": "unknown"
    }
   ],
   "source": [
    "for i in range(N):\n",
    "    for j in range(i):\n",
    "        for k in range(j):\n",
    "            x1, y1 = p[i]\n",
    "            x2, y2 = p[j]\n",
    "            x3, y3 = p[k]\n",
    "            \n",
    "            x1 -= x3\n",
    "            x2 -= x3\n",
    "            y1 -= y3\n",
    "            y2 -= y3\n",
    "            if x1 * y2 == x2 * y1\n",
    "            print('yes')\n",
    "            exit()\n",
    "print('No')"
   ]
  },
  {
   "cell_type": "markdown",
   "metadata": {},
   "source": [
    "# question D"
   ]
  },
  {
   "cell_type": "code",
   "execution_count": 19,
   "metadata": {},
   "outputs": [
    {
     "name": "stdout",
     "output_type": "stream",
     "text": [
      "Yes\n",
      "Yes\n",
      "No\n"
     ]
    }
   ],
   "source": [
    "from collections import Counter\n",
    "\n",
    "S = input()\n",
    "if len(S) <= 2:\n",
    "    if int(S) % 8 == 0 or int(S[::-1]) % 8 == 0:\n",
    "        print('Yes')\n",
    "    else: \n",
    "        print('No')\n",
    "    exit()\n",
    "    \n",
    "cnt = Counter(S)\n",
    "for i in range(112, 1000, 8):\n",
    "    if not Counter(str(i)) - cnt:\n",
    "        print('Yes')\n",
    "        exit()\n",
    "print('No')"
   ]
  },
  {
   "cell_type": "code",
   "execution_count": null,
   "metadata": {},
   "outputs": [],
   "source": []
  }
 ],
 "metadata": {
  "kernelspec": {
   "display_name": "Python 3",
   "language": "python",
   "name": "python3"
  },
  "language_info": {
   "codemirror_mode": {
    "name": "ipython",
    "version": 3
   },
   "file_extension": ".py",
   "mimetype": "text/x-python",
   "name": "python",
   "nbconvert_exporter": "python",
   "pygments_lexer": "ipython3",
   "version": "3.8.3"
  }
 },
 "nbformat": 4,
 "nbformat_minor": 4
}
