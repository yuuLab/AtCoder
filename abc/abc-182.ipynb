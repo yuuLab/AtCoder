{
 "cells": [
  {
   "cell_type": "markdown",
   "metadata": {},
   "source": [
    "## question A"
   ]
  },
  {
   "cell_type": "code",
   "execution_count": 5,
   "metadata": {},
   "outputs": [
    {
     "name": "stdin",
     "output_type": "stream",
     "text": [
      " 100 200\n"
     ]
    },
    {
     "name": "stdout",
     "output_type": "stream",
     "text": [
      "100\n"
     ]
    }
   ],
   "source": [
    "A, B = map(int, input().split())\n",
    "print((2*A + 100) - B)"
   ]
  },
  {
   "cell_type": "markdown",
   "metadata": {},
   "source": [
    "## question B"
   ]
  },
  {
   "cell_type": "code",
   "execution_count": 14,
   "metadata": {},
   "outputs": [
    {
     "name": "stdin",
     "output_type": "stream",
     "text": [
      " 5\n",
      " 8 9 18 90 72\n"
     ]
    }
   ],
   "source": [
    "N = int(input())\n",
    "A = list(map(int, input().split()))"
   ]
  },
  {
   "cell_type": "code",
   "execution_count": 21,
   "metadata": {},
   "outputs": [
    {
     "name": "stdout",
     "output_type": "stream",
     "text": [
      "2\n"
     ]
    }
   ],
   "source": [
    "ans = -1\n",
    "mx = 0\n",
    "\n",
    "for x in range(2, 1001):\n",
    "    s = sum(a % x == 0 for a in A)\n",
    "    if mx < s:\n",
    "        mx = s\n",
    "        ans = x\n",
    "        \n",
    "print(ans)"
   ]
  },
  {
   "cell_type": "markdown",
   "metadata": {},
   "source": [
    "## question C"
   ]
  },
  {
   "cell_type": "code",
   "execution_count": 22,
   "metadata": {},
   "outputs": [
    {
     "name": "stdin",
     "output_type": "stream",
     "text": [
      " 369\n"
     ]
    }
   ],
   "source": [
    "N = [int(x) for x in list(input())]"
   ]
  },
  {
   "cell_type": "code",
   "execution_count": 23,
   "metadata": {},
   "outputs": [
    {
     "name": "stdout",
     "output_type": "stream",
     "text": [
      "0\n"
     ]
    }
   ],
   "source": [
    "SUM = 0\n",
    "length = len(N)\n",
    "amari_1 = False\n",
    "amari_2 = False\n",
    "for n in N:\n",
    "    SUM += n\n",
    "    if n % 3 == 1:\n",
    "        amari_1 = True\n",
    "    if n % 3 == 2:\n",
    "        amari_2 = True\n",
    "\n",
    "if SUM % 3 == 0:\n",
    "    print(0)\n",
    "elif SUM % 3 == 1:\n",
    "    if length == 1:\n",
    "        print(-1)\n",
    "    elif amari_1:\n",
    "        print(1)\n",
    "    elif length == 2:\n",
    "        print(-1)\n",
    "    else:\n",
    "        print(2)\n",
    "else:\n",
    "    if length == 1:\n",
    "        print(-1)\n",
    "    elif amari_2:\n",
    "        print(1)\n",
    "    elif length == 2:\n",
    "        print(-1)\n",
    "    else:\n",
    "        print(2)"
   ]
  },
  {
   "cell_type": "code",
   "execution_count": null,
   "metadata": {},
   "outputs": [],
   "source": []
  }
 ],
 "metadata": {
  "kernelspec": {
   "display_name": "Python 3",
   "language": "python",
   "name": "python3"
  },
  "language_info": {
   "codemirror_mode": {
    "name": "ipython",
    "version": 3
   },
   "file_extension": ".py",
   "mimetype": "text/x-python",
   "name": "python",
   "nbconvert_exporter": "python",
   "pygments_lexer": "ipython3",
   "version": "3.8.3"
  }
 },
 "nbformat": 4,
 "nbformat_minor": 4
}
