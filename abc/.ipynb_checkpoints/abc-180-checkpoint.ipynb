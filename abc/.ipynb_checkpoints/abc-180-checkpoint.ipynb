{
 "cells": [
  {
   "cell_type": "markdown",
   "metadata": {},
   "source": [
    "## question A"
   ]
  },
  {
   "cell_type": "code",
   "execution_count": 2,
   "metadata": {},
   "outputs": [
    {
     "name": "stdin",
     "output_type": "stream",
     "text": [
      " 100 1 2\n"
     ]
    }
   ],
   "source": [
    "N, A, B = map(int, input().split())"
   ]
  },
  {
   "cell_type": "code",
   "execution_count": 3,
   "metadata": {},
   "outputs": [
    {
     "name": "stdout",
     "output_type": "stream",
     "text": [
      "101\n"
     ]
    }
   ],
   "source": [
    "print(N - A + B)"
   ]
  },
  {
   "cell_type": "markdown",
   "metadata": {},
   "source": [
    "## question B"
   ]
  },
  {
   "cell_type": "code",
   "execution_count": 5,
   "metadata": {},
   "outputs": [
    {
     "name": "stdin",
     "output_type": "stream",
     "text": [
      " 10\n",
      " 3 -1 -4 1 -5 9 2 -6 5 -3\n"
     ]
    }
   ],
   "source": [
    "N = int(input())\n",
    "X = list(map(int, input().split()))"
   ]
  },
  {
   "cell_type": "code",
   "execution_count": 6,
   "metadata": {},
   "outputs": [
    {
     "name": "stdout",
     "output_type": "stream",
     "text": [
      "39\n",
      "14.38749456993816\n",
      "9\n"
     ]
    }
   ],
   "source": [
    "manhattan = 0\n",
    "euclid = 0\n",
    "chebyshev = []\n",
    "\n",
    "for x in X:\n",
    "    manhattan += abs(x)\n",
    "    euclid += x**2\n",
    "    chebyshev.append(abs(x))\n",
    "\n",
    "    \n",
    "print(manhattan)\n",
    "print(euclid**0.5)\n",
    "print(max(chebyshev))"
   ]
  },
  {
   "cell_type": "markdown",
   "metadata": {},
   "source": [
    "# question C"
   ]
  },
  {
   "cell_type": "code",
   "execution_count": null,
   "metadata": {},
   "outputs": [],
   "source": [
    "N = int(input())"
   ]
  },
  {
   "cell_type": "markdown",
   "metadata": {},
   "source": [
    "# i = 1\n",
    "j = N**0.5\n",
    "ans = []\n",
    "if N == 1:\n",
    "    print(1)\n",
    "    exit()\n",
    "while i < j:\n",
    "    x = N / i\n",
    "    print(x)\n",
    "    if x.is_integer():\n",
    "        print(int(i))\n",
    "        j = x\n",
    "        ans.append(j)\n",
    "    i += 1\n",
    "\n",
    "print('-'*20)\n",
    "for i in ans[::-1]:\n",
    "    print(int(i))"
   ]
  },
  {
   "cell_type": "code",
   "execution_count": null,
   "metadata": {},
   "outputs": [],
   "source": [
    "ans"
   ]
  },
  {
   "cell_type": "code",
   "execution_count": null,
   "metadata": {},
   "outputs": [],
   "source": []
  },
  {
   "cell_type": "code",
   "execution_count": null,
   "metadata": {},
   "outputs": [],
   "source": []
  }
 ],
 "metadata": {
  "kernelspec": {
   "display_name": "Python 3",
   "language": "python",
   "name": "python3"
  },
  "language_info": {
   "codemirror_mode": {
    "name": "ipython",
    "version": 3
   },
   "file_extension": ".py",
   "mimetype": "text/x-python",
   "name": "python",
   "nbconvert_exporter": "python",
   "pygments_lexer": "ipython3",
   "version": "3.8.3"
  }
 },
 "nbformat": 4,
 "nbformat_minor": 4
}
