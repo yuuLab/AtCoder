{
 "cells": [
  {
   "cell_type": "markdown",
   "metadata": {},
   "source": [
    "# question C"
   ]
  },
  {
   "cell_type": "code",
   "execution_count": 1,
   "metadata": {},
   "outputs": [
    {
     "name": "stdin",
     "output_type": "stream",
     "text": [
      " 1000000000000000 1000000000000000 1000000000000000\n"
     ]
    }
   ],
   "source": [
    "X, K, D = map(int, input().split())"
   ]
  },
  {
   "cell_type": "code",
   "execution_count": 2,
   "metadata": {},
   "outputs": [
    {
     "name": "stdout",
     "output_type": "stream",
     "text": [
      "1000000000000000\n"
     ]
    }
   ],
   "source": [
    "# すべて一方向に移動してもゼロを超えれないなら、その最終到達点が解\n",
    "if abs(X) >= K * D:\n",
    "    print(abs(X) - K * D)\n",
    "    exit()\n",
    "    \n",
    "# 一番ゼロに近づくタイミング（ゼロは超えないで）\n",
    "q, mod = divmod(abs(X), D)\n",
    "# 残り移動回数\n",
    "moveCount = K - q\n",
    "# 残り移動回数が偶数なら今いる地点が解\n",
    "if moveCount % 2 == 0:\n",
    "    print(mod)\n",
    "# 残り移動回数が奇数ならゼロをちょうど一回跨いだ地点が解\n",
    "else:\n",
    "    print(abs(abs(X) - (D * (q + 1))))"
   ]
  },
  {
   "cell_type": "code",
   "execution_count": 5,
   "metadata": {},
   "outputs": [],
   "source": []
  },
  {
   "cell_type": "code",
   "execution_count": 6,
   "metadata": {},
   "outputs": [
    {
     "name": "stdout",
     "output_type": "stream",
     "text": [
      "2\n",
      "1\n"
     ]
    }
   ],
   "source": [
    "print(q)\n",
    "print(mod)"
   ]
  },
  {
   "cell_type": "code",
   "execution_count": 7,
   "metadata": {},
   "outputs": [
    {
     "data": {
      "text/plain": [
       "1000000000000000"
      ]
     },
     "execution_count": 7,
     "metadata": {},
     "output_type": "execute_result"
    }
   ],
   "source": [
    "10**15"
   ]
  },
  {
   "cell_type": "code",
   "execution_count": null,
   "metadata": {},
   "outputs": [],
   "source": []
  }
 ],
 "metadata": {
  "kernelspec": {
   "display_name": "Python 3",
   "language": "python",
   "name": "python3"
  },
  "language_info": {
   "codemirror_mode": {
    "name": "ipython",
    "version": 3
   },
   "file_extension": ".py",
   "mimetype": "text/x-python",
   "name": "python",
   "nbconvert_exporter": "python",
   "pygments_lexer": "ipython3",
   "version": "3.8.5"
  }
 },
 "nbformat": 4,
 "nbformat_minor": 4
}
