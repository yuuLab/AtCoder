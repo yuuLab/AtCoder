{
 "cells": [
  {
   "cell_type": "markdown",
   "metadata": {},
   "source": [
    "## question A"
   ]
  },
  {
   "cell_type": "code",
   "execution_count": 2,
   "metadata": {},
   "outputs": [
    {
     "name": "stdin",
     "output_type": "stream",
     "text": [
      " 10 3 5 20\n"
     ]
    }
   ],
   "source": [
    "V, T, S, D = map(int, input().split())"
   ]
  },
  {
   "cell_type": "code",
   "execution_count": 4,
   "metadata": {},
   "outputs": [
    {
     "name": "stdout",
     "output_type": "stream",
     "text": [
      "Yes\n"
     ]
    }
   ],
   "source": [
    "start = V * T\n",
    "end = V * S\n",
    "if start <= D <= end:\n",
    "    print('No')\n",
    "else :\n",
    "    print('Yes')"
   ]
  },
  {
   "cell_type": "markdown",
   "metadata": {},
   "source": [
    "## question B"
   ]
  },
  {
   "cell_type": "code",
   "execution_count": 5,
   "metadata": {},
   "outputs": [
    {
     "name": "stdin",
     "output_type": "stream",
     "text": [
      " 5 5\n",
      " 3 5 6 5 4\n"
     ]
    }
   ],
   "source": [
    "N, X = map(int, input().split())\n",
    "A = list(map(int, input().split()))"
   ]
  },
  {
   "cell_type": "code",
   "execution_count": 42,
   "metadata": {},
   "outputs": [
    {
     "name": "stdout",
     "output_type": "stream",
     "text": [
      "3 6 4\n"
     ]
    }
   ],
   "source": [
    "ans = []\n",
    "flag = False\n",
    "for i in range(N):\n",
    "    if A[i] != X:\n",
    "        ans.append(A[i])\n",
    "        flag = True\n",
    "if flag:\n",
    "    print(*ans)\n",
    "else:\n",
    "    print('')"
   ]
  },
  {
   "cell_type": "code",
   "execution_count": 6,
   "metadata": {},
   "outputs": [
    {
     "name": "stdout",
     "output_type": "stream",
     "text": [
      "3 6 4\n"
     ]
    }
   ],
   "source": [
    "# リスト内包表記\n",
    "print(*[a for a in A if a != X])"
   ]
  },
  {
   "cell_type": "markdown",
   "metadata": {},
   "source": [
    "## question C"
   ]
  },
  {
   "cell_type": "code",
   "execution_count": 7,
   "metadata": {},
   "outputs": [
    {
     "name": "stdin",
     "output_type": "stream",
     "text": [
      " 5 5\n",
      " .....\n",
      " .###.\n",
      " .###.\n",
      " .###.\n",
      " .....\n"
     ]
    }
   ],
   "source": [
    "H, W = map(int, input().split())\n",
    "L = [list(map(str, input())) for i in range(H)]"
   ]
  },
  {
   "cell_type": "code",
   "execution_count": 12,
   "metadata": {},
   "outputs": [
    {
     "name": "stdout",
     "output_type": "stream",
     "text": [
      "4\n"
     ]
    }
   ],
   "source": [
    "ans = 0\n",
    "for i in range(0, H-1):\n",
    "    for j in range(0, W-1):\n",
    "        count = 0\n",
    "        if L[i][j] == '#':\n",
    "            count += 1\n",
    "        if L[i][j+1] == '#':\n",
    "            count += 1   \n",
    "        if L[i+1][j] == '#':\n",
    "            count += 1\n",
    "        if L[i+1][j+1] == '#':\n",
    "            count += 1    \n",
    "        if count == 1 or count == 3:\n",
    "            ans += 1\n",
    "print(ans)"
   ]
  },
  {
   "cell_type": "code",
   "execution_count": 8,
   "metadata": {},
   "outputs": [
    {
     "data": {
      "text/plain": [
       "[['.', '.', '.', '.', '.'],\n",
       " ['.', '#', '#', '#', '.'],\n",
       " ['.', '#', '#', '#', '.'],\n",
       " ['.', '#', '#', '#', '.'],\n",
       " ['.', '.', '.', '.', '.']]"
      ]
     },
     "execution_count": 8,
     "metadata": {},
     "output_type": "execute_result"
    }
   ],
   "source": [
    "L"
   ]
  },
  {
   "cell_type": "markdown",
   "metadata": {},
   "source": [
    "## question D"
   ]
  },
  {
   "cell_type": "code",
   "execution_count": 37,
   "metadata": {},
   "outputs": [
    {
     "name": "stdin",
     "output_type": "stream",
     "text": [
      " 42782.4720 31949.0192 99999.99\n"
     ]
    }
   ],
   "source": [
    "from decimal import Decimal\n",
    "import math\n",
    "\n",
    "X, Y, R = [Decimal(x) for x in input().split()]"
   ]
  },
  {
   "cell_type": "code",
   "execution_count": 38,
   "metadata": {},
   "outputs": [
    {
     "name": "stdout",
     "output_type": "stream",
     "text": [
      "31415920098\n"
     ]
    }
   ],
   "source": [
    "x_max = math.floor(X + R) #切り捨て\n",
    "x_min = math.ceil(X - R) #切り上げ\n",
    "\n",
    "ans = 0\n",
    "# x座標（整数）に対応する円周上のy座標（2点）を円の公式から求め、その間に存在し、y座標が整数である個数を求めていく\n",
    "for x in range(x_min, x_max+1):\n",
    "    p = Decimal(R**2 - (x - X)**2).sqrt()\n",
    "    top = math.floor(Y + p)\n",
    "    bottom = math.ceil(Y - p)\n",
    "    ans += top - bottom + 1\n",
    "print(ans)"
   ]
  },
  {
   "cell_type": "code",
   "execution_count": null,
   "metadata": {},
   "outputs": [],
   "source": []
  }
 ],
 "metadata": {
  "kernelspec": {
   "display_name": "Python 3",
   "language": "python",
   "name": "python3"
  },
  "language_info": {
   "codemirror_mode": {
    "name": "ipython",
    "version": 3
   },
   "file_extension": ".py",
   "mimetype": "text/x-python",
   "name": "python",
   "nbconvert_exporter": "python",
   "pygments_lexer": "ipython3",
   "version": "3.8.5"
  }
 },
 "nbformat": 4,
 "nbformat_minor": 4
}
