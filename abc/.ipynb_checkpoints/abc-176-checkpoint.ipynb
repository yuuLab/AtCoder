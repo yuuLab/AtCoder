{
 "cells": [
  {
   "cell_type": "markdown",
   "metadata": {},
   "source": [
    "# A"
   ]
  },
  {
   "cell_type": "code",
   "execution_count": 3,
   "metadata": {},
   "outputs": [
    {
     "name": "stdin",
     "output_type": "stream",
     "text": [
      " 1000 1 1000\n"
     ]
    },
    {
     "name": "stdout",
     "output_type": "stream",
     "text": [
      "1000000\n"
     ]
    }
   ],
   "source": [
    "N, X, T = map(int, input().split())\n",
    "\n",
    "q, mod =  divmod(N, X)\n",
    "if mod == 0:\n",
    "    print(q*T)\n",
    "else:\n",
    "    print(q*T+T)"
   ]
  },
  {
   "cell_type": "markdown",
   "metadata": {},
   "source": [
    "# B"
   ]
  },
  {
   "cell_type": "code",
   "execution_count": 5,
   "metadata": {},
   "outputs": [
    {
     "name": "stdin",
     "output_type": "stream",
     "text": [
      " 31415926535897932384626433832795028841971693993751058209749445923078164062862089986280\n"
     ]
    },
    {
     "name": "stdout",
     "output_type": "stream",
     "text": [
      "No\n"
     ]
    }
   ],
   "source": [
    "N = input()\n",
    "total = 0\n",
    "for n in N:\n",
    "    total += int(n)\n",
    "if total % 9 == 0:\n",
    "    print('Yes')\n",
    "else:\n",
    "    print('No')"
   ]
  },
  {
   "cell_type": "markdown",
   "metadata": {},
   "source": [
    "# C"
   ]
  },
  {
   "cell_type": "code",
   "execution_count": 17,
   "metadata": {},
   "outputs": [
    {
     "name": "stdin",
     "output_type": "stream",
     "text": [
      " 5\n",
      " 3 3 3 3 3\n"
     ]
    },
    {
     "name": "stdout",
     "output_type": "stream",
     "text": [
      "0\n"
     ]
    }
   ],
   "source": [
    "N = int(input())\n",
    "A = list(map(int, input().split()))\n",
    "\n",
    "total = 0\n",
    "for i in range(1, N):\n",
    "    if A[i] < A[i-1]:\n",
    "        step = A[i-1] - A[i]\n",
    "        A[i] += step\n",
    "        total += step\n",
    "print(total)"
   ]
  },
  {
   "cell_type": "markdown",
   "metadata": {},
   "source": [
    "# D"
   ]
  },
  {
   "cell_type": "code",
   "execution_count": 18,
   "metadata": {},
   "outputs": [
    {
     "name": "stdin",
     "output_type": "stream",
     "text": [
      " 4 4\n",
      " 1 1\n",
      " 4 4\n",
      " ..#.\n",
      " ..#.\n",
      " .#..\n",
      " .#..\n"
     ]
    }
   ],
   "source": [
    "H, W = map(int, input().split())\n",
    "Ch, Cw = map(int, input().split())\n",
    "Dh, Dw = map(int, input().split())\n",
    "S = [input() for _ in range(H)]"
   ]
  },
  {
   "cell_type": "code",
   "execution_count": 39,
   "metadata": {},
   "outputs": [
    {
     "name": "stdout",
     "output_type": "stream",
     "text": [
      "-1\n"
     ]
    },
    {
     "ename": "IndexError",
     "evalue": "list index out of range",
     "output_type": "error",
     "traceback": [
      "\u001b[0;31m---------------------------------------------------------------------------\u001b[0m",
      "\u001b[0;31mIndexError\u001b[0m                                Traceback (most recent call last)",
      "\u001b[0;32m<ipython-input-39-28eeefc8f50e>\u001b[0m in \u001b[0;36m<module>\u001b[0;34m\u001b[0m\n\u001b[1;32m     10\u001b[0m \u001b[0mQ\u001b[0m \u001b[0;34m=\u001b[0m \u001b[0mdeque\u001b[0m\u001b[0;34m(\u001b[0m\u001b[0;34m)\u001b[0m\u001b[0;34m\u001b[0m\u001b[0;34m\u001b[0m\u001b[0m\n\u001b[1;32m     11\u001b[0m \u001b[0mQ\u001b[0m\u001b[0;34m.\u001b[0m\u001b[0mappend\u001b[0m\u001b[0;34m(\u001b[0m\u001b[0;34m[\u001b[0m\u001b[0mCh\u001b[0m\u001b[0;34m,\u001b[0m \u001b[0mCw\u001b[0m\u001b[0;34m]\u001b[0m\u001b[0;34m)\u001b[0m\u001b[0;34m\u001b[0m\u001b[0;34m\u001b[0m\u001b[0m\n\u001b[0;32m---> 12\u001b[0;31m \u001b[0mdist\u001b[0m\u001b[0;34m[\u001b[0m\u001b[0mCh\u001b[0m\u001b[0;34m]\u001b[0m\u001b[0;34m[\u001b[0m\u001b[0mCw\u001b[0m\u001b[0;34m]\u001b[0m \u001b[0;34m=\u001b[0m \u001b[0;36m0\u001b[0m\u001b[0;34m\u001b[0m\u001b[0;34m\u001b[0m\u001b[0m\n\u001b[0m\u001b[1;32m     13\u001b[0m \u001b[0;34m\u001b[0m\u001b[0m\n\u001b[1;32m     14\u001b[0m \u001b[0;32mdef\u001b[0m \u001b[0mmake_warp\u001b[0m\u001b[0;34m(\u001b[0m\u001b[0mi\u001b[0m\u001b[0;34m,\u001b[0m \u001b[0mj\u001b[0m\u001b[0;34m)\u001b[0m\u001b[0;34m:\u001b[0m\u001b[0;34m\u001b[0m\u001b[0;34m\u001b[0m\u001b[0m\n",
      "\u001b[0;31mIndexError\u001b[0m: list index out of range"
     ]
    }
   ],
   "source": [
    "from collections import deque\n",
    "\n",
    "Ch -= 1\n",
    "Cw -= 1\n",
    "Dh -= 1\n",
    "Dw -= 1\n",
    "\n",
    "dist = [[-1]*W for _ in range(H)]\n",
    "Q = deque()\n",
    "Q.append([Ch, Cw])\n",
    "dist[Ch][Cw] = 0\n",
    "\n",
    "def make_warp(i, j):\n",
    "    for k in range(-2, 3):\n",
    "        for l in range(-2, 3):\n",
    "            if (k==-1 and l==0) or (k==1 and l==0) or (k==0 and l==-1) or (k==0 and l==1):\n",
    "                continue\n",
    "            warp.append([i+k, j+l])\n",
    "    return warp\n",
    "\n",
    "\n",
    "while len(Q) > 0:\n",
    "    i, j = Q.popleft()\n",
    "    # 4つの隣りマス（コスト0）、魔法を使用したときの±2のマス（コスト1）を確認していく。\n",
    "    for i1, j1 in [[i+1, j], [i-1, j], [i, j+1], [i, j-1]]:\n",
    "        # もし盤面の範囲内でなければ無視\n",
    "        if not (0 <= i1 < H and 0 <= j1 < W):\n",
    "            continue\n",
    "        if S[i][j] == '#':\n",
    "            continue\n",
    "        if dist[i1][j1] == -1:\n",
    "            dist[i1][j1] == 0\n",
    "        Q.appendleft([i1, j1])\n",
    "    \n",
    "    warp = make_warp(i, j)\n",
    "    for i1, j1 in warp:\n",
    "        if not (0 <= i1 < H and 0 <= j2 < W):\n",
    "            continue\n",
    "        if S[i][j] == '#':\n",
    "            continue\n",
    "        if dist[i1][j1] == -1:\n",
    "            dist[i1][j1] == dist[i][j]+1\n",
    "        else:\n",
    "            dist[i1][j1] == min(dist[i1][j1], dist[i][j]+1)\n",
    "        Q.append([i1, j1])\n",
    "print(dist[Dh][Dw])"
   ]
  },
  {
   "cell_type": "code",
   "execution_count": 32,
   "metadata": {},
   "outputs": [
    {
     "data": {
      "text/plain": [
       "[[-2, -2],\n",
       " [-2, -1],\n",
       " [-2, 0],\n",
       " [-2, 1],\n",
       " [-2, 2],\n",
       " [-1, -2],\n",
       " [-1, -1],\n",
       " [-1, 1],\n",
       " [-1, 2],\n",
       " [0, -2],\n",
       " [0, 0],\n",
       " [0, 2],\n",
       " [1, -2],\n",
       " [1, -1],\n",
       " [1, 1],\n",
       " [1, 2],\n",
       " [2, -2],\n",
       " [2, -1],\n",
       " [2, 0],\n",
       " [2, 1],\n",
       " [2, 2]]"
      ]
     },
     "execution_count": 32,
     "metadata": {},
     "output_type": "execute_result"
    }
   ],
   "source": [
    "\n",
    "\n",
    "a = make_warp(0, 0)\n",
    "a"
   ]
  },
  {
   "cell_type": "code",
   "execution_count": null,
   "metadata": {},
   "outputs": [],
   "source": []
  }
 ],
 "metadata": {
  "kernelspec": {
   "display_name": "Python 3",
   "language": "python",
   "name": "python3"
  },
  "language_info": {
   "codemirror_mode": {
    "name": "ipython",
    "version": 3
   },
   "file_extension": ".py",
   "mimetype": "text/x-python",
   "name": "python",
   "nbconvert_exporter": "python",
   "pygments_lexer": "ipython3",
   "version": "3.8.3"
  }
 },
 "nbformat": 4,
 "nbformat_minor": 4
}
