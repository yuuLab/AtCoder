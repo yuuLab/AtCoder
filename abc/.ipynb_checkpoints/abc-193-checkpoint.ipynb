{
 "cells": [
  {
   "cell_type": "code",
   "execution_count": 8,
   "metadata": {},
   "outputs": [
    {
     "name": "stdin",
     "output_type": "stream",
     "text": [
      " 7 6\n"
     ]
    }
   ],
   "source": [
    "A, B = map(int, input().split())"
   ]
  },
  {
   "cell_type": "code",
   "execution_count": 9,
   "metadata": {},
   "outputs": [
    {
     "name": "stdout",
     "output_type": "stream",
     "text": [
      "14.28571428571429\n"
     ]
    }
   ],
   "source": [
    "print(100 * (1 - B / A))"
   ]
  },
  {
   "cell_type": "code",
   "execution_count": null,
   "metadata": {},
   "outputs": [],
   "source": []
  },
  {
   "cell_type": "code",
   "execution_count": null,
   "metadata": {},
   "outputs": [],
   "source": []
  },
  {
   "cell_type": "code",
   "execution_count": 6,
   "metadata": {},
   "outputs": [
    {
     "name": "stdin",
     "output_type": "stream",
     "text": [
      " 3\n"
     ]
    }
   ],
   "source": [
    "N = int(input())"
   ]
  },
  {
   "cell_type": "code",
   "execution_count": 7,
   "metadata": {},
   "outputs": [
    {
     "name": "stdin",
     "output_type": "stream",
     "text": [
      " 5 9 5\n",
      " 6 8 5\n",
      " 7 7 5\n"
     ]
    },
    {
     "name": "stdout",
     "output_type": "stream",
     "text": [
      "-1\n"
     ]
    }
   ],
   "source": [
    "ans = float('inf')\n",
    "flag = False\n",
    "for _ in range(N):\n",
    "    A, P, X = map(int, input().split())\n",
    "    if X >= 1 and X - A >= 1:\n",
    "        if ans > P:\n",
    "            ans = P\n",
    "            flag = True\n",
    "if not flag:\n",
    "    ans = -1\n",
    "\n",
    "print(ans)"
   ]
  },
  {
   "cell_type": "code",
   "execution_count": 19,
   "metadata": {},
   "outputs": [
    {
     "data": {
      "text/plain": [
       "9"
      ]
     },
     "execution_count": 19,
     "metadata": {},
     "output_type": "execute_result"
    }
   ],
   "source": [
    "int(9.9)"
   ]
  },
  {
   "cell_type": "code",
   "execution_count": 26,
   "metadata": {},
   "outputs": [
    {
     "name": "stdin",
     "output_type": "stream",
     "text": [
      " 100000\n"
     ]
    }
   ],
   "source": [
    "N = int(input())"
   ]
  },
  {
   "cell_type": "code",
   "execution_count": 28,
   "metadata": {},
   "outputs": [
    {
     "name": "stdout",
     "output_type": "stream",
     "text": [
      "99634\n"
     ]
    }
   ],
   "source": [
    "import math\n",
    "temp = 0\n",
    "nums = set()\n",
    "for i in range(2, N):\n",
    "    if i**2 > N:\n",
    "        break\n",
    "    for j in range(2, N):\n",
    "        if i**j > N:\n",
    "            break\n",
    "        nums.add(i**j)\n",
    "print(N - len(nums))\n",
    "    "
   ]
  },
  {
   "cell_type": "code",
   "execution_count": 22,
   "metadata": {},
   "outputs": [
    {
     "data": {
      "text/plain": [
       "set()"
      ]
     },
     "execution_count": 22,
     "metadata": {},
     "output_type": "execute_result"
    }
   ],
   "source": [
    "nums"
   ]
  },
  {
   "cell_type": "code",
   "execution_count": 23,
   "metadata": {},
   "outputs": [
    {
     "name": "stdout",
     "output_type": "stream",
     "text": [
      "2\n",
      "3\n",
      "4\n",
      "5\n",
      "6\n",
      "7\n"
     ]
    }
   ],
   "source": [
    "for i in range(2, 8):\n",
    "    print(i)"
   ]
  },
  {
   "cell_type": "code",
   "execution_count": null,
   "metadata": {},
   "outputs": [],
   "source": []
  },
  {
   "cell_type": "code",
   "execution_count": 66,
   "metadata": {},
   "outputs": [],
   "source": [
    "def calc_score(nums):\n",
    "    score = 0\n",
    "    for i in range(1, 10):\n",
    "        score += i * 10 ** nums[i]\n",
    "    return score"
   ]
  },
  {
   "cell_type": "code",
   "execution_count": 29,
   "metadata": {},
   "outputs": [
    {
     "name": "stdin",
     "output_type": "stream",
     "text": [
      " 2\n",
      " 1144#\n",
      " 2233#\n"
     ]
    }
   ],
   "source": [
    "K = int(input())\n",
    "S = input()\n",
    "T = input()\n"
   ]
  },
  {
   "cell_type": "code",
   "execution_count": 73,
   "metadata": {},
   "outputs": [],
   "source": [
    "s_num = [0]*10\n",
    "t_num = [0]*10"
   ]
  },
  {
   "cell_type": "code",
   "execution_count": 74,
   "metadata": {},
   "outputs": [
    {
     "name": "stdout",
     "output_type": "stream",
     "text": [
      "[0, 2, 0, 0, 2, 0, 0, 0, 0, 0]\n",
      "[0, 0, 2, 2, 0, 0, 0, 0, 0, 0]\n"
     ]
    }
   ],
   "source": [
    "for i in S:\n",
    "    if i == '#':\n",
    "        break\n",
    "    s_num[int(i)] += 1\n",
    "    \n",
    "for i in T:\n",
    "    if i == '#':\n",
    "        break\n",
    "    t_num[int(i)] += 1\n",
    "    \n",
    "print(s_num)\n",
    "print(t_num)"
   ]
  },
  {
   "cell_type": "code",
   "execution_count": 75,
   "metadata": {},
   "outputs": [],
   "source": [
    "import copy\n",
    "s_score_list = []\n",
    "t_score_list = []\n",
    "for i in range(1, 10):\n",
    "    s_temp = copy.copy(s_num)\n",
    "    t_temp = copy.copy(t_num)\n",
    "    s_temp[i] += 1\n",
    "    t_temp[i] += 1\n",
    "    \n",
    "    s_score_list.append(calc_score(s_temp))\n",
    "    t_score_list.append(calc_score(t_temp))"
   ]
  },
  {
   "cell_type": "code",
   "execution_count": 77,
   "metadata": {},
   "outputs": [
    {
     "name": "stdout",
     "output_type": "stream",
     "text": [
      "[1440, 558, 567, 4140, 585, 594, 603, 612, 621]\n",
      "[549, 2340, 3240, 576, 585, 594, 603, 612, 621]\n"
     ]
    }
   ],
   "source": [
    "print(s_score_list)\n",
    "print(t_score_list)"
   ]
  },
  {
   "cell_type": "code",
   "execution_count": null,
   "metadata": {},
   "outputs": [],
   "source": []
  }
 ],
 "metadata": {
  "kernelspec": {
   "display_name": "Python 3",
   "language": "python",
   "name": "python3"
  },
  "language_info": {
   "codemirror_mode": {
    "name": "ipython",
    "version": 3
   },
   "file_extension": ".py",
   "mimetype": "text/x-python",
   "name": "python",
   "nbconvert_exporter": "python",
   "pygments_lexer": "ipython3",
   "version": "3.8.3"
  }
 },
 "nbformat": 4,
 "nbformat_minor": 4
}
