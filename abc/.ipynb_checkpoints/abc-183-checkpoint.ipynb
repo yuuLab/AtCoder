{
 "cells": [
  {
   "cell_type": "markdown",
   "metadata": {},
   "source": [
    "## question A"
   ]
  },
  {
   "cell_type": "code",
   "execution_count": 1,
   "metadata": {},
   "outputs": [],
   "source": [
    "def Relu(x):\n",
    "    if x >= 0:\n",
    "        return x\n",
    "    else:\n",
    "        return 0"
   ]
  },
  {
   "cell_type": "code",
   "execution_count": 4,
   "metadata": {},
   "outputs": [
    {
     "name": "stdin",
     "output_type": "stream",
     "text": [
      " -1\n"
     ]
    },
    {
     "name": "stdout",
     "output_type": "stream",
     "text": [
      "0\n"
     ]
    }
   ],
   "source": [
    "X = int(input())\n",
    "print(Relu(X))"
   ]
  },
  {
   "cell_type": "markdown",
   "metadata": {},
   "source": [
    "## question B"
   ]
  },
  {
   "cell_type": "code",
   "execution_count": 11,
   "metadata": {},
   "outputs": [
    {
     "name": "stdin",
     "output_type": "stream",
     "text": [
      " -9 99 -999 9999\n"
     ]
    }
   ],
   "source": [
    "Sx, Sy, Gx, Gy = map(int, input().split())"
   ]
  },
  {
   "cell_type": "code",
   "execution_count": 31,
   "metadata": {},
   "outputs": [
    {
     "name": "stdout",
     "output_type": "stream",
     "text": [
      "-18.705882352941178\n"
     ]
    }
   ],
   "source": [
    "print((Sx*Gy+Gx*Sy)/(Sy+Gy))"
   ]
  },
  {
   "cell_type": "markdown",
   "metadata": {},
   "source": [
    "## question C"
   ]
  },
  {
   "cell_type": "code",
   "execution_count": 2,
   "metadata": {},
   "outputs": [
    {
     "name": "stdin",
     "output_type": "stream",
     "text": [
      " 4 330\n",
      " 0 1 10 100\n",
      " 1 0 20 200\n",
      " 10 20 0 300\n",
      " 100 200 300 0\n"
     ]
    }
   ],
   "source": [
    "N, K = map(int, input().split())\n",
    "T = [list(map(int, input().split())) for i in range(N)]"
   ]
  },
  {
   "cell_type": "code",
   "execution_count": 6,
   "metadata": {},
   "outputs": [
    {
     "name": "stdout",
     "output_type": "stream",
     "text": [
      "2\n"
     ]
    }
   ],
   "source": [
    "import itertools\n",
    " \n",
    "nums = list(range(1,N))\n",
    "ans = 0\n",
    "for index in itertools.permutations(nums):\n",
    "\tindex = [0]+list(index)\n",
    "\tti = 0\n",
    "\tfor i in range(N):\n",
    "\t\tti+=T[index[i]][index[(i+1)%N]]\n",
    "\tif ti==K:\n",
    "\t\tans+=1\n",
    "print(ans)"
   ]
  },
  {
   "cell_type": "code",
   "execution_count": 14,
   "metadata": {},
   "outputs": [
    {
     "name": "stdout",
     "output_type": "stream",
     "text": [
      "[0, 1, 2, 3]\n",
      "[0, 1, 3, 2]\n",
      "[0, 2, 1, 3]\n",
      "[0, 2, 3, 1]\n",
      "[0, 3, 1, 2]\n",
      "[0, 3, 2, 1]\n"
     ]
    }
   ],
   "source": [
    "nums = list(range(1,N))\n",
    "for index in itertools.permutations(nums):\n",
    "    print([0] + list(index))"
   ]
  },
  {
   "cell_type": "markdown",
   "metadata": {},
   "source": [
    "## question D"
   ]
  },
  {
   "cell_type": "code",
   "execution_count": null,
   "metadata": {},
   "outputs": [],
   "source": [
    "# 以下のコードではTLEになってしまう\n",
    "# N, W = map(int, input().split())\n",
    "# li = [0 for _ in range(0, 2*10**5)]\n",
    "# for i in range(N):\n",
    "#     S, T, P = map(int, input().split())\n",
    "#     li = [ li[i]+P if S <= i and i < T  else li[i] for i in range(len(li))]\n",
    "# if max(li) > W:\n",
    "#     print('No')\n",
    "# else:\n",
    "#     print('Yes')"
   ]
  },
  {
   "cell_type": "code",
   "execution_count": 3,
   "metadata": {},
   "outputs": [
    {
     "name": "stdin",
     "output_type": "stream",
     "text": [
      " 1 3 5\n",
      " 2 4 4\n",
      " 3 10 6\n",
      " 2 4 1\n"
     ]
    },
    {
     "name": "stdout",
     "output_type": "stream",
     "text": [
      "No\n"
     ]
    }
   ],
   "source": [
    "import itertools\n",
    "N, W = map(int, input().split())\n",
    "li = [0 for _ in range(0, 2*10**5 + 1)]\n",
    "for _ in range(N):\n",
    "    S, T, P = map(int, input().split())\n",
    "    # SでP増え、TでP減ると考える（いもす法）\n",
    "    li[S] += P\n",
    "    li[T] -= P\n",
    "li_accu = itertools.accumulate(li)\n",
    "if max(li_accu) > W:\n",
    "    print('No')\n",
    "else:\n",
    "    print('Yes')"
   ]
  }
 ],
 "metadata": {
  "kernelspec": {
   "display_name": "Python 3",
   "language": "python",
   "name": "python3"
  },
  "language_info": {
   "codemirror_mode": {
    "name": "ipython",
    "version": 3
   },
   "file_extension": ".py",
   "mimetype": "text/x-python",
   "name": "python",
   "nbconvert_exporter": "python",
   "pygments_lexer": "ipython3",
   "version": "3.8.3"
  }
 },
 "nbformat": 4,
 "nbformat_minor": 4
}
