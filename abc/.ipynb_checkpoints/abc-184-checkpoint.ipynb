{
 "cells": [
  {
   "cell_type": "markdown",
   "metadata": {},
   "source": [
    "## question A"
   ]
  },
  {
   "cell_type": "code",
   "execution_count": 1,
   "metadata": {},
   "outputs": [],
   "source": [
    "import numpy as np"
   ]
  },
  {
   "cell_type": "code",
   "execution_count": 6,
   "metadata": {},
   "outputs": [
    {
     "name": "stdin",
     "output_type": "stream",
     "text": [
      " 100 100\n",
      " 100 100\n"
     ]
    }
   ],
   "source": [
    "a, b = map(int, input().split())\n",
    "c, d = map(int, input().split())"
   ]
  },
  {
   "cell_type": "code",
   "execution_count": 7,
   "metadata": {},
   "outputs": [
    {
     "name": "stdout",
     "output_type": "stream",
     "text": [
      "0\n"
     ]
    }
   ],
   "source": [
    "print(a*d - b*c)"
   ]
  },
  {
   "cell_type": "markdown",
   "metadata": {},
   "source": [
    "## question B"
   ]
  },
  {
   "cell_type": "code",
   "execution_count": 16,
   "metadata": {},
   "outputs": [
    {
     "name": "stdin",
     "output_type": "stream",
     "text": [
      " 20 10\n",
      " xxxxxxxxxxxxxxxxxxxx\n"
     ]
    }
   ],
   "source": [
    "N, X = map(int, input().split())\n",
    "S = input()"
   ]
  },
  {
   "cell_type": "code",
   "execution_count": 17,
   "metadata": {},
   "outputs": [
    {
     "name": "stdout",
     "output_type": "stream",
     "text": [
      "0\n"
     ]
    }
   ],
   "source": [
    "score = X\n",
    "for i in range(N):\n",
    "    if S[i] == 'o':\n",
    "        score += 1\n",
    "    else:\n",
    "        score_kari = score - 1\n",
    "        score = max(0, score_kari)\n",
    "print(score)"
   ]
  },
  {
   "cell_type": "markdown",
   "metadata": {},
   "source": [
    "## question C"
   ]
  },
  {
   "cell_type": "code",
   "execution_count": 18,
   "metadata": {},
   "outputs": [
    {
     "name": "stdin",
     "output_type": "stream",
     "text": [
      " 2 3\n",
      " 998244353 998244853\n"
     ]
    }
   ],
   "source": [
    "r1, c1 = map(int, input().split())\n",
    "r2, c2 = map(int, input().split())\n",
    "r = r2 - r1\n",
    "c = c2 - c1"
   ]
  },
  {
   "cell_type": "code",
   "execution_count": 19,
   "metadata": {},
   "outputs": [
    {
     "name": "stdout",
     "output_type": "stream",
     "text": [
      "3\n"
     ]
    }
   ],
   "source": [
    "if (r, c) == (0, 0):\n",
    "    ans = 0\n",
    "elif r == c or r == -c:\n",
    "    ans = 1\n",
    "elif abs(r) + abs(c) <= 3:\n",
    "    ans = 1\n",
    "elif (r1 + c1 + r2 + c2) % 2 == 0:\n",
    "    ans = 2\n",
    "elif abs(r) + abs(c) <= 6:\n",
    "    ans = 2\n",
    "elif abs(r + c) <= 3 or abs(r - c) <= 3:\n",
    "    ans = 2\n",
    "else :\n",
    "    ans = 3\n",
    "print(ans)"
   ]
  },
  {
   "cell_type": "markdown",
   "metadata": {},
   "source": [
    "## question D"
   ]
  },
  {
   "cell_type": "markdown",
   "metadata": {},
   "source": [
    "### 確率DPと呼ばれるジャンル\n",
    "\n",
    "動的計画法（Dynamic Programming）  \n",
    "回答参考ページ：  \n",
    "https://zenn.dev/m193h/articles/35738abd5ef80bb8edbc  \n",
    "https://qiita.com/tefuxu/items/42d3c0be111d7d76a101  \n",
    "https://note.com/ktsukuda/n/n1bf96eea2f0c"
   ]
  },
  {
   "cell_type": "code",
   "execution_count": 10,
   "metadata": {},
   "outputs": [
    {
     "name": "stdin",
     "output_type": "stream",
     "text": [
      " 31 41 59\n"
     ]
    }
   ],
   "source": [
    "X, Y, Z  = map(int, input().split())"
   ]
  },
  {
   "cell_type": "code",
   "execution_count": 11,
   "metadata": {},
   "outputs": [
    {
     "name": "stdout",
     "output_type": "stream",
     "text": [
      "91.83500820215886\n"
     ]
    }
   ],
   "source": [
    "import sys\n",
    "sys.setrecursionlimit(10 ** 6) #再帰数上限の引き上げ\n",
    "\n",
    "def dfs(x, y, z): # メモ化再帰\n",
    "    if dp[x][y][z] >= 0: # 既に値がわかっている場合はそのまま返す.\n",
    "        ret = dp[x][y][z]\n",
    "    else : # 値がわかっていない場合、漸化式により値を求める.\n",
    "        ret = 0\n",
    "        S = x + y + z\n",
    "        ret += x / S * (dfs(x+1, y, z) + 1)\n",
    "        ret += y / S * (dfs(x, y+1, z) + 1)\n",
    "        ret += z / S * (dfs(x, y, z+1) + 1)\n",
    "        dp[x][y][z] = ret\n",
    "    return ret\n",
    "\n",
    "M = 100\n",
    "dp = [[[-1] * (M + 1) for _ in range(M + 1)] for _ in range(M + 1)]\n",
    "\n",
    "# 終端条件（初期化）\n",
    "for i in range(X, M + 1):\n",
    "    for j in range(Y, M + 1):\n",
    "        for k in range(Z, M + 1):\n",
    "            if i == M or j == M or k == M:\n",
    "                dp[i][j][k] = 0\n",
    "# dp(X, Y, Z)が求める答え\n",
    "print(dfs(X, Y, Z))"
   ]
  },
  {
   "cell_type": "code",
   "execution_count": 6,
   "metadata": {},
   "outputs": [
    {
     "data": {
      "text/plain": [
       "0"
      ]
     },
     "execution_count": 6,
     "metadata": {},
     "output_type": "execute_result"
    }
   ],
   "source": [
    "dp[99][99][100]"
   ]
  },
  {
   "cell_type": "code",
   "execution_count": 29,
   "metadata": {},
   "outputs": [],
   "source": []
  },
  {
   "cell_type": "code",
   "execution_count": null,
   "metadata": {},
   "outputs": [],
   "source": []
  }
 ],
 "metadata": {
  "kernelspec": {
   "display_name": "Python 3",
   "language": "python",
   "name": "python3"
  },
  "language_info": {
   "codemirror_mode": {
    "name": "ipython",
    "version": 3
   },
   "file_extension": ".py",
   "mimetype": "text/x-python",
   "name": "python",
   "nbconvert_exporter": "python",
   "pygments_lexer": "ipython3",
   "version": "3.8.3"
  }
 },
 "nbformat": 4,
 "nbformat_minor": 4
}
