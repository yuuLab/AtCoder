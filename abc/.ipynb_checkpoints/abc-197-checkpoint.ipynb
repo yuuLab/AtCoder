{
 "cells": [
  {
   "cell_type": "code",
   "execution_count": 15,
   "metadata": {},
   "outputs": [
    {
     "name": "stdin",
     "output_type": "stream",
     "text": [
      " abc\n"
     ]
    },
    {
     "name": "stdout",
     "output_type": "stream",
     "text": [
      "['b', 'c', 'a']\n",
      "bca\n"
     ]
    }
   ],
   "source": [
    "S = list(input())\n",
    "top = S.pop(0)\n",
    "S.append(top)\n",
    "print(''.join(S))"
   ]
  },
  {
   "cell_type": "code",
   "execution_count": null,
   "metadata": {},
   "outputs": [],
   "source": []
  },
  {
   "cell_type": "code",
   "execution_count": 17,
   "metadata": {},
   "outputs": [
    {
     "name": "stdin",
     "output_type": "stream",
     "text": [
      "  4 4 2 2\n",
      " ##..\n",
      " ...#\n",
      " #.#.\n",
      " .#.#\n"
     ]
    }
   ],
   "source": [
    "H, W, X, Y = map(int, input().split())\n",
    "S = [input() for _ in range(H)]"
   ]
  },
  {
   "cell_type": "code",
   "execution_count": 22,
   "metadata": {},
   "outputs": [
    {
     "name": "stdout",
     "output_type": "stream",
     "text": [
      "4\n"
     ]
    }
   ],
   "source": [
    "ans = 0\n",
    "for i in range(W):\n",
    "    if S[Y-1][i] == '.':\n",
    "        ans += 1\n",
    "for i in range(H):\n",
    "    if S[i][X-1] == '.':\n",
    "        ans += 1\n",
    "if S[Y-1][X-1] == '.':\n",
    "    print(ans-1)\n",
    "else:\n",
    "    print(ans)\n",
    "        "
   ]
  },
  {
   "cell_type": "code",
   "execution_count": null,
   "metadata": {},
   "outputs": [],
   "source": []
  }
 ],
 "metadata": {
  "kernelspec": {
   "display_name": "Python 3",
   "language": "python",
   "name": "python3"
  },
  "language_info": {
   "codemirror_mode": {
    "name": "ipython",
    "version": 3
   },
   "file_extension": ".py",
   "mimetype": "text/x-python",
   "name": "python",
   "nbconvert_exporter": "python",
   "pygments_lexer": "ipython3",
   "version": "3.8.3"
  }
 },
 "nbformat": 4,
 "nbformat_minor": 4
}
