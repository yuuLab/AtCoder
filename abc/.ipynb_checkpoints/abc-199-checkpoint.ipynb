{
 "cells": [
  {
   "cell_type": "markdown",
   "metadata": {},
   "source": [
    "# A"
   ]
  },
  {
   "cell_type": "code",
   "execution_count": 4,
   "metadata": {},
   "outputs": [
    {
     "name": "stdin",
     "output_type": "stream",
     "text": [
      " 3 4 5\n"
     ]
    }
   ],
   "source": [
    "A, B, C = map(int, input().split())\n",
    "\n",
    "if (A**2) + (B**2) < C**2:\n",
    "    print('Yes')\n",
    "else:\n",
    "    print('No')"
   ]
  },
  {
   "cell_type": "markdown",
   "metadata": {},
   "source": [
    "# B"
   ]
  },
  {
   "cell_type": "code",
   "execution_count": 21,
   "metadata": {},
   "outputs": [
    {
     "name": "stdin",
     "output_type": "stream",
     "text": [
      " 3\n",
      " 3 2 5\n",
      " 6 9 8\n"
     ]
    }
   ],
   "source": [
    "N = int(input())\n",
    "A = list(map(int, input().split()))\n",
    "B = list(map(int, input().split()))"
   ]
  },
  {
   "cell_type": "code",
   "execution_count": 22,
   "metadata": {},
   "outputs": [
    {
     "name": "stdout",
     "output_type": "stream",
     "text": [
      "2\n"
     ]
    }
   ],
   "source": [
    "a_max = max(A)\n",
    "b_min = min(B)\n",
    "ans = 0\n",
    "for i in range(1, b_min+1):\n",
    "    if a_max <= i and i <= b_min:\n",
    "        ans += 1\n",
    "print(ans)\n",
    "    "
   ]
  },
  {
   "cell_type": "markdown",
   "metadata": {},
   "source": [
    "# C"
   ]
  },
  {
   "cell_type": "code",
   "execution_count": null,
   "metadata": {},
   "outputs": [],
   "source": [
    "N = int(input())\n",
    "S = list(input())\n",
    "S_before = S[:N]\n",
    "S_after = S[N:]\n",
    "Q = int(input())\n",
    "\n",
    "for i in range(Q):\n",
    "    T, A, B = map(int, input().split())\n",
    "    if T == 1:\n",
    "        if A <= N and B > N:\n",
    "            s1 = S_before[A-1]\n",
    "            s2 = S_after[B-1-N]\n",
    "            S_before[A-1] = s2\n",
    "            S_after[B-1-N] = s1\n",
    "        elif B <= N:\n",
    "            s1 = S_before[A-1]\n",
    "            s2 = S_before[B-1]\n",
    "            S_before[A-1] = s2\n",
    "            S_before[B-1] = s1\n",
    "        else:\n",
    "            s1 = S_after[A-1-N]\n",
    "            s2 = S_after[B-1-N]\n",
    "            S_after[A-1-N] = s2\n",
    "            S_after[B-1-N] = s1\n",
    "    else:\n",
    "        S_before, S_after = S_after, S_before\n",
    "print(''.join(S_before) + ''.join(S_after))"
   ]
  }
 ],
 "metadata": {
  "kernelspec": {
   "display_name": "Python 3",
   "language": "python",
   "name": "python3"
  },
  "language_info": {
   "codemirror_mode": {
    "name": "ipython",
    "version": 3
   },
   "file_extension": ".py",
   "mimetype": "text/x-python",
   "name": "python",
   "nbconvert_exporter": "python",
   "pygments_lexer": "ipython3",
   "version": "3.8.5"
  }
 },
 "nbformat": 4,
 "nbformat_minor": 4
}
