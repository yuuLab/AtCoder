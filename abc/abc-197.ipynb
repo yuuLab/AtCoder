{
 "cells": [
  {
   "cell_type": "markdown",
   "metadata": {},
   "source": [
    "# question A"
   ]
  },
  {
   "cell_type": "code",
   "execution_count": 15,
   "metadata": {},
   "outputs": [
    {
     "name": "stdin",
     "output_type": "stream",
     "text": [
      " abc\n"
     ]
    },
    {
     "name": "stdout",
     "output_type": "stream",
     "text": [
      "['b', 'c', 'a']\n",
      "bca\n"
     ]
    }
   ],
   "source": [
    "S = list(input())\n",
    "top = S.pop(0)\n",
    "S.append(top)\n",
    "print(''.join(S))"
   ]
  },
  {
   "cell_type": "markdown",
   "metadata": {},
   "source": [
    "# question B"
   ]
  },
  {
   "cell_type": "code",
   "execution_count": 24,
   "metadata": {},
   "outputs": [
    {
     "name": "stdin",
     "output_type": "stream",
     "text": [
      " 3 5 1 4\n",
      " #....\n",
      " #####\n",
      " ....#\n"
     ]
    }
   ],
   "source": [
    "H, W, X, Y = map(int, input().split())\n",
    "S = [input() for _ in range(H)]"
   ]
  },
  {
   "cell_type": "code",
   "execution_count": 35,
   "metadata": {},
   "outputs": [
    {
     "name": "stdout",
     "output_type": "stream",
     "text": [
      "4\n"
     ]
    }
   ],
   "source": [
    "ans = 0\n",
    "for i in range(Y-2, -1, -1):\n",
    "    if S[X-1][i] == '.':\n",
    "        ans += 1\n",
    "    else:\n",
    "        break\n",
    "for i in range(Y, W):\n",
    "    if S[X-1][i] == '.':\n",
    "        ans += 1\n",
    "    else:\n",
    "        break\n",
    "for i in range(X-2, -1, -1):\n",
    "    if S[i][Y-1] == '.':\n",
    "        ans += 1\n",
    "    else:\n",
    "        break\n",
    "for i in range(X, H):\n",
    "    if S[i][Y-1] == '.':\n",
    "        ans += 1\n",
    "    else:\n",
    "        break\n",
    "            \n",
    "if S[X-1][Y-1] == '.':\n",
    "    print(ans+1)\n",
    "else:\n",
    "    print(ans)"
   ]
  },
  {
   "cell_type": "markdown",
   "metadata": {},
   "source": [
    "# question C"
   ]
  },
  {
   "cell_type": "code",
   "execution_count": 102,
   "metadata": {},
   "outputs": [
    {
     "name": "stdin",
     "output_type": "stream",
     "text": [
      " 3\n",
      " 1 5 7\n"
     ]
    }
   ],
   "source": [
    "N = int(input())\n",
    "A = list(map(int, input().split()))"
   ]
  },
  {
   "cell_type": "code",
   "execution_count": 103,
   "metadata": {},
   "outputs": [
    {
     "name": "stdout",
     "output_type": "stream",
     "text": [
      "2\n"
     ]
    }
   ],
   "source": [
    "N = int(input())\n",
    "A = list(map(int, input().split()))\n",
    "\n",
    "def has_bit(n, i):\n",
    "    return (n & (1<<i) > 0)\n",
    "\n",
    "ans = float('INF')\n",
    "for n in range(1 << N):\n",
    "    cand = 0\n",
    "    tmp = 0\n",
    "    # i番目とi+1番目を区切るとき、i+1番目を1とする\n",
    "    for i in range(N):\n",
    "        if has_bit(n, i):\n",
    "            cand = cand ^ tmp\n",
    "            tmp = A[i]\n",
    "        else:\n",
    "            tmp = tmp | A[i]\n",
    "    cand = cand ^ tmp\n",
    "    ans = min(ans, cand)\n",
    "print(ans)"
   ]
  },
  {
   "cell_type": "code",
   "execution_count": 112,
   "metadata": {},
   "outputs": [
    {
     "name": "stdout",
     "output_type": "stream",
     "text": [
      "2\n"
     ]
    }
   ],
   "source": [
    "def has_bit(n, i):\n",
    "    return (n & (1<<i) > 0)\n",
    "\n",
    "ans = float('INF')\n",
    "for n in range(1 << N):\n",
    "    cand = 0\n",
    "    tmp = 0\n",
    "    # i番目とi+1番目を区切るとき、i番目を1とする\n",
    "    for i in range(N):\n",
    "        if has_bit(n, i) or i == N-1:\n",
    "            cand = cand ^ (tmp | A[i])\n",
    "            tmp = 0\n",
    "        else:\n",
    "            tmp = tmp | A[i]\n",
    "    ans = min(ans, cand)\n",
    "print(ans)"
   ]
  },
  {
   "cell_type": "code",
   "execution_count": null,
   "metadata": {},
   "outputs": [],
   "source": []
  }
 ],
 "metadata": {
  "kernelspec": {
   "display_name": "Python 3",
   "language": "python",
   "name": "python3"
  },
  "language_info": {
   "codemirror_mode": {
    "name": "ipython",
    "version": 3
   },
   "file_extension": ".py",
   "mimetype": "text/x-python",
   "name": "python",
   "nbconvert_exporter": "python",
   "pygments_lexer": "ipython3",
   "version": "3.8.3"
  }
 },
 "nbformat": 4,
 "nbformat_minor": 4
}
