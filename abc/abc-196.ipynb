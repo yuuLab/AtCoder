{
 "cells": [
  {
   "cell_type": "markdown",
   "metadata": {},
   "source": [
    "# Question A"
   ]
  },
  {
   "cell_type": "code",
   "execution_count": 1,
   "metadata": {},
   "outputs": [
    {
     "name": "stdin",
     "output_type": "stream",
     "text": [
      " 100 200\n",
      " 200 300\n"
     ]
    },
    {
     "name": "stdout",
     "output_type": "stream",
     "text": [
      "0\n"
     ]
    }
   ],
   "source": [
    "a, b = map(int, input().split())\n",
    "c, d = map(int, input().split())\n",
    "print(b - c)"
   ]
  },
  {
   "cell_type": "markdown",
   "metadata": {},
   "source": [
    "## Question B"
   ]
  },
  {
   "cell_type": "code",
   "execution_count": 23,
   "metadata": {},
   "outputs": [
    {
     "name": "stdin",
     "output_type": "stream",
     "text": [
      " 84939825309432908832902189.9092309409809091329\n"
     ]
    }
   ],
   "source": [
    "X = input()"
   ]
  },
  {
   "cell_type": "code",
   "execution_count": 24,
   "metadata": {},
   "outputs": [
    {
     "name": "stdout",
     "output_type": "stream",
     "text": [
      "84939825309432908832902189\n"
     ]
    }
   ],
   "source": [
    "idx = -1\n",
    "for i in range(len(X)):\n",
    "    if X[i] == '.':\n",
    "        idx = i\n",
    "if idx == -1:\n",
    "    print(X)\n",
    "else:\n",
    "    print(X[:idx])"
   ]
  },
  {
   "cell_type": "markdown",
   "metadata": {},
   "source": [
    "# Question C"
   ]
  },
  {
   "cell_type": "code",
   "execution_count": 73,
   "metadata": {},
   "outputs": [
    {
     "name": "stdin",
     "output_type": "stream",
     "text": [
      " 10000000\n"
     ]
    }
   ],
   "source": [
    "N = int(input())"
   ]
  },
  {
   "cell_type": "code",
   "execution_count": 74,
   "metadata": {},
   "outputs": [
    {
     "name": "stdout",
     "output_type": "stream",
     "text": [
      "999\n"
     ]
    }
   ],
   "source": [
    "ans = 0\n",
    "n = 11\n",
    "while n <= N:\n",
    "    if len(str(n)) % 2 != 0:\n",
    "        n *= 10\n",
    "    else:\n",
    "        str_n = str(n)\n",
    "        center = len(str_n) // 2\n",
    "        if str_n[:center] == str_n[center:]:\n",
    "            ans += 1\n",
    "            temp = n + 10**center\n",
    "            if len(str(temp)) > len(str_n):\n",
    "                n += 1\n",
    "            else:\n",
    "                n = temp\n",
    "            continue\n",
    "        n += 1\n",
    "        \n",
    "print(ans)"
   ]
  },
  {
   "cell_type": "code",
   "execution_count": null,
   "metadata": {},
   "outputs": [],
   "source": [
    "## 公式回答\n",
    "'''\n",
    "条件を満たす整数はAAABBBと表記されたときに、AAA=BBBとなるものとなっている。\n",
    "条件を満たす整数を効率良く全列挙したいと考えたときに、片方だけ全列挙すればもう片方はその値で確定してしまう。\n",
    "よって、10**12桁の数があったとしても後半だけを全列挙すればいいので、10**6通りの全列挙にすることができた。\n",
    "あとは、後半から前半を作って、数xを作った後、N以下であるものを判定していけばいい。\n",
    "後半部分から数xを作る部分が少し面倒なのだが、多少計算量をサボっても問題ない。\n",
    "'''\n",
    "N = int(input())\n",
    "for i in range(1, 1000001):\n",
    "    if int(str(i) * 2 > N):\n",
    "        print(i - 1)\n",
    "        exit()"
   ]
  },
  {
   "cell_type": "markdown",
   "metadata": {},
   "source": [
    "# Question D"
   ]
  },
  {
   "cell_type": "code",
   "execution_count": 75,
   "metadata": {},
   "outputs": [
    {
     "name": "stdin",
     "output_type": "stream",
     "text": [
      " 2 2 1 2\n"
     ]
    }
   ],
   "source": [
    "H, W, A, B = map(int, input().split())\n",
    "ans = 0\n",
    "\n",
    "def dfs(i, bit, A, B):\n",
    "    if i == H * W:\n",
    "        global ans\n",
    "        ans += 1\n",
    "        return\n",
    "    if bit >> i & 1:\n",
    "        dfs(i + 1, bit, A, B)\n",
    "    if B:\n",
    "        dfs(i + 1, bit | 1 << i, A, B - 1)\n",
    "    if A:\n",
    "        if i % W != W - 1 and not bit & 1 << (i + 1):\n",
    "            dfs(i + 1, bit | 1 << (i + 1), A - 1,  B)\n",
    "        if i + W < H * W:\n",
    "            dfs(i + 1, bit | 1 << i | 1 << (i + W), A - 1, B)\n",
    "\n",
    "dfs(0, 0, A, B)\n",
    "print(ans)"
   ]
  },
  {
   "cell_type": "code",
   "execution_count": 78,
   "metadata": {},
   "outputs": [
    {
     "name": "stdin",
     "output_type": "stream",
     "text": [
      " 3\n",
      " -10 2\n",
      " 10 1\n",
      " 10 3\n",
      " 5\n",
      " -15 -10 -5 0 5\n"
     ]
    }
   ],
   "source": [
    "N = int(input())\n",
    "A = []\n",
    "T = []\n",
    "for i in range(N):\n",
    "    a, t = map(int, input().split())\n",
    "    A.append(a)\n",
    "    T.append(t)\n",
    "\n",
    "Q = int(input())\n",
    "X = list(map(int, input().split()))"
   ]
  },
  {
   "cell_type": "markdown",
   "metadata": {},
   "source": [
    "# Question E"
   ]
  },
  {
   "cell_type": "code",
   "execution_count": 83,
   "metadata": {},
   "outputs": [
    {
     "name": "stdout",
     "output_type": "stream",
     "text": [
      "-15\n",
      "-15\n",
      "-5\n",
      "-5\n",
      "-10\n",
      "-10\n",
      "0\n",
      "0\n",
      "-5\n",
      "-5\n",
      "5\n",
      "5\n",
      "0\n",
      "0\n",
      "10\n",
      "10\n",
      "5\n",
      "5\n",
      "15\n",
      "15\n"
     ]
    }
   ],
   "source": [
    "def rec(x, i):\n",
    "    result = 0\n",
    "    print(x)\n",
    "    if i == 1:\n",
    "        if T[i-1] == 1:\n",
    "            return x+A[i-1]\n",
    "        elif T[i-1] == 2:\n",
    "            return max(x, A[i-1])\n",
    "        else:\n",
    "            return min(x, A[i-1])\n",
    "    \n",
    "    if T[i-1] == 1:\n",
    "        result = rec(x+A[i-1], i-1)\n",
    "    elif T[i-1] == 2:\n",
    "        result = rec(max(x, A[i-1]), i-1)\n",
    "    else:\n",
    "        result = rec(min(x, A[i-1]), i-1)\n",
    "\n",
    "    return result\n",
    "        \n",
    "for i in range(1, Q+1):\n",
    "    print(rec(X[i-1], N))"
   ]
  },
  {
   "cell_type": "code",
   "execution_count": null,
   "metadata": {},
   "outputs": [],
   "source": []
  }
 ],
 "metadata": {
  "kernelspec": {
   "display_name": "Python 3",
   "language": "python",
   "name": "python3"
  },
  "language_info": {
   "codemirror_mode": {
    "name": "ipython",
    "version": 3
   },
   "file_extension": ".py",
   "mimetype": "text/x-python",
   "name": "python",
   "nbconvert_exporter": "python",
   "pygments_lexer": "ipython3",
   "version": "3.8.3"
  }
 },
 "nbformat": 4,
 "nbformat_minor": 4
}
