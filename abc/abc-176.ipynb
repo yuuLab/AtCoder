{
 "cells": [
  {
   "cell_type": "markdown",
   "metadata": {},
   "source": [
    "# A"
   ]
  },
  {
   "cell_type": "code",
   "execution_count": 3,
   "metadata": {},
   "outputs": [
    {
     "name": "stdin",
     "output_type": "stream",
     "text": [
      " 1000 1 1000\n"
     ]
    },
    {
     "name": "stdout",
     "output_type": "stream",
     "text": [
      "1000000\n"
     ]
    }
   ],
   "source": [
    "N, X, T = map(int, input().split())\n",
    "\n",
    "q, mod =  divmod(N, X)\n",
    "if mod == 0:\n",
    "    print(q*T)\n",
    "else:\n",
    "    print(q*T+T)"
   ]
  },
  {
   "cell_type": "markdown",
   "metadata": {},
   "source": [
    "# B"
   ]
  },
  {
   "cell_type": "code",
   "execution_count": 5,
   "metadata": {},
   "outputs": [
    {
     "name": "stdin",
     "output_type": "stream",
     "text": [
      " 31415926535897932384626433832795028841971693993751058209749445923078164062862089986280\n"
     ]
    },
    {
     "name": "stdout",
     "output_type": "stream",
     "text": [
      "No\n"
     ]
    }
   ],
   "source": [
    "N = input()\n",
    "total = 0\n",
    "for n in N:\n",
    "    total += int(n)\n",
    "if total % 9 == 0:\n",
    "    print('Yes')\n",
    "else:\n",
    "    print('No')"
   ]
  },
  {
   "cell_type": "markdown",
   "metadata": {},
   "source": [
    "# C"
   ]
  },
  {
   "cell_type": "code",
   "execution_count": 17,
   "metadata": {},
   "outputs": [
    {
     "name": "stdin",
     "output_type": "stream",
     "text": [
      " 5\n",
      " 3 3 3 3 3\n"
     ]
    },
    {
     "name": "stdout",
     "output_type": "stream",
     "text": [
      "0\n"
     ]
    }
   ],
   "source": [
    "N = int(input())\n",
    "A = list(map(int, input().split()))\n",
    "\n",
    "total = 0\n",
    "for i in range(1, N):\n",
    "    if A[i] < A[i-1]:\n",
    "        step = A[i-1] - A[i]\n",
    "        A[i] += step\n",
    "        total += step\n",
    "print(total)"
   ]
  },
  {
   "cell_type": "markdown",
   "metadata": {},
   "source": [
    "# D"
   ]
  },
  {
   "cell_type": "code",
   "execution_count": 43,
   "metadata": {},
   "outputs": [
    {
     "name": "stdin",
     "output_type": "stream",
     "text": [
      " 4 4\n",
      " 1 1\n",
      " 4 4\n",
      " ..#.\n",
      " ..#.\n",
      " .#..\n",
      " .#..\n"
     ]
    }
   ],
   "source": [
    "H, W = map(int, input().split())\n",
    "Ch, Cw = map(int, input().split())\n",
    "Dh, Dw = map(int, input().split())\n",
    "S = [input() for _ in range(H)]"
   ]
  },
  {
   "cell_type": "code",
   "execution_count": 1,
   "metadata": {},
   "outputs": [
    {
     "ename": "NameError",
     "evalue": "name 'Ch' is not defined",
     "output_type": "error",
     "traceback": [
      "\u001b[0;31m---------------------------------------------------------------------------\u001b[0m",
      "\u001b[0;31mNameError\u001b[0m                                 Traceback (most recent call last)",
      "\u001b[0;32m<ipython-input-1-b9cd0d241e45>\u001b[0m in \u001b[0;36m<module>\u001b[0;34m\u001b[0m\n\u001b[1;32m      1\u001b[0m \u001b[0;32mfrom\u001b[0m \u001b[0mcollections\u001b[0m \u001b[0;32mimport\u001b[0m \u001b[0mdeque\u001b[0m\u001b[0;34m\u001b[0m\u001b[0;34m\u001b[0m\u001b[0m\n\u001b[1;32m      2\u001b[0m \u001b[0;34m\u001b[0m\u001b[0m\n\u001b[0;32m----> 3\u001b[0;31m \u001b[0mCh\u001b[0m \u001b[0;34m-=\u001b[0m \u001b[0;36m1\u001b[0m\u001b[0;34m\u001b[0m\u001b[0;34m\u001b[0m\u001b[0m\n\u001b[0m\u001b[1;32m      4\u001b[0m \u001b[0mCw\u001b[0m \u001b[0;34m-=\u001b[0m \u001b[0;36m1\u001b[0m\u001b[0;34m\u001b[0m\u001b[0;34m\u001b[0m\u001b[0m\n\u001b[1;32m      5\u001b[0m \u001b[0mDh\u001b[0m \u001b[0;34m-=\u001b[0m \u001b[0;36m1\u001b[0m\u001b[0;34m\u001b[0m\u001b[0;34m\u001b[0m\u001b[0m\n",
      "\u001b[0;31mNameError\u001b[0m: name 'Ch' is not defined"
     ]
    }
   ],
   "source": [
    "from collections import deque\n",
    "\n",
    "Ch -= 1\n",
    "Cw -= 1\n",
    "Dh -= 1\n",
    "Dw -= 1\n",
    "\n",
    "walks = [(-1,0),(1,0),(0,1),(0,-1)]\n",
    "magics = []\n",
    "for i in range(-2, 3):\n",
    "    for j in range(-2, 3):\n",
    "        if i==j==0:\n",
    "            continue\n",
    "        if (i, j) not in walks:\n",
    "            magics.append((i,j))\n",
    "\n",
    "dist = [[float('INF')]*W for _ in range(H)]\n",
    "Q = deque()\n",
    "Q.append([Ch, Cw, 0])\n",
    "dist[Ch][Cw] = 0\n",
    "\n",
    "            \n",
    "while len(Q) > 0:\n",
    "    i, j, cnt = Q.popleft()\n",
    "    if cnt > dist[i][j]:\n",
    "        continue\n",
    "    dist[i][j] = cnt\n",
    "    # 4つの隣りマス（コスト0）、魔法を使用したときの±2のマス（コスト1）を確認していく。\n",
    "    for dh, dw in walks:\n",
    "        i2 = i + dh\n",
    "        j2 = j + dw\n",
    "        # もし盤面の範囲内でなければ無視\n",
    "        if not (0 <= i2 < H and 0 <= j2 < W):\n",
    "            continue\n",
    "        if S[i][j] == '#':\n",
    "            continue\n",
    "        if S[i2][j2] == float('INF'):\n",
    "            continue\n",
    "        if S[i2][j2] == '.':\n",
    "            Q.appendleft([i2, j2, cnt])\n",
    "    \n",
    "    for dh, dw in magics:\n",
    "        i2 = i + dh\n",
    "        j2 = j + dw\n",
    "        if not (0 <= i2 < H and 0 <= j2 < W):\n",
    "            continue\n",
    "        if S[i][j] == '#':\n",
    "            continue\n",
    "        if S[i2][j2] == float('INF'):\n",
    "            continue\n",
    "        if S[i2][j2] == '.':\n",
    "            Q.append([i2, j2, cnt+1])\n",
    "\n",
    "ans = dist[Dh][Dw]\n",
    "print(ans if ans != INF else -1)"
   ]
  },
  {
   "cell_type": "code",
   "execution_count": 32,
   "metadata": {},
   "outputs": [
    {
     "data": {
      "text/plain": [
       "[[-2, -2],\n",
       " [-2, -1],\n",
       " [-2, 0],\n",
       " [-2, 1],\n",
       " [-2, 2],\n",
       " [-1, -2],\n",
       " [-1, -1],\n",
       " [-1, 1],\n",
       " [-1, 2],\n",
       " [0, -2],\n",
       " [0, 0],\n",
       " [0, 2],\n",
       " [1, -2],\n",
       " [1, -1],\n",
       " [1, 1],\n",
       " [1, 2],\n",
       " [2, -2],\n",
       " [2, -1],\n",
       " [2, 0],\n",
       " [2, 1],\n",
       " [2, 2]]"
      ]
     },
     "execution_count": 32,
     "metadata": {},
     "output_type": "execute_result"
    }
   ],
   "source": [
    "from collections import deque\n",
    "H, W = map(int, input().split())\n",
    "ch, cw = map(int, input().split())\n",
    "dh_, dw_ = map(int, input().split())\n",
    "\n",
    "fs = []\n",
    "for i in range(H):\n",
    "    r = list(input())\n",
    "    fs.append(r)\n",
    "\n",
    "walks = [(-1,0),(1,0),(0,1),(0,-1)]\n",
    "magics = []\n",
    "for i in range(-2,3):\n",
    "    for j in range(-2,3):\n",
    "        if i==j==0:\n",
    "            continue\n",
    "        if (i,j) not in walks:\n",
    "            magics.append((i,j))\n",
    "\n",
    "INF = 1 << 50\n",
    "dps = [[INF]*W for i in range(H)]\n",
    "dps[ch-1][cw-1] = 0\n",
    "\n",
    "q = deque([])\n",
    "q.appendleft((ch-1,cw-1,0))\n",
    "\n",
    "while len(q)>0:\n",
    "    h, w, cnt = q.popleft()\n",
    "    if cnt > dps[h][w]:\n",
    "        continue\n",
    "    dps[h][w] = cnt\n",
    "    \n",
    "    for dh, dw in walks:\n",
    "        hn = h + dh\n",
    "        wn = w + dw\n",
    "        if 0<=hn<H and 0<=wn<W:\n",
    "            if dps[hn][wn] != INF:continue\n",
    "            if fs[hn][wn] == \".\":\n",
    "                q.appendleft((hn, wn, cnt))\n",
    "                \n",
    "    for dh, dw in magics:\n",
    "        hn = h + dh\n",
    "        wn = w + dw\n",
    "        if 0<=hn<H and 0<=wn<W:\n",
    "            if dps[hn][wn] != INF:continue\n",
    "            if fs[hn][wn] == \".\":\n",
    "                q.append((hn, wn, cnt+1))\n",
    "\n",
    "ans = dps[dh_-1][dw_-1]\n",
    "print(ans if ans != INF else -1)"
   ]
  },
  {
   "cell_type": "code",
   "execution_count": null,
   "metadata": {},
   "outputs": [],
   "source": []
  }
 ],
 "metadata": {
  "kernelspec": {
   "display_name": "Python 3",
   "language": "python",
   "name": "python3"
  },
  "language_info": {
   "codemirror_mode": {
    "name": "ipython",
    "version": 3
   },
   "file_extension": ".py",
   "mimetype": "text/x-python",
   "name": "python",
   "nbconvert_exporter": "python",
   "pygments_lexer": "ipython3",
   "version": "3.8.3"
  }
 },
 "nbformat": 4,
 "nbformat_minor": 4
}
