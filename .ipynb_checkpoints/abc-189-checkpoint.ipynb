{
 "cells": [
  {
   "cell_type": "markdown",
   "metadata": {},
   "source": [
    "## question01"
   ]
  },
  {
   "cell_type": "code",
   "execution_count": 17,
   "metadata": {},
   "outputs": [
    {
     "name": "stdin",
     "output_type": "stream",
     "text": [
      " SSS\n"
     ]
    }
   ],
   "source": [
    "S = list(map(str, input()))"
   ]
  },
  {
   "cell_type": "code",
   "execution_count": 19,
   "metadata": {},
   "outputs": [
    {
     "name": "stdout",
     "output_type": "stream",
     "text": [
      "Won\n"
     ]
    }
   ],
   "source": [
    "ans = S[0]\n",
    "flag = True\n",
    "for i in range(len(S)):\n",
    "    if(ans != S[i]):\n",
    "        flag = False\n",
    "msg = \"Won\" if flag else \"Lost\"\n",
    "print(msg)"
   ]
  },
  {
   "cell_type": "markdown",
   "metadata": {},
   "source": [
    "## question02"
   ]
  },
  {
   "cell_type": "code",
   "execution_count": 43,
   "metadata": {},
   "outputs": [
    {
     "name": "stdin",
     "output_type": "stream",
     "text": [
      " 2 15\n"
     ]
    }
   ],
   "source": [
    "N, X = map(int, input().split())\n",
    "# drinks = [list(map(int, input().split())) for i in range(N)]"
   ]
  },
  {
   "cell_type": "code",
   "execution_count": 45,
   "metadata": {},
   "outputs": [
    {
     "name": "stdin",
     "output_type": "stream",
     "text": [
      " 2 3\n",
      " 2 1\n"
     ]
    },
    {
     "name": "stdout",
     "output_type": "stream",
     "text": [
      "-1\n"
     ]
    }
   ],
   "source": [
    "alc = 0\n",
    "for i in range(N):\n",
    "    v, p = map(int, input().split())\n",
    "    alc += v * p\n",
    "    if alc > X*100 :\n",
    "        print(i + 1)\n",
    "        exit()\n",
    "print(-1)"
   ]
  },
  {
   "cell_type": "markdown",
   "metadata": {},
   "source": [
    "## question03"
   ]
  },
  {
   "cell_type": "code",
   "execution_count": 80,
   "metadata": {},
   "outputs": [
    {
     "name": "stdout",
     "output_type": "stream",
     "text": [
      "200\n"
     ]
    }
   ],
   "source": [
    "#これはTLE\n",
    "# N = int(input())\n",
    "# oranges = [list(map(int, input().split()))][0]\n",
    "# ans = 0\n",
    "# for l in range(N):\n",
    "#     for r in range(l+1, N+1):\n",
    "#         s = (min(oranges[l:r]) * len(oranges[l:r]))\n",
    "#         if(s > ans):\n",
    "#             ans = s\n",
    "# print(ans)"
   ]
  },
  {
   "cell_type": "code",
   "execution_count": 86,
   "metadata": {},
   "outputs": [
    {
     "name": "stdin",
     "output_type": "stream",
     "text": [
      " 6\n",
      " 2 4 4 9 4 9\n"
     ]
    },
    {
     "name": "stdout",
     "output_type": "stream",
     "text": [
      "20\n"
     ]
    }
   ],
   "source": [
    "import numpy as np\n",
    "N = int(input())\n",
    "orange = np.array(list(map(int, input().split())), dtype=np.int64)\n",
    "array = np.arange(1, N+1)\n",
    "ans = max((np.minimum.accumulate(orange[i:])*array[:N-i]).max() for i in range(N))\n",
    "print(ans)"
   ]
  },
  {
   "cell_type": "markdown",
   "metadata": {},
   "source": [
    "## question04"
   ]
  },
  {
   "cell_type": "code",
   "execution_count": 17,
   "metadata": {},
   "outputs": [
    {
     "name": "stdin",
     "output_type": "stream",
     "text": [
      " 5\n",
      " OR\n",
      " OR\n",
      " OR\n",
      " OR\n",
      " OR\n"
     ]
    }
   ],
   "source": [
    "N = int(input())\n",
    "cond = [input() for i in range(N)]"
   ]
  },
  {
   "cell_type": "code",
   "execution_count": 18,
   "metadata": {},
   "outputs": [
    {
     "name": "stdout",
     "output_type": "stream",
     "text": [
      "63\n"
     ]
    }
   ],
   "source": [
    "def dfs(n):\n",
    "    if n == 0:\n",
    "        return 1\n",
    "    if cond[n - 1] == \"AND\":\n",
    "        return dfs(n - 1)\n",
    "    elif cond[n - 1] == \"OR\":\n",
    "        return 2**n + dfs(n - 1)\n",
    "\n",
    "print(dfs(N))"
   ]
  },
  {
   "cell_type": "code",
   "execution_count": null,
   "metadata": {},
   "outputs": [],
   "source": []
  }
 ],
 "metadata": {
  "kernelspec": {
   "display_name": "Python 3",
   "language": "python",
   "name": "python3"
  },
  "language_info": {
   "codemirror_mode": {
    "name": "ipython",
    "version": 3
   },
   "file_extension": ".py",
   "mimetype": "text/x-python",
   "name": "python",
   "nbconvert_exporter": "python",
   "pygments_lexer": "ipython3",
   "version": "3.8.3"
  }
 },
 "nbformat": 4,
 "nbformat_minor": 4
}
