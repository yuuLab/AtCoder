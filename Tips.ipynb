{
 "cells": [
  {
   "cell_type": "markdown",
   "metadata": {},
   "source": [
    "# Tips"
   ]
  },
  {
   "cell_type": "markdown",
   "metadata": {},
   "source": [
    "## いもす法\n",
    "---\n",
    "### 参考URL  \n",
    "https://imoz.jp/algorithms/imos_method.html   \n",
    "https://qiita.com/DaikiSuyama/items/67547e14b47cd6360252\n",
    "\n",
    "### 参考問題  \n",
    "・abc183-d\n",
    "\n",
    "## 累積和\n",
    "### 参考Url：  \n",
    "https://qiita.com/drken/items/56a6b68edef8fc605821  \n",
    "https://qiita.com/xryuseix/items/1059101a31107ba330d4"
   ]
  },
  {
   "cell_type": "markdown",
   "metadata": {},
   "source": [
    "## 確率DP（動的計画法Dynamic Programming）\n",
    "---\n",
    "#### 参考Url\n",
    "https://qiita.com/drken/items/a5e6fe22863b7992efdb\n",
    "#### 参考問題\n",
    "・abc184-d"
   ]
  },
  {
   "cell_type": "markdown",
   "metadata": {},
   "source": [
    "## ダイクストラ法\n",
    "---\n",
    "DP的なアルゴリズムの一種\n",
    "### 参考Url\n",
    "・http://www.deqnotes.net/acmicpc/dijkstra/  \n",
    "・https://qiita.com/knhr__/items/cb3ce311508337128714\n",
    "\n",
    "### 参考問題\n",
    "・abc191-e"
   ]
  },
  {
   "cell_type": "markdown",
   "metadata": {},
   "source": [
    "## 誤差が絡む問題（厳密な計算が必要）\n",
    "---\n",
    "### Decimalを使えば解決することが多い\n",
    "from decimal import Decimal  \n",
    "### 参考問題\n",
    "・abc191-d"
   ]
  },
  {
   "cell_type": "markdown",
   "metadata": {},
   "source": [
    "# コンプリートガチャ　確率\n",
    "---\n",
    "コンプガチャの期待値：  \n",
    "n種類、等確率のコンプガチャで全ての景品を集めるのに必要な回数の期待値→  \n",
    "\n",
    "\n",
    "n(1+1/2+1/3+.....+1/n)\n",
    "\n",
    "\n",
    "である\n",
    "\n",
    "### 参考問題\n",
    "abc194-d\n",
    "\n",
    "### 参考URL\n",
    "https://manabitimes.jp/math/1053"
   ]
  },
  {
   "cell_type": "code",
   "execution_count": null,
   "metadata": {},
   "outputs": [],
   "source": []
  }
 ],
 "metadata": {
  "kernelspec": {
   "display_name": "Python 3",
   "language": "python",
   "name": "python3"
  },
  "language_info": {
   "codemirror_mode": {
    "name": "ipython",
    "version": 3
   },
   "file_extension": ".py",
   "mimetype": "text/x-python",
   "name": "python",
   "nbconvert_exporter": "python",
   "pygments_lexer": "ipython3",
   "version": "3.8.3"
  }
 },
 "nbformat": 4,
 "nbformat_minor": 4
}
