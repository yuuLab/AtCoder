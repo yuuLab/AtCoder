{
 "cells": [
  {
   "cell_type": "markdown",
   "metadata": {},
   "source": [
    "## question01"
   ]
  },
  {
   "cell_type": "code",
   "execution_count": 47,
   "metadata": {},
   "outputs": [
    {
     "name": "stdout",
     "output_type": "stream",
     "text": [
      "Aoki\n"
     ]
    }
   ],
   "source": [
    "\n",
    "# A = N[0]\n",
    "# B = N[1]\n",
    "# winner = ''\n",
    "# if (N[2] == 0) :\n",
    "#     while True:\n",
    "#         A -= 1\n",
    "#         if (A < 0 ):\n",
    "#             winner = 'Aoki'\n",
    "#             break\n",
    "#         B -= 1\n",
    "#         if (B < 0):\n",
    "#             winner = 'Takahashi'\n",
    "#             break\n",
    "#     print(winner)\n",
    "# else :\n",
    "#     while True:\n",
    "#         B -= 1\n",
    "#         if (B < 0):\n",
    "#             winner = 'Takahashi'\n",
    "#             break\n",
    "#         A -= 1\n",
    "#         if (A < 0):\n",
    "#             winner = 'Aoki'\n",
    "#             break\n",
    "#     print(winner)"
   ]
  },
  {
   "cell_type": "code",
   "execution_count": null,
   "metadata": {},
   "outputs": [],
   "source": [
    "A, B, C = map(int, input().split())\n",
    "if A + C > B:\n",
    "    print(\"Takahashi\")\n",
    "else:\n",
    "    print(\"Aoki\")"
   ]
  },
  {
   "cell_type": "markdown",
   "metadata": {},
   "source": [
    "## question02"
   ]
  },
  {
   "cell_type": "code",
   "execution_count": 49,
   "metadata": {},
   "outputs": [
    {
     "name": "stdin",
     "output_type": "stream",
     "text": [
      " 1 2\n",
      " 12 2\n",
      " 12 3\n"
     ]
    }
   ],
   "source": [
    "# 自分の回答\n",
    "# N, M = map(int, input().split())\n",
    "# P = [input().split() for i in range(M)]\n",
    "\n",
    "# N = list(map(int, input().split()))\n",
    "# skills = N[0]\n",
    "# second = N[1]\n",
    "# damage = N[2]\n",
    "\n",
    "# magic = [input().split() for i in range(skills)]\n",
    "\n",
    "# isDamage = False\n",
    "# for mag in magic:\n",
    "#     if (int(mag[0]) < second and int(mag[1]) > damage) : \n",
    "#         isDamage = True\n",
    "#         break\n",
    "# if (isDamage) :\n",
    "#     print('Yes')\n",
    "# else:\n",
    "#     print('No')"
   ]
  },
  {
   "cell_type": "code",
   "execution_count": 26,
   "metadata": {},
   "outputs": [
    {
     "name": "stdin",
     "output_type": "stream",
     "text": [
      " 4 9 9\n",
      " 5 5\n",
      " 15 5\n",
      " 5 15\n"
     ]
    },
    {
     "name": "stdout",
     "output_type": "stream",
     "text": [
      "Yes\n"
     ]
    }
   ],
   "source": [
    "N, D, S = map(int, input().split())\n",
    "def check():\n",
    "    X, Y = map(int, input().split())\n",
    "    return X < S and Y > D\n",
    "\n",
    "if any(check() for i in range(N)):\n",
    "    print(\"Yes\")\n",
    "else:\n",
    "    print(\"No\")"
   ]
  },
  {
   "cell_type": "markdown",
   "metadata": {},
   "source": [
    "## question03"
   ]
  },
  {
   "cell_type": "code",
   "execution_count": 27,
   "metadata": {},
   "outputs": [],
   "source": [
    "import itertools"
   ]
  },
  {
   "cell_type": "code",
   "execution_count": 34,
   "metadata": {},
   "outputs": [
    {
     "name": "stdin",
     "output_type": "stream",
     "text": [
      " 4 4\n",
      " 1 2\n",
      " 1 3\n",
      " 2 4\n",
      " 3 4\n",
      " 3\n",
      " 1 2\n",
      " 1 3\n",
      " 2 3\n"
     ]
    }
   ],
   "source": [
    "N, M = map(int, input().split())\n",
    "cond = [tuple(map(int, input().split())) for i in range(M)]\n",
    "K = int(input())\n",
    "choice = [tuple(map(int, input().split())) for i in range(K)]"
   ]
  },
  {
   "cell_type": "code",
   "execution_count": 35,
   "metadata": {},
   "outputs": [
    {
     "name": "stdout",
     "output_type": "stream",
     "text": [
      "cond: [(1, 2), (1, 3), (2, 4), (3, 4)]\n",
      "choice: [(1, 2), (1, 3), (2, 3)]\n"
     ]
    }
   ],
   "source": [
    "print(f'cond: {cond}')\n",
    "print(f'choice: {choice}')"
   ]
  },
  {
   "cell_type": "code",
   "execution_count": 39,
   "metadata": {},
   "outputs": [
    {
     "name": "stdout",
     "output_type": "stream",
     "text": [
      "2\n"
     ]
    }
   ],
   "source": [
    "ans = 0\n",
    "for balls in itertools.product(*choice):\n",
    "    balls = set(balls)\n",
    "    cnt = sum(A in balls and B in balls for A, B in cond)\n",
    "    if ans < cnt:\n",
    "        ans = cnt\n",
    "print(ans)"
   ]
  },
  {
   "cell_type": "markdown",
   "metadata": {},
   "source": [
    "## question04"
   ]
  },
  {
   "cell_type": "code",
   "execution_count": 51,
   "metadata": {},
   "outputs": [
    {
     "name": "stdin",
     "output_type": "stream",
     "text": [
      " 30\n"
     ]
    },
    {
     "name": "stdout",
     "output_type": "stream",
     "text": [
      "8\n"
     ]
    }
   ],
   "source": [
    "N = int(input())\n",
    "while N % 2 == 0:\n",
    "    # 切り捨て割り算\n",
    "    N //=2\n",
    "sq = int(N ** 0.5)\n",
    "ans = sum(N % i == 0 for i in range(1, sq + 1)) * 2 - (sq * sq == N)\n",
    "print(ans * 2)"
   ]
  },
  {
   "cell_type": "markdown",
   "metadata": {},
   "source": [
    "## question05"
   ]
  },
  {
   "cell_type": "code",
   "execution_count": 5,
   "metadata": {},
   "outputs": [
    {
     "name": "stdin",
     "output_type": "stream",
     "text": [
      " 4 3\n",
      " 1 4\n",
      " 2 4\n",
      " 3 4\n",
      " 3\n",
      " 1 2 3\n"
     ]
    }
   ],
   "source": [
    "from collections import deque\n",
    "INF = 1 << 30\n",
    "N, M = map(int, input().split())\n",
    "g = [list() for i in range(N)]\n",
    "for i in range(M):\n",
    "    A, B = map(int, input().split())\n",
    "    A -= 1\n",
    "    B -= 1\n",
    "    g[A].append(B)\n",
    "    g[B].append(A)\n",
    "K = int(input())\n",
    "C = list(map(int, input().split()))\n",
    "for i in range(K):\n",
    "    C[i] -= 1\n",
    "\n",
    "    \n",
    "def BFS(s):\n",
    "    cost = [INF] * N\n",
    "    cost[s] = 0\n",
    "    q = deque([s])\n",
    "    while q:\n",
    "        x = q.popleft()\n",
    "        for y in g[x]:\n",
    "            if cost[y] == INF:\n",
    "                cost[y] = cost[x] + 1\n",
    "                q.append(y)\n",
    "    return [cost[c] for c in C]\n",
    "\n",
    "dp = [[INF] * K for i in range(1 << K)]\n",
    "for i in range(K):\n",
    "    dp[1 << i][i] = 1"
   ]
  },
  {
   "cell_type": "code",
   "execution_count": 7,
   "metadata": {},
   "outputs": [
    {
     "data": {
      "text/plain": [
       "[[0, 2, 2], [2, 0, 2], [2, 2, 0]]"
      ]
     },
     "execution_count": 7,
     "metadata": {},
     "output_type": "execute_result"
    }
   ],
   "source": [
    "cost = [BFS(c) for c in C]\n",
    "cost"
   ]
  },
  {
   "cell_type": "code",
   "execution_count": 8,
   "metadata": {},
   "outputs": [
    {
     "name": "stdout",
     "output_type": "stream",
     "text": [
      "5\n"
     ]
    }
   ],
   "source": [
    "for bit in range(1 << K):\n",
    "    for i in range(K):\n",
    "        if dp[bit][i] == INF:\n",
    "            continue\n",
    "        for j in range(K):\n",
    "            if bit & 1 << j:\n",
    "                continue\n",
    "            if dp[bit ^ 1 << j][j] > dp[bit][i] + cost[i][j]:\n",
    "                dp[bit ^ 1 << j][j] = dp[bit][i] + cost[i][j]\n",
    " \n",
    "ans = min(dp[-1])\n",
    "if ans == INF:\n",
    "    ans = -1\n",
    "print(ans)"
   ]
  },
  {
   "cell_type": "code",
   "execution_count": null,
   "metadata": {},
   "outputs": [],
   "source": []
  }
 ],
 "metadata": {
  "kernelspec": {
   "display_name": "Python 3",
   "language": "python",
   "name": "python3"
  },
  "language_info": {
   "codemirror_mode": {
    "name": "ipython",
    "version": 3
   },
   "file_extension": ".py",
   "mimetype": "text/x-python",
   "name": "python",
   "nbconvert_exporter": "python",
   "pygments_lexer": "ipython3",
   "version": "3.8.3"
  }
 },
 "nbformat": 4,
 "nbformat_minor": 4
}
