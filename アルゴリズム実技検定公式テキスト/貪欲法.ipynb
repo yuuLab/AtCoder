{
 "cells": [
  {
   "cell_type": "markdown",
   "metadata": {},
   "source": [
    "# 貪欲法\n",
    "---"
   ]
  },
  {
   "cell_type": "markdown",
   "metadata": {},
   "source": [
    "## 第二回アルゴリズム実技検定　F"
   ]
  },
  {
   "cell_type": "code",
   "execution_count": 3,
   "metadata": {},
   "outputs": [
    {
     "name": "stdin",
     "output_type": "stream",
     "text": [
      " 3\n",
      " 1 3\n",
      " 2 2\n",
      " 2 4\n"
     ]
    },
    {
     "name": "stdout",
     "output_type": "stream",
     "text": [
      "3\n",
      "7\n",
      "9\n"
     ]
    }
   ],
   "source": [
    "N = int(input())\n",
    "\n",
    "# X[d]: d日目から実行可能になるタスクのポイントを集めた配列\n",
    "X = [[] for _ in range(N)]\n",
    "for i in range(N):\n",
    "    a, b = list(map(int, input().split()))\n",
    "    X[a-1].append(b)\n",
    "\n",
    "cnt = [0]*101\n",
    "ans = 0\n",
    "for d in range(N):\n",
    "    # d日目から実行可能になるタスクをcntに追加する\n",
    "    for b in X[d]:\n",
    "        cnt[b] += 1\n",
    "    \n",
    "    # cnt[b] > 0 である最大のbを探して加算する\n",
    "    for b in range(100, 0, -1):\n",
    "        if cnt[b] > 0:\n",
    "            ans += b\n",
    "            cnt[b] -= 1\n",
    "            break\n",
    "    print(ans)"
   ]
  },
  {
   "cell_type": "markdown",
   "metadata": {},
   "source": [
    "## 区間スケジューリング\n",
    "\n",
    "## 典型アルゴリズム問題　B"
   ]
  },
  {
   "cell_type": "code",
   "execution_count": null,
   "metadata": {},
   "outputs": [],
   "source": [
    "# 1. タスクをその終了日が早いものから順に並べる\n",
    "# 2. ソートしたタスクを順番に見ていく、見ているタスクがもし実行可能（すでに採用したタスクと重複していない）ならば、そのタスクを採用する\n",
    "\n",
    "N = int(input())\n",
    "# 終了日でソートするため、[終了日, 開始日]の順で格納する\n",
    "BA = []\n",
    "for i in range(N):\n",
    "    a, b = list(map(int, input().split()))\n",
    "    BA.append([b, a])\n",
    "BA.sort()\n",
    "\n",
    "ans = 0\n",
    "last = 0\n",
    "for b, a in BA:\n",
    "    if last < a:\n",
    "        ans += 1\n",
    "        last = b\n",
    "print(ans)"
   ]
  },
  {
   "cell_type": "markdown",
   "metadata": {},
   "source": [
    "## 練習問題\n",
    "## ABC076-B"
   ]
  },
  {
   "cell_type": "code",
   "execution_count": 6,
   "metadata": {},
   "outputs": [
    {
     "name": "stdin",
     "output_type": "stream",
     "text": [
      " 4\n",
      " 3\n"
     ]
    },
    {
     "name": "stdout",
     "output_type": "stream",
     "text": [
      "2\n",
      "4\n",
      "7\n",
      "10\n",
      "10\n"
     ]
    }
   ],
   "source": [
    "N = int(input())\n",
    "K = int(input())\n",
    "\n",
    "ans = 1\n",
    "for i in range(N):\n",
    "    ans = min(ans*2, ans+K)\n",
    "print(ans)"
   ]
  },
  {
   "cell_type": "code",
   "execution_count": null,
   "metadata": {},
   "outputs": [],
   "source": []
  }
 ],
 "metadata": {
  "kernelspec": {
   "display_name": "Python 3",
   "language": "python",
   "name": "python3"
  },
  "language_info": {
   "codemirror_mode": {
    "name": "ipython",
    "version": 3
   },
   "file_extension": ".py",
   "mimetype": "text/x-python",
   "name": "python",
   "nbconvert_exporter": "python",
   "pygments_lexer": "ipython3",
   "version": "3.8.3"
  }
 },
 "nbformat": 4,
 "nbformat_minor": 4
}
