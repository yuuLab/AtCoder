{
 "cells": [
  {
   "cell_type": "markdown",
   "metadata": {},
   "source": [
    "# ABC068-C"
   ]
  },
  {
   "cell_type": "code",
   "execution_count": null,
   "metadata": {},
   "outputs": [],
   "source": []
  },
  {
   "cell_type": "code",
   "execution_count": 13,
   "metadata": {},
   "outputs": [
    {
     "name": "stdin",
     "output_type": "stream",
     "text": [
      " 3 2\n",
      " 1 2\n",
      " 2 3\n"
     ]
    },
    {
     "name": "stdout",
     "output_type": "stream",
     "text": [
      "[[1], [0, 2], [1]]\n",
      "[-1, -1, -1]\n",
      "1\n",
      "-1\n",
      "1\n",
      "0\n",
      "0\n",
      "2\n",
      "-1\n",
      "2\n",
      "1\n",
      "1\n",
      "POSSIBLE\n"
     ]
    }
   ],
   "source": [
    "from collections import deque\n",
    "N, M = map(int, input().split())\n",
    "\n",
    "# 隣接リスト\n",
    "E = [[] for _ in range(N)]\n",
    "for i in range(M):\n",
    "    a, b = map(int, input().split())\n",
    "    # aとbの間に辺をはる\n",
    "    E[a-1].append(b-1)\n",
    "    E[b-1].append(a-1)\n",
    "\n",
    "# グラフ上で幅優先探索を行い、頂点0から各頂点への距離を求める\n",
    "\n",
    "# 頂点0から各頂点への最短距離を保持する配列\n",
    "dist = [-1]*N\n",
    "Q = deque()\n",
    "# start地点は0\n",
    "start = 0\n",
    "Q.append(start)\n",
    "dist[start] = 0\n",
    "\n",
    "while len(Q) > 0:\n",
    "    i = Q.popleft()\n",
    "    for j in E[i]:\n",
    "        if dist[j] == -1:\n",
    "            dist[j] = dist[i] + 1 \n",
    "            Q.append(j)\n",
    "\n",
    "if dist[N-1] == 2:\n",
    "    print(\"POSSIBLE\")\n",
    "else:\n",
    "    print(\"IMPOSSIBLE\")"
   ]
  },
  {
   "cell_type": "markdown",
   "metadata": {},
   "source": [
    "# 上記問題をダイクストラ法で解いてみる"
   ]
  },
  {
   "cell_type": "code",
   "execution_count": null,
   "metadata": {},
   "outputs": [],
   "source": [
    "# キューではなくヒープを使用する\n",
    "import heapq\n",
    "\n",
    "\n",
    "from collections import deque\n",
    "N, M = map(int, input().split())\n",
    "\n",
    "# 隣接リスト\n",
    "E = [[] for _ in range(N)]\n",
    "\n",
    "# グラフの辺を受け取る\n",
    "for _ in range(0, M):\n",
    "    a, b = map(int, input().split())\n",
    "    E[a-1].append(b-1)\n",
    "    E[b-1].append(a-1)\n",
    "# グラフ上でダイクストラ法を実行して頂点0から各頂点への距離を求める\n",
    "\n",
    "# ヒープから一度取り出したことがあるかを保存する配列　ー＞　一度調べた頂点は見る必要がない\n",
    "# 最初はN個のFalseで埋めておく\n",
    "done = [False]*N\n",
    "\n",
    "\n",
    "dist = [-1]*N\n",
    "# ダイクストラ法で使うヒープ\n",
    "Q = []\n",
    "# 始点となる頂点0をヒープに追加しておく\n",
    "# （距離、頂点）として追加する\n",
    "heapq.heappush(Q, (0, 0))\n",
    "\n",
    "dist[0] = 0\n",
    "\n",
    "while len(Q) > 0:\n",
    "    # ヒープの頂点を取り出してiとする\n",
    "    d, i = heap.heappop(Q)\n",
    "    \n",
    "    # もし前にヒープから取り出したことがあれば、隣接する頂点を調べることをスキップ\n",
    "    if done[i]:\n",
    "        continue\n",
    "    \n",
    "    # 調査済\n",
    "    done[i] = True\n",
    "\n",
    "    # 頂点iに隣接する頂点を順番にみる\n",
    "    # 見ている頂点をjとする\n",
    "    for j in E[i]:\n",
    "        # この問題では辺の重みは常に1\n",
    "        x = 1\n",
    "        # jが未訪問だったとき、あるいはjへの最短距離が更新可能だったとき\n",
    "        # jへの最短距離を更新してヒープの末尾に追加する\n",
    "        if dist[j] == -1 or dist[j] > dist[i] + x:\n",
    "            dist[j] = dist[i] + x\n",
    "            heappush(Q, (dist[j], j))\n",
    "            \n",
    "if dist[N-1] == 2:\n",
    "    print(\"POSSIBLE\")\n",
    "else:\n",
    "    print(\"IMPOSSIBLE\")"
   ]
  },
  {
   "cell_type": "markdown",
   "metadata": {},
   "source": [
    "# ダイクストラ法\n",
    "## 典型アルゴリズム問題　D"
   ]
  },
  {
   "cell_type": "code",
   "execution_count": 18,
   "metadata": {},
   "outputs": [
    {
     "name": "stdin",
     "output_type": "stream",
     "text": [
      " 3 4\n",
      " 0 1 1\n",
      " 1 0 2\n",
      " 1 2 3\n",
      " 2 0 4\n"
     ]
    },
    {
     "name": "stdout",
     "output_type": "stream",
     "text": [
      "4\n"
     ]
    }
   ],
   "source": [
    "import heapq\n",
    "\n",
    "N, M = map(int, input().split())\n",
    "\n",
    "#隣接リスト\n",
    "E = []\n",
    "#調査済フラグ\n",
    "done = []\n",
    "#距離の保持\n",
    "dist = []\n",
    "for _ in range(N):\n",
    "    E.append([])\n",
    "    done.append(False)\n",
    "    dist.append(-1)\n",
    "\n",
    "for _ in range(M):\n",
    "    u, v, c = map(int, input().split())\n",
    "    # 距離とコストを保持\n",
    "    E[u].append((v, c))\n",
    "\n",
    "# ダイクストラ法で使うヒープ\n",
    "Q = []\n",
    "# 始点となる頂点0をヒープに追加しておく\n",
    "# （距離、頂点）として追加する\n",
    "heapq.heappush(Q, (0, 0))\n",
    "\n",
    "dist[0] = 0\n",
    "while len(Q) > 0:\n",
    "    d, i = heapq.heappop(Q)\n",
    "    if done[i]:\n",
    "        continue\n",
    "    done[i] = True\n",
    "    \n",
    "    for (j, c) in E[i]:\n",
    "        if dist[j] == -1 or dist[j] > dist[i] + c:\n",
    "            dist[j] = dist[i] + c\n",
    "            heapq.heappush(Q, (dist[j], j))\n",
    "\n",
    "print(dist[N-1])"
   ]
  }
 ],
 "metadata": {
  "kernelspec": {
   "display_name": "Python 3",
   "language": "python",
   "name": "python3"
  },
  "language_info": {
   "codemirror_mode": {
    "name": "ipython",
    "version": 3
   },
   "file_extension": ".py",
   "mimetype": "text/x-python",
   "name": "python",
   "nbconvert_exporter": "python",
   "pygments_lexer": "ipython3",
   "version": "3.8.3"
  }
 },
 "nbformat": 4,
 "nbformat_minor": 4
}
