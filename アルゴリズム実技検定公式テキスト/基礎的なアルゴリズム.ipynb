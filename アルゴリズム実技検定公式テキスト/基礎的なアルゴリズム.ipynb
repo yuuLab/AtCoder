{
 "cells": [
  {
   "cell_type": "markdown",
   "metadata": {},
   "source": [
    "# 2次元配列\n",
    "---"
   ]
  },
  {
   "cell_type": "markdown",
   "metadata": {},
   "source": [
    "## ABC157-B"
   ]
  },
  {
   "cell_type": "code",
   "execution_count": 1,
   "metadata": {},
   "outputs": [
    {
     "name": "stdin",
     "output_type": "stream",
     "text": [
      " 84 97 66\n",
      " 79 89 11\n",
      " 61 59 7\n",
      " 7\n"
     ]
    }
   ],
   "source": [
    "A = [list(map(int, input().split())) for _ in range(3)]\n",
    "N = int(input())\n",
    "\n",
    "def is_bingo(card):\n",
    "    for i in range(3):\n",
    "        if card[i][0] == card[i][1] == card[i][2] == -1:\n",
    "            return True\n",
    "    for i in range(3):\n",
    "        if card[0][i] == card[1][i] == card[2][i] == -1:\n",
    "            return True\n",
    "    if card[0][0] == card[1][1] == card[2][2] == -1:\n",
    "        return True\n",
    "    if card[0][2] == card[1][1] == card[2][0] == -1:\n",
    "        return True\n",
    "    return False\n",
    "\n",
    "for i in range(N):\n",
    "    b = int(input())\n",
    "    for j, a in enumerate(A):\n",
    "        for k in range(3):\n",
    "            if a[k] == b:\n",
    "                A[j][k] = -1\n",
    "if is_bingo(A):\n",
    "    print('Yes')\n",
    "else:\n",
    "    print('No')"
   ]
  },
  {
   "cell_type": "markdown",
   "metadata": {},
   "source": [
    "## ABC088-C"
   ]
  },
  {
   "cell_type": "code",
   "execution_count": 15,
   "metadata": {},
   "outputs": [
    {
     "name": "stdout",
     "output_type": "stream",
     "text": [
      "Yes\n"
     ]
    }
   ],
   "source": [
    "c=[list(map(int,input().split())) for i in range(3)]\n",
    "x=c[0][2]-c[0][1]\n",
    "y=c[0][1]-c[0][0]\n",
    "for i in range(1,3):\n",
    "    if c[i][1]-c[i][0]!=y:\n",
    "        print(\"No\")\n",
    "        break\n",
    "    if c[i][2]-c[i][1]!=x:\n",
    "        print(\"No\")\n",
    "        break\n",
    "else:\n",
    "    print(\"Yes\")"
   ]
  },
  {
   "cell_type": "markdown",
   "metadata": {},
   "source": [
    "# 全探索\n",
    "---"
   ]
  },
  {
   "cell_type": "markdown",
   "metadata": {},
   "source": [
    "## ARC046-A"
   ]
  },
  {
   "cell_type": "code",
   "execution_count": 16,
   "metadata": {},
   "outputs": [
    {
     "name": "stdin",
     "output_type": "stream",
     "text": [
      " 1\n"
     ]
    }
   ],
   "source": [
    "N = int(input())"
   ]
  },
  {
   "cell_type": "code",
   "execution_count": 33,
   "metadata": {},
   "outputs": [
    {
     "name": "stdout",
     "output_type": "stream",
     "text": [
      "1\n"
     ]
    }
   ],
   "source": [
    "zorome = []\n",
    "\n",
    "for num in range(1, 600000):\n",
    "    ans = True\n",
    "    S = str(num)[0] \n",
    "    for s in str(num):\n",
    "        if s != S:\n",
    "            ans = False\n",
    "            break\n",
    "    if ans:\n",
    "        zorome.append(num)\n",
    "print(zorome[N-1])"
   ]
  },
  {
   "cell_type": "markdown",
   "metadata": {},
   "source": [
    "## ABC165-A"
   ]
  },
  {
   "cell_type": "code",
   "execution_count": 7,
   "metadata": {},
   "outputs": [
    {
     "name": "stdin",
     "output_type": "stream",
     "text": [
      " 1\n",
      " 11 11\n"
     ]
    }
   ],
   "source": [
    "K = int(input())\n",
    "A, B = map(int, input().split())"
   ]
  },
  {
   "cell_type": "code",
   "execution_count": 9,
   "metadata": {},
   "outputs": [
    {
     "name": "stdout",
     "output_type": "stream",
     "text": [
      "OK\n"
     ]
    }
   ],
   "source": [
    "flag = True\n",
    "for i in range(A, B+1):\n",
    "    if i % K == 0:\n",
    "        print('OK')\n",
    "        flag = False\n",
    "        break\n",
    "if flag:\n",
    "    print('NG')"
   ]
  }
 ],
 "metadata": {
  "kernelspec": {
   "display_name": "Python 3",
   "language": "python",
   "name": "python3"
  },
  "language_info": {
   "codemirror_mode": {
    "name": "ipython",
    "version": 3
   },
   "file_extension": ".py",
   "mimetype": "text/x-python",
   "name": "python",
   "nbconvert_exporter": "python",
   "pygments_lexer": "ipython3",
   "version": "3.8.3"
  }
 },
 "nbformat": 4,
 "nbformat_minor": 4
}
