{
 "cells": [
  {
   "cell_type": "markdown",
   "metadata": {},
   "source": [
    "# メモ化再帰\n",
    "---"
   ]
  },
  {
   "cell_type": "markdown",
   "metadata": {},
   "source": [
    "## Atcoder Education DP Contest A\n",
    "メモ化再帰で解く"
   ]
  },
  {
   "cell_type": "code",
   "execution_count": 2,
   "metadata": {},
   "outputs": [
    {
     "name": "stdin",
     "output_type": "stream",
     "text": [
      " 2\n",
      " 1 2\n"
     ]
    },
    {
     "name": "stdout",
     "output_type": "stream",
     "text": [
      "1\n"
     ]
    }
   ],
   "source": [
    "import sys\n",
    "sys.setrecursionlimit(1000000)\n",
    "\n",
    "N = int(input())\n",
    "h = list(map(int, input().split()))\n",
    "\n",
    "# cost[i]にたどり着くための最小コスト\n",
    "cost = [0]*N\n",
    "\n",
    "# done[i]:cost[i]がすでに計算済であることを示しフラグ\n",
    "done = [False]*N\n",
    "\n",
    "# メモ化再帰の実装\n",
    "def rec(i):\n",
    "    if done[i]:\n",
    "        return cost[i]\n",
    "    if i == 0:\n",
    "        cost[i] = 0\n",
    "    elif i == 1:\n",
    "        cost[i] = rec(0) + abs(h[0]-h[1])\n",
    "    else:\n",
    "        cost[i] = min(rec(i-1) + abs(h[i-1]-h[i]), rec(i-2) + abs(h[i-2]-h[i]))\n",
    "    \n",
    "    done[i] = True\n",
    "    return cost[i]\n",
    "\n",
    "print(rec(N-1))"
   ]
  },
  {
   "cell_type": "markdown",
   "metadata": {},
   "source": [
    "# 多次元配列を用いた動的計画法\n",
    "---"
   ]
  },
  {
   "cell_type": "markdown",
   "metadata": {},
   "source": [
    "## Atcoder Educationl DP Contest D\n",
    "\n",
    "### knapsack01"
   ]
  },
  {
   "cell_type": "code",
   "execution_count": 12,
   "metadata": {},
   "outputs": [
    {
     "name": "stdin",
     "output_type": "stream",
     "text": [
      " 3 8\n",
      " 3 30\n",
      " 4 50\n",
      " 5 60\n"
     ]
    },
    {
     "name": "stdout",
     "output_type": "stream",
     "text": [
      "90\n"
     ]
    }
   ],
   "source": [
    "N, W = map(int, input().split())\n",
    "ws = [0]\n",
    "vs = [0]\n",
    "for i in range(N):\n",
    "    w, v = map(int, input().split())\n",
    "    ws.append(w)\n",
    "    vs.append(v)\n",
    "    \n",
    "value = [[-10**18]*(W+1) for _ in range(N+1)]\n",
    "# 初期条件\n",
    "value[0][0] = 0\n",
    "for i in range(1, N+1):\n",
    "    for w in range(W+1):\n",
    "        # 品物iを使わない場合\n",
    "        value[i][w] = max(value[i][w], value[i-1][w])\n",
    "        # 品物iを使う場合\n",
    "        if w-ws[i] >= 0:\n",
    "            value[i][w] = max(value[i][w], value[i-1][w-ws[i]] + vs[i])\n",
    "            \n",
    "ans = max(value[N])\n",
    "print(ans)"
   ]
  },
  {
   "cell_type": "markdown",
   "metadata": {},
   "source": [
    "## Atcoder Educationl DP Contest E\n",
    "### knapsack02"
   ]
  },
  {
   "cell_type": "code",
   "execution_count": null,
   "metadata": {},
   "outputs": [],
   "source": [
    "N, W = map(int, input().split())\n",
    "ws = [0]\n",
    "vs = [0]\n",
    "\n",
    "weight = [[float('INF')]*((10**5)+1) for _ in range(N+1)]\n",
    "for i in range(N):\n",
    "    w, v = map(int, input().split())\n",
    "    ws.append(w)\n",
    "    vs.append(v)\n",
    "    \n",
    "weight[0][0] = 0\n",
    "\n",
    "for i in range(1, N+1):\n",
    "    for v in range(10**5+1):\n",
    "        # 品物iを使わない場合\n",
    "        weight[i][v] = weight[i-1][v]\n",
    "        # 品物iを使う場合\n",
    "        if v-vs[i] >= 0:\n",
    "            weight[i][v] = min(weight[i][v], weight[i-1][v-vs[i]] + ws[i])\n",
    "\n",
    "ans = 0\n",
    "for i in range(10**5, -1, -1):\n",
    "    if weight[N][i] <= W:\n",
    "        ans = i\n",
    "        break\n",
    "print(ans)"
   ]
  },
  {
   "cell_type": "markdown",
   "metadata": {},
   "source": [
    "## 部分和問題\n",
    "### AtCoder Typical DP Contest A"
   ]
  },
  {
   "cell_type": "code",
   "execution_count": 3,
   "metadata": {},
   "outputs": [
    {
     "name": "stdin",
     "output_type": "stream",
     "text": [
      " 3\n",
      " 2 3 5\n"
     ]
    }
   ],
   "source": [
    "N = int(input())\n",
    "ps = [0] + list(map(int, input().split()))"
   ]
  },
  {
   "cell_type": "code",
   "execution_count": 4,
   "metadata": {},
   "outputs": [
    {
     "name": "stdout",
     "output_type": "stream",
     "text": [
      "7\n"
     ]
    }
   ],
   "source": [
    "P = sum(ps)\n",
    "# exist[i][s]:iまでの問題で得点合計をsにする\n",
    "exist = [[False]*(P+1) for _ in range(N+1)]\n",
    "\n",
    "#初期条件\n",
    "exist[0][0] = True\n",
    "\n",
    "# iが小さい順にexistの値を埋めていく\n",
    "for i in range(1, N+1):\n",
    "    for s in range(P+1):\n",
    "        # 問題iを解かない場合\n",
    "        if exist[i-1][s]:\n",
    "            exist[i][s] = True\n",
    "        # 問題iを解く場合\n",
    "        if s >= ps[i] and exist[i-1][s-ps[i]]:\n",
    "            exist[i][s] = True\n",
    "            \n",
    "ans = 0\n",
    "for s in range(P+1):\n",
    "    if exist[N][s]:\n",
    "        ans += 1\n",
    "print(ans)"
   ]
  },
  {
   "cell_type": "markdown",
   "metadata": {},
   "source": [
    "# グラフに対する動的計画法\n",
    "---"
   ]
  },
  {
   "cell_type": "markdown",
   "metadata": {},
   "source": [
    "## 木に対する動的計画法　木DP\n",
    "### ABC026-C"
   ]
  },
  {
   "cell_type": "code",
   "execution_count": 8,
   "metadata": {},
   "outputs": [
    {
     "name": "stdin",
     "output_type": "stream",
     "text": [
      " 10\n",
      " 1\n",
      " 2\n",
      " 3\n",
      " 4\n",
      " 5\n",
      " 6\n",
      " 7\n",
      " 8\n",
      " 9\n"
     ]
    },
    {
     "name": "stdout",
     "output_type": "stream",
     "text": [
      "1023\n"
     ]
    }
   ],
   "source": [
    "import sys\n",
    "sys.setrecursionlimit(1000000)\n",
    "\n",
    "N = int(input())\n",
    "# chile: 頂点iの子（部下）となる頂点たち\n",
    "child = [[] for _ in range(N)]\n",
    "for i in range(1, N):\n",
    "    b = int(input())\n",
    "    child[b-1].append(i)\n",
    "    \n",
    "# dfs(i):頂点iの子の給料をすべて求め、自身の給料を計算して返す\n",
    "def dfs(i):\n",
    "    if len(child[i]) == 0:\n",
    "        return 1\n",
    "    else:\n",
    "        values = []\n",
    "        for j in child[i]:\n",
    "            values.append(dfs(j))\n",
    "        return max(values) + min(values) + 1\n",
    "print(dfs(0))"
   ]
  },
  {
   "cell_type": "markdown",
   "metadata": {},
   "source": [
    "## 有向グラフに対する動的計画法\n",
    "### AtCoder EducatioalDP Contest G\n",
    "\n",
    "トポロジカルソートという考え方を用いる  \n",
    "閉路のないグラフにおいて、辺に沿って進むほど値が大きくなるように、N個の頂点に0,1,2,....,N-1の番号を割り当てることを指す"
   ]
  },
  {
   "cell_type": "code",
   "execution_count": 9,
   "metadata": {},
   "outputs": [
    {
     "name": "stdin",
     "output_type": "stream",
     "text": [
      " 6 3\n",
      " 2 3\n",
      " 4 5\n",
      " 5 6\n"
     ]
    },
    {
     "name": "stdout",
     "output_type": "stream",
     "text": [
      "2\n"
     ]
    }
   ],
   "source": [
    "import sys\n",
    "sys.setrecursionlimit(100000)\n",
    "\n",
    "N, M = list(map(int, input().split()))\n",
    "# edges[i]:頂点iから辺が伸びている頂点たち（隣接リスト）\n",
    "edges = [[] for _ in range(N)]\n",
    "#入次数。始点の判定に使う\n",
    "indeg = [0]*N\n",
    "\n",
    "# 辺の情報を受け取り、隣接リストを作る\n",
    "for i in range(M):\n",
    "    x, y = list(map(int, input().split()))\n",
    "    edges[x-1].append(y-1)\n",
    "    indeg[y-1] += 1\n",
    "\n",
    "# length[i]:頂点iから始まるパスの最大長\n",
    "length = [0]*N\n",
    "# done[i]:cost[i]がすでに計算済であることを示すフラグ\n",
    "done = [False]*N\n",
    "\n",
    "# メモ化再帰\n",
    "def rec(i):\n",
    "    # 計算済であれば即座に値を返す\n",
    "    if done[i]:\n",
    "        return length[i]\n",
    "    # そうでなければ値を計算する\n",
    "    length[i] = 0\n",
    "    for j in edges[i]:\n",
    "        length[i] = max(length[i], rec(j)+1)\n",
    "    # 計算済フラグを立てる\n",
    "    done[i] = True\n",
    "    return length[i]\n",
    "\n",
    "# 始点すべてについてrecを呼び出す\n",
    "for i in range(N):\n",
    "    if indeg[i] == 0:\n",
    "        rec(i)\n",
    "        \n",
    "print(max(length))"
   ]
  },
  {
   "cell_type": "code",
   "execution_count": null,
   "metadata": {},
   "outputs": [],
   "source": []
  }
 ],
 "metadata": {
  "kernelspec": {
   "display_name": "Python 3",
   "language": "python",
   "name": "python3"
  },
  "language_info": {
   "codemirror_mode": {
    "name": "ipython",
    "version": 3
   },
   "file_extension": ".py",
   "mimetype": "text/x-python",
   "name": "python",
   "nbconvert_exporter": "python",
   "pygments_lexer": "ipython3",
   "version": "3.8.5"
  }
 },
 "nbformat": 4,
 "nbformat_minor": 4
}
