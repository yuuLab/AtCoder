{
 "cells": [
  {
   "cell_type": "markdown",
   "metadata": {},
   "source": [
    "# 累積和\n",
    "---"
   ]
  },
  {
   "cell_type": "markdown",
   "metadata": {},
   "source": [
    "## 累積和の実装"
   ]
  },
  {
   "cell_type": "code",
   "execution_count": 3,
   "metadata": {},
   "outputs": [
    {
     "name": "stdout",
     "output_type": "stream",
     "text": [
      "[0, 1, 2, 3, 4, 5, 6, 7, 8, 9, 10]\n"
     ]
    }
   ],
   "source": [
    "# 累積和の配列\n",
    "A = [1]*10\n",
    "N = len(A)\n",
    "\n",
    "Sum = [0]\n",
    "for i in range(0, N):\n",
    "    Sum.append(Sum[i] + A[i])\n",
    "print(Sum)"
   ]
  },
  {
   "cell_type": "markdown",
   "metadata": {},
   "source": [
    "## 練習問題"
   ]
  },
  {
   "cell_type": "markdown",
   "metadata": {},
   "source": [
    "## ARC098-C"
   ]
  },
  {
   "cell_type": "code",
   "execution_count": 5,
   "metadata": {},
   "outputs": [
    {
     "name": "stdin",
     "output_type": "stream",
     "text": [
      " 5\n",
      " WEEWW\n"
     ]
    }
   ],
   "source": [
    "N = int(input())\n",
    "S = input()"
   ]
  },
  {
   "cell_type": "code",
   "execution_count": null,
   "metadata": {},
   "outputs": [],
   "source": [
    "# 向きを帰る必要がある人数の最小値を保持する変数\n",
    "# 答えになり得ない大きい値で初期化しておく\n",
    "min_turn = 300000\n",
    "\n",
    "# 西を向いている人の数の累積和（i番目までで西を向いている人の数を保持する）\n",
    "sum_W = [0]\n",
    "for i in range(0, N):\n",
    "    if S[i] == \"W\":\n",
    "        sum_W.append(sum_W[i] + 1)\n",
    "    else:\n",
    "        sum_W.append(sum_W[i])\n",
    "        \n",
    "for i in range(0, N):\n",
    "    # リーダーiより西側にいて西を向いている人の人数\n",
    "    w = sum_W[i]\n",
    "    # リーダーiより東にいて東を向いている人の人数\n",
    "    # = (i+1番目からN-1番目までの全体の数) - (i+1番目からN-1番目までの'W'の個数)\n",
    "    e = (N - 1 - i) - (sum_W[N] - sum_W[i + 1])\n",
    "    \n",
    "    # 人iをリーダーとした時の向きを帰る必要がある人数\n",
    "    turn = w + e\n",
    "    \n",
    "    # リーダーiの場合について数え終わったら、向きを変える必要がある人数の最小値を更新する\n",
    "    min_turn = min(turn, min_turn)\n",
    "\n",
    "print(min_turn)"
   ]
  }
 ],
 "metadata": {
  "kernelspec": {
   "display_name": "Python 3",
   "language": "python",
   "name": "python3"
  },
  "language_info": {
   "codemirror_mode": {
    "name": "ipython",
    "version": 3
   },
   "file_extension": ".py",
   "mimetype": "text/x-python",
   "name": "python",
   "nbconvert_exporter": "python",
   "pygments_lexer": "ipython3",
   "version": "3.8.3"
  }
 },
 "nbformat": 4,
 "nbformat_minor": 4
}
