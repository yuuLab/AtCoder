{
 "cells": [
  {
   "cell_type": "markdown",
   "metadata": {},
   "source": [
    "# 一次元配列を用いたメモ化再帰化\n",
    "---"
   ]
  },
  {
   "cell_type": "markdown",
   "metadata": {},
   "source": [
    "## Atcoder Education DP Contest A"
   ]
  },
  {
   "cell_type": "code",
   "execution_count": 22,
   "metadata": {},
   "outputs": [
    {
     "name": "stdin",
     "output_type": "stream",
     "text": [
      " 4\n",
      " 10 30 40 20\n"
     ]
    }
   ],
   "source": [
    "N = int(input())\n",
    "h = list(map(int, input().split()))"
   ]
  },
  {
   "cell_type": "code",
   "execution_count": 29,
   "metadata": {},
   "outputs": [
    {
     "name": "stdout",
     "output_type": "stream",
     "text": [
      "30\n"
     ]
    }
   ],
   "source": [
    "dp = [0]*N\n",
    "dp[0] = 0\n",
    "dp[1] = abs(h[1]-h[0])\n",
    "for i in range(2, N):\n",
    "    dp[i] = min(dp[i-1] + abs(h[i-1]-h[i]), dp[i-2] + abs(h[i-2]-h[i]))\n",
    "print(dp[-1])"
   ]
  },
  {
   "cell_type": "markdown",
   "metadata": {},
   "source": [
    "## 第三回アルゴリズム実技検定\n",
    "- https://atcoder.jp/contests/past202005-open/tasks/past202005_h"
   ]
  },
  {
   "cell_type": "code",
   "execution_count": 33,
   "metadata": {},
   "outputs": [
    {
     "name": "stdin",
     "output_type": "stream",
     "text": [
      " 2 5\n",
      " 1 4\n",
      " 2 2 20\n"
     ]
    }
   ],
   "source": [
    "N, L = map(int, input().split())\n",
    "X = list(map(int, input().split()))\n",
    "T1, T2, T3 = map(int, input().split())"
   ]
  },
  {
   "cell_type": "code",
   "execution_count": 34,
   "metadata": {},
   "outputs": [
    {
     "name": "stdout",
     "output_type": "stream",
     "text": [
      "10\n"
     ]
    }
   ],
   "source": [
    "# ハードルがある座標においてTrueとなる配列\n",
    "H = [False]*(L+1)\n",
    "for x in X:\n",
    "    H[x] = True\n",
    "\n",
    "# cost[i]：座標iで行動を終了するまでの最小所要時間\n",
    "# 非常に大きな値で初期化しておき、minを用いて更新する\n",
    "cost = [float('inf')]*(L+1)\n",
    "\n",
    "cost[0] = 0\n",
    "for i in range(1, L+1):\n",
    "    # 行動1\n",
    "    cost[i] = min(cost[i], cost[i-1]+T1)\n",
    "    # 行動2\n",
    "    if i >= 2:\n",
    "        cost[i] = min(cost[i], cost[i-2]+T1+T2)\n",
    "    # 行動3\n",
    "    if i >= 4:\n",
    "        cost[i] = min(cost[i], cost[i-4]+T1+3*T2)\n",
    "    # もしハードルがあれば\n",
    "    if H[i]:\n",
    "        cost[i] += T3\n",
    "\n",
    "# 答えはピッタリ止まるか、座標（L-3）〜（L-1）からジャンプ中にゴールしたもの\n",
    "ans = cost[L]\n",
    "for i in [L-3, L-2, L-1]:\n",
    "    if i >= 0:\n",
    "        ans = min(ans, cost[i] + T1//2 + T2*(2*(L-i)-1)//2)\n",
    "print(ans)"
   ]
  },
  {
   "cell_type": "code",
   "execution_count": null,
   "metadata": {},
   "outputs": [],
   "source": []
  }
 ],
 "metadata": {
  "kernelspec": {
   "display_name": "Python 3",
   "language": "python",
   "name": "python3"
  },
  "language_info": {
   "codemirror_mode": {
    "name": "ipython",
    "version": 3
   },
   "file_extension": ".py",
   "mimetype": "text/x-python",
   "name": "python",
   "nbconvert_exporter": "python",
   "pygments_lexer": "ipython3",
   "version": "3.8.5"
  }
 },
 "nbformat": 4,
 "nbformat_minor": 4
}
