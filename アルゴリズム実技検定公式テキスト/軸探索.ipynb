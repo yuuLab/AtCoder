{
 "cells": [
  {
   "cell_type": "markdown",
   "metadata": {},
   "source": [
    "# 軸優先探索 Breadth-First Search BFS\n",
    "---"
   ]
  },
  {
   "cell_type": "code",
   "execution_count": 2,
   "metadata": {},
   "outputs": [],
   "source": [
    "# 軸優先の考え方\n",
    "from collections import deque\n",
    "\n",
    "# 頂点数\n",
    "N = 5\n",
    "# 始点 s\n",
    "s = 0\n",
    "\n",
    "# N個のFasleで初期化した配列visitedを用意する\n",
    "visited = [False for _ in range(N)]\n",
    "\n",
    "# キューを用意する\n",
    "Q = deque()\n",
    "Q.append(s)\n",
    "visited[s] = True\n",
    "\n",
    "# キューから取り出しながら探索する\n",
    "while len(Q) > 0:\n",
    "    i = Q.popleft()\n",
    "    for j in E[i]:\n",
    "        if not visited[j]:\n",
    "            visited[j] = True\n",
    "            Q.append(j)"
   ]
  },
  {
   "cell_type": "markdown",
   "metadata": {},
   "source": [
    "## ABC007-C"
   ]
  },
  {
   "cell_type": "code",
   "execution_count": 6,
   "metadata": {},
   "outputs": [
    {
     "name": "stdin",
     "output_type": "stream",
     "text": [
      " 7 8\n",
      " 2 2\n",
      " 4 5\n",
      " ########\n",
      " #......#\n",
      " #.######\n",
      " #..#...#\n",
      " #..##..#\n",
      " ##.....#\n",
      " ########\n"
     ]
    }
   ],
   "source": [
    "from collections import deque\n",
    "R, C = map(int, input().split())\n",
    "sy, sx = map(int, input().split())\n",
    "gy, gx = map(int, input().split())\n",
    "c = [input() for _ in range(R)]"
   ]
  },
  {
   "cell_type": "code",
   "execution_count": 12,
   "metadata": {},
   "outputs": [
    {
     "name": "stdout",
     "output_type": "stream",
     "text": [
      "-1\n"
     ]
    }
   ],
   "source": [
    "from collections import deque\n",
    "R, C = map(int, input().split())\n",
    "sy, sx = map(int, input().split())\n",
    "gy, gx = map(int, input().split())\n",
    "c = [input() for _ in range(R)]\n",
    "\n",
    "sy -= 1\n",
    "sx -= 1\n",
    "gy -= 1\n",
    "gx -= 1\n",
    "\n",
    "# 始点からの最小移動回数を記録しておく2次元配列 -1のとき未訪問\n",
    "dist = [[-1]*C for _ in range(R)]\n",
    "\n",
    "# キューを用意して始点を入れる\n",
    "Q = deque()\n",
    "Q.append([sy, sx])\n",
    "dist[sy][sx] = 0\n",
    "\n",
    "# キューから取り出しながら探索する\n",
    "while len(Q) > 0:\n",
    "    i, j = Q.popleft()\n",
    "    for i2, j2 in [[i+1, j], [i-1, j], [i, j+1], [i, j-1]]:\n",
    "        if not (0 <= i2 < R and 0 <= j2 < C):\n",
    "            continue\n",
    "        # 壁ますならスキップ\n",
    "        if c[i][j] == '#':\n",
    "            continue\n",
    "        # 未訪問なら距離を更新してキュー追加\n",
    "        if dist[i2][j2] == -1:\n",
    "            dist[i2][j2] = dist[i][j] + 1\n",
    "            Q.append([i2, j2])\n",
    "print(dist[gy][gx])\n"
   ]
  },
  {
   "cell_type": "markdown",
   "metadata": {},
   "source": [
    "# 深さ優先探索 Depth-First Search DFS\n",
    "---"
   ]
  },
  {
   "cell_type": "code",
   "execution_count": 20,
   "metadata": {},
   "outputs": [],
   "source": [
    "# 深さ優先探索の考え方　-再帰で考える\n",
    "\n",
    "# 再帰上限を増やす\n",
    "import sys\n",
    "sys.setrecursionlimit(10**5)\n",
    "\n",
    "# 頂点N\n",
    "N = 10\n",
    "\n",
    "# 辺情報\n",
    "E = [[1, 1], [2, 2]]\n",
    "\n",
    "# 始点\n",
    "S = 1\n",
    "\n",
    "visited = [False for _ in range(N)]\n",
    "\n",
    "def dfs(i):\n",
    "    visited[i] = True\n",
    "    for j in E[i]:\n",
    "        if not visited[j]:\n",
    "            dfs(j)\n",
    "# 始点から呼び出す\n",
    "dfs(s)"
   ]
  },
  {
   "cell_type": "markdown",
   "metadata": {},
   "source": [
    "## ATC001-A"
   ]
  },
  {
   "cell_type": "code",
   "execution_count": 21,
   "metadata": {},
   "outputs": [
    {
     "name": "stdin",
     "output_type": "stream",
     "text": [
      " 4 4\n",
      " ...s\n",
      " ....\n",
      " ....\n",
      " .g..\n"
     ]
    }
   ],
   "source": [
    "import sys\n",
    "sys.setrecursionlimit(10**5)\n",
    "H, W = map(int, input().split())\n",
    "S = [input() for _ in range(H)]"
   ]
  },
  {
   "cell_type": "code",
   "execution_count": 24,
   "metadata": {},
   "outputs": [
    {
     "name": "stdout",
     "output_type": "stream",
     "text": [
      "Yes\n"
     ]
    }
   ],
   "source": [
    "visited = [[False]*W for _ in range(H)]\n",
    "# 始点と終点探し\n",
    "for i in range(H):\n",
    "    for j in range(W):\n",
    "        if S[i][j] == 's':\n",
    "            si, sj = i, j\n",
    "        if S[i][j] == 'g':\n",
    "            gi, gj = i, j\n",
    "# 再帰関数\n",
    "def dfs(i, j):\n",
    "    visited[i][j] = True\n",
    "    for i2, j2 in [[i+1, j], [i-1, j], [i, j+1], [i, j-1]]:\n",
    "        if not (0 <= i2 < H and 0 <= j2 < W):\n",
    "            continue\n",
    "        if S[i][j] == '#':\n",
    "            continue\n",
    "        if not visited[i2][j2]:\n",
    "            dfs(i2, j2)\n",
    "            \n",
    "# 始点から呼び出す\n",
    "dfs(si, sj)\n",
    "\n",
    "if visited[gi][gj]:\n",
    "    print('Yes')\n",
    "else:\n",
    "    print('No')"
   ]
  },
  {
   "cell_type": "markdown",
   "metadata": {},
   "source": [
    "## 練習問題\n",
    "---"
   ]
  },
  {
   "cell_type": "markdown",
   "metadata": {},
   "source": [
    "## ABC114-C"
   ]
  },
  {
   "cell_type": "code",
   "execution_count": 25,
   "metadata": {},
   "outputs": [
    {
     "name": "stdin",
     "output_type": "stream",
     "text": [
      " 575\n"
     ]
    }
   ],
   "source": [
    "N = int(input())"
   ]
  },
  {
   "cell_type": "code",
   "execution_count": 26,
   "metadata": {},
   "outputs": [
    {
     "name": "stdout",
     "output_type": "stream",
     "text": [
      "6\n"
     ]
    }
   ],
   "source": [
    "ans = 0\n",
    "# 数０について調べ、use3, use5, use7はそれぞれ3, 5, 7を使ったかどうかのフラグ\n",
    "def dfs(n, use3, use5, use7):\n",
    "    global ans\n",
    "    if n > N:\n",
    "        return\n",
    "    # 3種類全てを使用していた場合、加算する\n",
    "    if use3 and use5 and use7:\n",
    "        ans += 1\n",
    "    # 末尾に3, 5, 7をつけた数を再帰的に調べる\n",
    "    dfs(10*n+3, True, use5, use7)\n",
    "    dfs(10*n+5, use3, True, use7)\n",
    "    dfs(10*n+5, use3, use5, True)\n",
    "    \n",
    "# 何もない状態から呼び出す\n",
    "dfs(0, False, False, False)\n",
    "print(ans)"
   ]
  },
  {
   "cell_type": "code",
   "execution_count": null,
   "metadata": {},
   "outputs": [],
   "source": []
  }
 ],
 "metadata": {
  "kernelspec": {
   "display_name": "Python 3",
   "language": "python",
   "name": "python3"
  },
  "language_info": {
   "codemirror_mode": {
    "name": "ipython",
    "version": 3
   },
   "file_extension": ".py",
   "mimetype": "text/x-python",
   "name": "python",
   "nbconvert_exporter": "python",
   "pygments_lexer": "ipython3",
   "version": "3.8.3"
  }
 },
 "nbformat": 4,
 "nbformat_minor": 4
}
