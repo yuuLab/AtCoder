{
 "cells": [
  {
   "cell_type": "markdown",
   "metadata": {},
   "source": [
    "#  ABC129-C"
   ]
  },
  {
   "cell_type": "code",
   "execution_count": 5,
   "metadata": {},
   "outputs": [
    {
     "name": "stdin",
     "output_type": "stream",
     "text": [
      " 100 5\n",
      " 1\n",
      " 23\n",
      " 45\n",
      " 67\n",
      " 89\n"
     ]
    },
    {
     "name": "stdout",
     "output_type": "stream",
     "text": [
      "608200469\n"
     ]
    }
   ],
   "source": [
    "N, M = map(int, input().split())\n",
    "ok = [True]*(N+1)\n",
    "for i in range(M):\n",
    "    a = int(input())\n",
    "    ok[a] = False\n",
    "\n",
    "MOD = 10**9 + 7\n",
    "\n",
    "cnt = [0] * (N+1)\n",
    "cnt[0] = 1\n",
    "for i in range(1, N+1):\n",
    "    if ok[i]:\n",
    "        if i == 1:\n",
    "            cnt[i] = cnt[i-1]\n",
    "        else:\n",
    "            # i段目に辿り着くのは、一段前と二段前の2パターンがありうる\n",
    "            cnt[i] = (cnt[i-1] + cnt[i-2]) % MOD\n",
    "            \n",
    "print(cnt[N])"
   ]
  },
  {
   "cell_type": "code",
   "execution_count": null,
   "metadata": {},
   "outputs": [],
   "source": []
  }
 ],
 "metadata": {
  "kernelspec": {
   "display_name": "Python 3",
   "language": "python",
   "name": "python3"
  },
  "language_info": {
   "codemirror_mode": {
    "name": "ipython",
    "version": 3
   },
   "file_extension": ".py",
   "mimetype": "text/x-python",
   "name": "python",
   "nbconvert_exporter": "python",
   "pygments_lexer": "ipython3",
   "version": "3.8.3"
  }
 },
 "nbformat": 4,
 "nbformat_minor": 4
}
