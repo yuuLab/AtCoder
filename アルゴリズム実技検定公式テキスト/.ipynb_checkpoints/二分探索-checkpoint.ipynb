{
 "cells": [
  {
   "cell_type": "markdown",
   "metadata": {},
   "source": [
    "# 二分探索\n",
    "---"
   ]
  },
  {
   "cell_type": "code",
   "execution_count": 1,
   "metadata": {},
   "outputs": [
    {
     "name": "stdin",
     "output_type": "stream",
     "text": [
      " 8 4\n",
      " 1 3 5 7 9 11 13 15\n"
     ]
    }
   ],
   "source": [
    "N, K = map(int, input().split())\n",
    "A = list(map(int, input().split()))"
   ]
  },
  {
   "cell_type": "code",
   "execution_count": 5,
   "metadata": {},
   "outputs": [
    {
     "name": "stdout",
     "output_type": "stream",
     "text": [
      "2\n"
     ]
    }
   ],
   "source": [
    "#条件を満たすことがわかっている要素のうち、左端の要素のインデックス\n",
    "ok = N\n",
    "#条件を満たすことが分かっていうる要素のうち、右端のインデックス\n",
    "ng = -1\n",
    "\n",
    "while abs(ok-ng) > 1:\n",
    "    mid = (ok+ng) // 2\n",
    "    if A[mid] >= K:\n",
    "        ok = mid\n",
    "    else:\n",
    "        ng = mid\n",
    "        \n",
    "# 条件を満たす要素が存在しない場合はokが初期値のままとなるため、-1を出力\n",
    "if ok == N:\n",
    "    print(-1)\n",
    "else:\n",
    "    print(ok)"
   ]
  },
  {
   "cell_type": "code",
   "execution_count": 6,
   "metadata": {},
   "outputs": [
    {
     "name": "stdin",
     "output_type": "stream",
     "text": [
      " 8 4\n",
      " 1 3 5 7 9 11 13 15\n"
     ]
    },
    {
     "name": "stdout",
     "output_type": "stream",
     "text": [
      "2\n"
     ]
    }
   ],
   "source": [
    "# Pythonのモジュールがある\n",
    "import bisect\n",
    "\n",
    "N, K = map(int, input().split())\n",
    "A = list(map(int, input().split()))\n",
    "\n",
    "ok = bisect.bisect_left(A, K)\n",
    "if ok == N:\n",
    "    print(-1)\n",
    "else:\n",
    "    print(ok)"
   ]
  },
  {
   "cell_type": "markdown",
   "metadata": {},
   "source": [
    "## ABC146-C"
   ]
  },
  {
   "cell_type": "code",
   "execution_count": 9,
   "metadata": {},
   "outputs": [
    {
     "name": "stdin",
     "output_type": "stream",
     "text": [
      " 1234 56789 314159265\n"
     ]
    }
   ],
   "source": [
    "A, B, X = map(int, input().split())"
   ]
  },
  {
   "cell_type": "code",
   "execution_count": 10,
   "metadata": {},
   "outputs": [
    {
     "name": "stdout",
     "output_type": "stream",
     "text": [
      "254309\n"
     ]
    }
   ],
   "source": [
    "N = min(10**9, X)\n",
    "ok = N+1\n",
    "ng = 0\n",
    "while abs(ok-ng) > 1:\n",
    "    mid = (ok+ng) // 2\n",
    "    target = A*mid + B*len(str(mid))\n",
    "    if X >= target:\n",
    "        ng = mid\n",
    "    else:\n",
    "        ok = mid\n",
    "\n",
    "print(ng)"
   ]
  },
  {
   "cell_type": "markdown",
   "metadata": {},
   "source": [
    "## 二分探索の形に持ち込む問題"
   ]
  },
  {
   "cell_type": "markdown",
   "metadata": {},
   "source": [
    "## ARC050-B"
   ]
  },
  {
   "cell_type": "code",
   "execution_count": null,
   "metadata": {},
   "outputs": [],
   "source": [
    "R, B = map(int, input().split())\n",
    "x, y = map(int, input().split())\n",
    "\n",
    "# 花束をX個作れるかどうかを判定する問題と考える\n",
    "# ok: 今作ることができるとわかっている花束の個数Xのうち、最大の値\n",
    "# ng: 今作ることができるとわかっている花束の個数Xのうち、最小の値\n",
    "ok = 0\n",
    "ng = 10**18 + 1\n",
    "\n",
    "def check(X):\n",
    "    r = R - X\n",
    "    b = B - X\n",
    "    if r < 0 or b < 0:\n",
    "        return False\n",
    "    num = r // (x-1) + b // (y-1)\n",
    "    return (num >= X)\n",
    "\n",
    "while abs(ok-ng) > 1:\n",
    "    mid = (ok+ng) // 2\n",
    "    if check(mid):\n",
    "        ok = mid\n",
    "    else:\n",
    "        ng = mid\n",
    "\n",
    "print(ok)\n"
   ]
  }
 ],
 "metadata": {
  "kernelspec": {
   "display_name": "Python 3",
   "language": "python",
   "name": "python3"
  },
  "language_info": {
   "codemirror_mode": {
    "name": "ipython",
    "version": 3
   },
   "file_extension": ".py",
   "mimetype": "text/x-python",
   "name": "python",
   "nbconvert_exporter": "python",
   "pygments_lexer": "ipython3",
   "version": "3.8.3"
  }
 },
 "nbformat": 4,
 "nbformat_minor": 4
}
