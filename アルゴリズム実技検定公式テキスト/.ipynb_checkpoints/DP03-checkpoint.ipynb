{
 "cells": [
  {
   "cell_type": "markdown",
   "metadata": {},
   "source": [
    "# 集合に対する全探索と動的計画法\n",
    "---"
   ]
  },
  {
   "cell_type": "code",
   "execution_count": 2,
   "metadata": {},
   "outputs": [
    {
     "name": "stdout",
     "output_type": "stream",
     "text": [
      "11\n",
      "1\n",
      "10\n",
      "12\n",
      "1\n"
     ]
    }
   ],
   "source": [
    "# ビット演算の基本\n",
    "# ビットごとのOR\n",
    "print(3|9)\n",
    "\n",
    "# ビットごとのAND\n",
    "print(3&9)\n",
    "\n",
    "# ビットごとのXOR\n",
    "print(3^9)\n",
    "\n",
    "# 左ビットシフト\n",
    "print(3 << 2)\n",
    "\n",
    "# 右ビットシフト\n",
    "print(3 >> 1)"
   ]
  },
  {
   "cell_type": "markdown",
   "metadata": {},
   "source": [
    "## 集合の全探索\n",
    "### アルゴリズム実技検定　G問題"
   ]
  },
  {
   "cell_type": "code",
   "execution_count": 8,
   "metadata": {},
   "outputs": [
    {
     "name": "stdin",
     "output_type": "stream",
     "text": [
      " 3\n",
      " 1 1\n",
      " 1\n"
     ]
    },
    {
     "name": "stdout",
     "output_type": "stream",
     "text": [
      "3\n"
     ]
    }
   ],
   "source": [
    "N = int(input())\n",
    "A = []\n",
    "for i in range(N-1):\n",
    "    # AはA[i][i+1]からスタートするため、0からiまでの(i+1)個はダミーで埋める\n",
    "    lst = list(map(int, input().split()))\n",
    "    A.append([0]*(i+1) + lst)\n",
    "\n",
    "# 集合としてありうるものの個数。2**Nでも同じ\n",
    "ALL = 1<<N\n",
    "\n",
    "# happy[n]:nで表現される集合をグループにした時の幸福度\n",
    "happy = [0]*ALL\n",
    "\n",
    "# nで表現される集合に要素iが含まれるかを判定してTrue/Falseを返す関数\n",
    "def has_bit(n, i):\n",
    "    return (n & (1<<i) > 0)\n",
    "\n",
    "# happyの値を前もって計算する\n",
    "for n in range(ALL):\n",
    "    for i in range(N):\n",
    "        for j in range(i+1, N):\n",
    "            if has_bit(n, i) and has_bit(n, j):\n",
    "                happy[n] += A[i][j]\n",
    "                \n",
    "# 答えの値。非常に小さな値で初期化して、maxで更新する\n",
    "ans = -10 * 10**4\n",
    "\n",
    "for n1 in range(ALL):\n",
    "    for n2 in range(ALL):\n",
    "        # n1とn2で重複があれば無視する\n",
    "        if n1&n2 > 0:\n",
    "            continue\n",
    "        # n3を補集合として求めて答えを更新する\n",
    "        n3 = ALL-1 - (n1|n2)\n",
    "        ans = max(ans, happy[n1] + happy[n2], happy[n3])\n",
    "\n",
    "print(ans)"
   ]
  },
  {
   "cell_type": "markdown",
   "metadata": {},
   "source": [
    "## 巡回セールスマン問題\n",
    "### 典型アルゴリズム問題集　C　bit DPの問題\n",
    "https://atcoder.jp/contests/typical-algorithm/tasks"
   ]
  },
  {
   "cell_type": "code",
   "execution_count": 10,
   "metadata": {},
   "outputs": [
    {
     "data": {
      "text/plain": [
       "'0b100000000'"
      ]
     },
     "execution_count": 10,
     "metadata": {},
     "output_type": "execute_result"
    }
   ],
   "source": [
    "# 2進数で考え、訪れた都市を1、訪れていない都市を0で表現\n",
    "# ex) 8番目の都市を訪れたことを表現\n",
    "bin(1<<8)\n",
    "\n",
    "'''\n",
    "例えば、すでに訪れた都市が{2, 3}で、最後にいる都市が3であるとき、集合{2, 3}は二進数で1100と表せる。\n",
    "つまり整数で12と表現することができるため、これはcost[12][3]に含まれる状態と言える。\n",
    "これを全ての都市の組み合わせに適用し、最小のコストを動的計画法によって計算していく。\n",
    "'''"
   ]
  },
  {
   "cell_type": "code",
   "execution_count": 11,
   "metadata": {},
   "outputs": [
    {
     "name": "stdin",
     "output_type": "stream",
     "text": [
      " 3\n",
      " 1 2 3 4\n",
      " 1 2 3 4\n",
      " 1 2 3 4\n"
     ]
    }
   ],
   "source": [
    "N = int(input())\n",
    "A = [list(map(int, input().split())) for _ in range(N)]\n",
    "\n",
    "ALL = 1<<N\n",
    "\n",
    "# cost[n][i] : 訪れた都市の集合がnで、最後にいる都市がiである時のコストの最小値\n",
    "cost = [[10**100]*N for _ in range(ALL)]\n",
    "\n",
    "# 初期条件。最初にいる時の始点はnには含めない\n",
    "cost[0][0] = 0\n",
    "\n",
    "# nで表現される集合に要素iが含まれているかを判断してTrue/Falseを返す関数\n",
    "def has_bit(n, i):\n",
    "    return (n & (1<<i) > 0)\n",
    "\n",
    "for n in range(ALL):\n",
    "    for i in range(N):\n",
    "        # iからjに移動する遷移を試す\n",
    "        for j in range(N):\n",
    "            # すでに訪問済か、同じ都市は無視する\n",
    "            if has_bit(n, j) or i == j:\n",
    "                continue\n",
    "            cost[n|(1<<j)][j] = min(cost[n|(1<<j)][j], cost[n][j] + A[i][j])\n",
    "            \n",
    "# 全都市を訪問して始点に戻ってくる最小のコストが答え\n",
    "print(cost[ALL-1][0])"
   ]
  },
  {
   "cell_type": "code",
   "execution_count": 15,
   "metadata": {},
   "outputs": [
    {
     "name": "stdout",
     "output_type": "stream",
     "text": [
      "10\n"
     ]
    }
   ],
   "source": [
    "if not 4 & (1<<3):\n",
    "    print(10)"
   ]
  },
  {
   "cell_type": "markdown",
   "metadata": {},
   "source": [
    "## 半分全列挙\n",
    "### ARC017-C"
   ]
  },
  {
   "cell_type": "code",
   "execution_count": null,
   "metadata": {},
   "outputs": [],
   "source": [
    "'''\n",
    "考え方\n",
    "AとBの半分ずつに分けて考え、それぞれ全列挙する。\n",
    "このときAの重さの合計がWAだったとして、Bから重さの合計がX-WAであるものを組み合わせると、全体の重さの合計がXになる。\n",
    "'''\n",
    "\n",
    "from collections import defaultdict\n",
    "N, X = list(map(int, input().split()))\n",
    "\n",
    "# 偶数番目と奇数番目で半分ずつに振り分けていく\n",
    "A = []\n",
    "B = []\n",
    "for i in range(N):\n",
    "    w = int(input())\n",
    "    if i%2 == 0:\n",
    "        A.append(w)\n",
    "    else:\n",
    "        B.append(w)\n",
    "        \n",
    "# nで表現される集合に要素iが含まれているかを判定して\n",
    "# True/Falseで返す関数\n",
    "def has_bit(n, i):\n",
    "    return (n & (1<<i) > 0)\n",
    "\n",
    "# グループBを全列挙して重さ合計ごとに集計\n",
    "dic = defaultdict(int)\n",
    "for n in range(1<<len(B)):\n",
    "    s = 0\n",
    "    for i in range(N):\n",
    "        if has_bit(n, i):\n",
    "            s += B[i]\n",
    "    dic[s] += 1\n",
    "        \n",
    "# グループAを全列挙して答えを求める\n",
    "ans = 0\n",
    "for n in range(1<<len(A)):\n",
    "    s = 0\n",
    "    for i in range(N):\n",
    "        if has_bit(n, i):\n",
    "            s += A[i]\n",
    "    ans += dic[X-s]\n",
    "    \n",
    "print(ans)"
   ]
  }
 ],
 "metadata": {
  "kernelspec": {
   "display_name": "Python 3",
   "language": "python",
   "name": "python3"
  },
  "language_info": {
   "codemirror_mode": {
    "name": "ipython",
    "version": 3
   },
   "file_extension": ".py",
   "mimetype": "text/x-python",
   "name": "python",
   "nbconvert_exporter": "python",
   "pygments_lexer": "ipython3",
   "version": "3.8.3"
  }
 },
 "nbformat": 4,
 "nbformat_minor": 4
}
